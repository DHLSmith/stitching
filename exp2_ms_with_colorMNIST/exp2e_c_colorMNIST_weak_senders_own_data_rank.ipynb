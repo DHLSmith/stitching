{
 "cells": [
  {
   "cell_type": "markdown",
   "id": "46e81ec0-e3c4-4060-97c1-bfccf47bc350",
   "metadata": {},
   "source": [
    "# Sender Model's data for Stitch, unbias trained receiver, different sender networks\n",
    "bg_unbiased means digit and bg_colour are unrelated, but the model is trained and tested on the background.\n",
    "\n",
    "bg_colour will be varied by 10% in each channel\n",
    "\n",
    "In the original exp2e, all stitches were trained on the bias dataset. In this version, the stitch is trained on the dataset used to train the sender model. Hardcoded this test to only stitch bw to colour-only and vice versa\n",
    "\n",
    "Try the different sender networks at all different stitch levels\n",
    "## Rank\n",
    "Also perform rank analysis on the stitched networks based on exp1e\n",
    "## 4 Epochs\n",
    "Only do 4 epochs of training (keep 10 epochs of stitch training) so that the initial models are weaker\n",
    "## Consistency - set train_all to False and use the original trained networks"
   ]
  },
  {
   "cell_type": "code",
   "execution_count": 1,
   "id": "51fc60f8-f6f6-469c-8705-c9015bd43951",
   "metadata": {},
   "outputs": [],
   "source": [
    "# Packages\n",
    "%matplotlib inline\n",
    "\n",
    "import argparse\n",
    "import gc\n",
    "import os.path\n",
    "\n",
    "import pandas as pd\n",
    "from torch.linalg import LinAlgError\n",
    "\n",
    "import matplotlib.pyplot as plt\n",
    "import torchvision\n",
    "import torch\n",
    "from torch import optim\n",
    "\n",
    "from torch import nn\n",
    "from torch.utils.data import DataLoader\n",
    "from torchvision.datasets import MNIST\n",
    "import torchvision.transforms as transforms\n",
    "import datetime\n",
    "\n",
    "import random\n",
    "import numpy as np\n",
    "\n",
    "import sys\n",
    "import os\n",
    "# add the path to find colour_mnist\n",
    "sys.path.append(os.path.abspath('../ReferenceCode'))\n",
    "import colour_mnist\n",
    "from stitch_utils import train_model, RcvResNet18, StitchedResNet18, get_layer_output_shape\n",
    "from stitch_utils import generate_activations, SyntheticDataset\n",
    "import stitch_utils\n",
    "\n",
    "# add the path to find the rank analysis code\n",
    "# https://github.com/DHLSmith/jons-tunnel-effect/tree/NeurIPSPaper\n",
    "\n",
    "sys.path.append(os.path.abspath('../../jons-tunnel-effect/'))\n",
    "from utils.modelfitting import evaluate_model, set_seed\n",
    "from extract_weight_rank import install_hooks, perform_analysis\n",
    "\n",
    "import torchvision\n",
    "import torchvision.transforms as transforms\n",
    "from torchvision.datasets import MNIST\n",
    "\n",
    "# To track memory usage\n",
    "import psutil\n",
    "process = psutil.Process()\n",
    "            \n",
    "\n",
    "def logtofile(log_text, verbose=True):\n",
    "    if verbose:\n",
    "        print(log_text)\n",
    "    with open(save_log_as, \"a\") as f:    \n",
    "        print(log_text, file=f)"
   ]
  },
  {
   "cell_type": "code",
   "execution_count": 2,
   "id": "6761870b-2996-4763-8d90-76529ec5822e",
   "metadata": {},
   "outputs": [],
   "source": [
    "# Set Parameters\n",
    "\n",
    "# fix random seed for reproducibility\n",
    "seed = 13\n",
    "torch.manual_seed(seed)\n",
    "torch.backends.cudnn.benchmark = False\n",
    "torch.backends.cudnn.deterministic = True\n",
    "random.seed(seed)\n",
    "torch.cuda.manual_seed(seed)\n",
    "np.random.seed(seed)\n",
    "\n",
    "results_root = \"results_2e_c\"\n",
    "save_stitch_delta = False\n",
    "train_all = False\n",
    "\n",
    "# MIX is 1/3 bgonly, 1/3 mnist only, 1/3 biased data\n",
    "train_mix_mnist_model = train_all  # when False, automatically loads a trained model\n",
    "mix_mnist_model_to_load = \"./results_4_epochs/2024-08-06_12-57-58_SEED60_EPOCHS4_BGN0.1_exp2e_ResNet18_mix_mnist.weights\"\n",
    "\n",
    "# BW is greyscale mnist with no colour added\n",
    "train_bw_mnist_model = train_all  # when False, automatically loads a trained model\n",
    "bw_mnist_model_to_load = './results_4_epochs/2024-08-01_00-44-53_SEED57_EPOCHS4_BGN0.1_exp2d_ResNet18_bw_mnist.weights'\n",
    "\n",
    "# BG_ONLY contains no mnist data, just a coloured background\n",
    "train_bg_only_colour_mnist_model = train_all  # when False, automatically loads a trained model\n",
    "bg_only_colour_mnist_model_to_load =  \"./results_4_epochs/2024-08-01_00-44-53_SEED57_EPOCHS4_BGN0.1_exp2d_ResNet18_bg_only_colour_mnist.weights\"\n",
    "\n",
    "# BG_UNBIASED is digits with randomly selected colour background. Targets represent the colour\n",
    "train_bg_unbiased_colour_mnist_model = train_all  # when False, automatically loads a trained model\n",
    "bg_unbiased_colour_mnist_model_to_load = \"./results_4_epochs/2024-08-06_12-57-58_SEED60_EPOCHS4_BGN0.1_exp2e_ResNet18_bg_unbiased_colour_mnist.weights\"\n",
    "\n",
    "# BIASED is digits with consistent per-class colour background. \n",
    "train_biased_colour_mnist_model = train_all  # when False, automatically loads a trained model\n",
    "biased_colour_mnist_model_to_load = \"./results_4_epochs/2024-08-06_12-57-58_SEED60_EPOCHS4_BGN0.1_exp2e_ResNet18_biased_colour_mnist.weights\"\n",
    "\n",
    "# UNBIASED is digits with randoly selected colour background. Targets are digit values\n",
    "train_unbiased_colour_mnist_model = train_all  # when False, automatically loads a trained model\n",
    "unbiased_colour_mnist_model_to_load = \"./results_4_epochs/2024-08-06_12-57-58_SEED60_EPOCHS4_BGN0.1_exp2e_ResNet18_unbiased_colour_mnist.weights\"\n",
    "original_train_epochs = 4\n",
    "bg_noise = 0.1\n",
    "\n",
    "stitch_train_epochs = 10\n",
    "\n",
    "batch_size = 128"
   ]
  },
  {
   "cell_type": "code",
   "execution_count": 3,
   "id": "20ee6e98-a6f2-4647-b378-5f7b1af48581",
   "metadata": {},
   "outputs": [
    {
     "name": "stdout",
     "output_type": "stream",
     "text": [
      "Executed at 2024-10-24_00-30-23\n",
      "logging to ./results_2e_c/2024-10-24_00-30-23_SEED13_EPOCHS4_BGN0.1_exp2e_ResNet18_log.txt\n",
      "seed=13\n",
      "bg_noise=0.1\n",
      "train_mix_mnist_model=False\n",
      "mix_mnist_model_to_load='./results_4_epochs/2024-08-06_12-57-58_SEED60_EPOCHS4_BGN0.1_exp2e_ResNet18_mix_mnist.weights'\n",
      "train_bw_mnist_model=False\n",
      "bw_mnist_model_to_load='./results_4_epochs/2024-08-01_00-44-53_SEED57_EPOCHS4_BGN0.1_exp2d_ResNet18_bw_mnist.weights'\n",
      "train_bg_only_colour_mnist_model=False\n",
      "bg_only_colour_mnist_model_to_load='./results_4_epochs/2024-08-01_00-44-53_SEED57_EPOCHS4_BGN0.1_exp2d_ResNet18_bg_only_colour_mnist.weights'\n",
      "train_bg_unbiased_colour_mnist_model=False\n",
      "bg_unbiased_colour_mnist_model_to_load='./results_4_epochs/2024-08-06_12-57-58_SEED60_EPOCHS4_BGN0.1_exp2e_ResNet18_bg_unbiased_colour_mnist.weights'\n",
      "train_biased_colour_mnist_model=False\n",
      "biased_colour_mnist_model_to_load='./results_4_epochs/2024-08-06_12-57-58_SEED60_EPOCHS4_BGN0.1_exp2e_ResNet18_biased_colour_mnist.weights'\n",
      "train_unbiased_colour_mnist_model=False\n",
      "unbiased_colour_mnist_model_to_load='./results_4_epochs/2024-08-06_12-57-58_SEED60_EPOCHS4_BGN0.1_exp2e_ResNet18_unbiased_colour_mnist.weights'\n",
      "stitch_train_epochs=10\n",
      "================================================\n"
     ]
    }
   ],
   "source": [
    "# Generate filenames and log the setup details\n",
    "formatted_time = datetime.datetime.now().strftime(\"%Y-%m-%d_%H-%M-%S\")\n",
    "filename_prefix = f\"./{results_root}/{formatted_time}_SEED{seed}_EPOCHS{original_train_epochs}_BGN{bg_noise}_exp2e_ResNet18\"\n",
    "save_mix_mnist_model_as = f\"{filename_prefix}_mix_mnist.weights\"\n",
    "save_bw_mnist_model_as = f\"{filename_prefix}_bw_mnist.weights\"\n",
    "save_bg_only_colour_mnist_model_as = f\"{filename_prefix}_bg_only_colour_mnist.weights\"\n",
    "save_bg_unbiased_colour_mnist_model_as = f\"{filename_prefix}_bg_unbiased_colour_mnist.weights\"\n",
    "save_biased_colour_mnist_model_as = f\"{filename_prefix}_biased_colour_mnist.weights\"\n",
    "save_unbiased_colour_mnist_model_as = f\"{filename_prefix}_unbiased_colour_mnist.weights\"\n",
    "save_log_as = f\"{filename_prefix}_log.txt\"\n",
    "\n",
    "colour_mnist_shape = (3,28,28)\n",
    "\n",
    "\n",
    "logtofile(f\"Executed at {formatted_time}\")\n",
    "logtofile(f\"logging to {save_log_as}\")\n",
    "logtofile(f\"{seed=}\")\n",
    "logtofile(f\"{bg_noise=}\")\n",
    "\n",
    "logtofile(f\"{train_mix_mnist_model=}\")\n",
    "if train_mix_mnist_model:\n",
    "    logtofile(f\"{save_mix_mnist_model_as=}\")\n",
    "    logtofile(f\"{original_train_epochs=}\")\n",
    "else:\n",
    "    logtofile(f\"{mix_mnist_model_to_load=}\")\n",
    "\n",
    "logtofile(f\"{train_bw_mnist_model=}\")\n",
    "if train_bw_mnist_model:\n",
    "    logtofile(f\"{save_bw_mnist_model_as=}\")\n",
    "    logtofile(f\"{original_train_epochs=}\")\n",
    "else:\n",
    "    logtofile(f\"{bw_mnist_model_to_load=}\")\n",
    "    \n",
    "logtofile(f\"{train_bg_only_colour_mnist_model=}\")\n",
    "if train_bg_only_colour_mnist_model:\n",
    "    logtofile(f\"{save_bg_only_colour_mnist_model_as=}\")\n",
    "    logtofile(f\"{original_train_epochs=}\")\n",
    "else:\n",
    "    logtofile(f\"{bg_only_colour_mnist_model_to_load=}\")\n",
    "    \n",
    "logtofile(f\"{train_bg_unbiased_colour_mnist_model=}\")\n",
    "if train_bg_unbiased_colour_mnist_model:\n",
    "    logtofile(f\"{save_bg_unbiased_colour_mnist_model_as=}\")\n",
    "    logtofile(f\"{original_train_epochs=}\")\n",
    "else:\n",
    "    logtofile(f\"{bg_unbiased_colour_mnist_model_to_load=}\")\n",
    "\n",
    "logtofile(f\"{train_biased_colour_mnist_model=}\")\n",
    "if train_biased_colour_mnist_model:\n",
    "    logtofile(f\"{save_biased_colour_mnist_model_as=}\")\n",
    "    logtofile(f\"{original_train_epochs=}\")\n",
    "else:\n",
    "    logtofile(f\"{biased_colour_mnist_model_to_load=}\")\n",
    "\n",
    "logtofile(f\"{train_unbiased_colour_mnist_model=}\")\n",
    "if train_unbiased_colour_mnist_model:\n",
    "    logtofile(f\"{save_unbiased_colour_mnist_model_as=}\")\n",
    "    logtofile(f\"{original_train_epochs=}\")\n",
    "else:\n",
    "    logtofile(f\"{unbiased_colour_mnist_model_to_load=}\")\n",
    "\n",
    "logtofile(f\"{stitch_train_epochs=}\")\n",
    "logtofile(f\"================================================\")"
   ]
  },
  {
   "cell_type": "markdown",
   "id": "6cc621f6-55e8-4191-8288-dc2493cd6bff",
   "metadata": {},
   "source": [
    "mnist and cifar-10 both use 10-classes, with 60_000 train samples and 10_000 test samples. "
   ]
  },
  {
   "cell_type": "code",
   "execution_count": 4,
   "id": "d34a54d2-c8fa-4f51-8809-7a40b4fefc6c",
   "metadata": {},
   "outputs": [],
   "source": [
    "# Set up dataloaders\n",
    "transform_bw = transforms.Compose([\n",
    "    transforms.Grayscale(num_output_channels=3),  # Convert to 3 channels    \n",
    "    transforms.ToTensor(),  # convert to tensor. We always do this one    \n",
    "    transforms.Normalize((0.1307,) * 3, (0.3081,) * 3)     \n",
    "])\n",
    "\n",
    "mnist_train = MNIST(\"./MNIST\", train=True, download=True, transform=transform_bw)\n",
    "mnist_test = MNIST(\"./MNIST\", train=False, download=True, transform=transform_bw)\n",
    "\n",
    "bw_train_dataloader = DataLoader(mnist_train, batch_size=batch_size, shuffle=True, drop_last=True)\n",
    "bw_test_dataloader  = DataLoader(mnist_test,  batch_size=batch_size, shuffle=True, drop_last=False)\n",
    "\n",
    "# mix dataloader\n",
    "mix_train_dataloader = colour_mnist.get_mixed_mnist_dataloader(root=\"./MNIST\", batch_size=batch_size, train=True, bg_noise_level=bg_noise, standard_getitem=True)\n",
    "mix_test_dataloader = colour_mnist.get_mixed_mnist_dataloader(root=\"./MNIST\", batch_size=batch_size,  train=False, bg_noise_level=bg_noise, standard_getitem=True)\n",
    "\n",
    "# bg_only means no digits - we will use colour as label\n",
    "bg_only_train_dataloader = colour_mnist.get_biased_mnist_dataloader(root=\"./MNIST\", batch_size=batch_size, data_label_correlation=1.0, train=True, bg_noise_level=bg_noise, bg_only=True, standard_getitem=True)\n",
    "bg_only_test_dataloader = colour_mnist.get_biased_mnist_dataloader(root=\"./MNIST\", batch_size=batch_size, data_label_correlation=1.0, train=False, bg_noise_level=bg_noise, bg_only=True, standard_getitem=True)\n",
    "\n",
    "# unbiased means each digit has correct label and random colour - but bg means we will use colour as label (i.e. the bias_target will be the target)\n",
    "bg_unbiased_train_dataloader = colour_mnist.get_biased_mnist_dataloader(root=\"./MNIST\", batch_size=batch_size, data_label_correlation=0.1, train=True, bg_noise_level=bg_noise, bias_targets_as_targets=True)\n",
    "bg_unbiased_test_dataloader = colour_mnist.get_biased_mnist_dataloader(root=\"./MNIST\", batch_size=batch_size, data_label_correlation=0.1, train=False, bg_noise_level=bg_noise, bias_targets_as_targets=True)\n",
    "\n",
    "# biased means each digit has correct label and consistent colour - Expect network to learn the colours only\n",
    "biased_train_dataloader = colour_mnist.get_biased_mnist_dataloader(root=\"./MNIST\", batch_size=batch_size, data_label_correlation=1.0, train=True, bg_noise_level=bg_noise, standard_getitem=True)\n",
    "biased_test_dataloader = colour_mnist.get_biased_mnist_dataloader(root=\"./MNIST\", batch_size=batch_size, data_label_correlation=1.0, train=False, bg_noise_level=bg_noise, standard_getitem=True)\n",
    "\n",
    "# unbiased means each digit has correct label and random colour - Expect network to disregard colours?\n",
    "unbiased_train_dataloader = colour_mnist.get_biased_mnist_dataloader(root=\"./MNIST\", batch_size=batch_size, data_label_correlation=0.1, train=True, bg_noise_level=bg_noise, standard_getitem=True)\n",
    "unbiased_test_dataloader = colour_mnist.get_biased_mnist_dataloader(root=\"./MNIST\", batch_size=batch_size, data_label_correlation=0.1, train=False, bg_noise_level=bg_noise, standard_getitem=True)"
   ]
  },
  {
   "cell_type": "markdown",
   "id": "24842d82-5f62-4d1b-acc5-d1997a08b0b9",
   "metadata": {},
   "source": [
    "## Set up resnet18 models and train it on versions of MNIST"
   ]
  },
  {
   "cell_type": "code",
   "execution_count": 5,
   "id": "cf635cfd-a9ad-4e37-98a0-80d0db2a3b9f",
   "metadata": {},
   "outputs": [
    {
     "name": "stdout",
     "output_type": "stream",
     "text": [
      "Processing for key='bw'\n",
      "val['loadfrom']='./results_4_epochs/2024-08-01_00-44-53_SEED57_EPOCHS4_BGN0.1_exp2d_ResNet18_bw_mnist.weights'\n",
      "Processing for key='bgonly'\n",
      "val['loadfrom']='./results_4_epochs/2024-08-01_00-44-53_SEED57_EPOCHS4_BGN0.1_exp2d_ResNet18_bg_only_colour_mnist.weights'\n"
     ]
    }
   ],
   "source": [
    "\n",
    "\n",
    "process_structure = dict()\n",
    "device = 'cuda:0'\n",
    "\n",
    "\n",
    "# process_structure[\"mix\"] = dict()\n",
    "process_structure[\"bw\"] = dict()\n",
    "process_structure[\"bgonly\"] = dict()\n",
    "# process_structure[\"bg\"] = dict()\n",
    "# process_structure[\"bias\"]      = dict()\n",
    "# process_structure[\"unbias\"]    = dict()\n",
    "\n",
    "# \"mix\"\n",
    "# process_structure[\"mix\"][\"model\"] = torchvision.models.resnet18(num_classes=10).to(device) # Untrained model\n",
    "# process_structure[\"mix\"][\"train\"] = train_mix_mnist_model \n",
    "# process_structure[\"mix\"][\"train_loader\"] = mix_train_dataloader\n",
    "# process_structure[\"mix\"][\"test_loader\"] = mix_test_dataloader\n",
    "# process_structure[\"mix\"][\"saveas\"] = save_mix_mnist_model_as\n",
    "# process_structure[\"mix\"][\"loadfrom\"] = mix_mnist_model_to_load\n",
    "\n",
    "# \"bw\"\n",
    "process_structure[\"bw\"][\"model\"] = torchvision.models.resnet18(num_classes=10).to(device) # Untrained model\n",
    "process_structure[\"bw\"][\"train\"] = train_bw_mnist_model \n",
    "process_structure[\"bw\"][\"train_loader\"] = bw_train_dataloader\n",
    "process_structure[\"bw\"][\"test_loader\"] = bw_test_dataloader\n",
    "process_structure[\"bw\"][\"saveas\"] = save_bw_mnist_model_as\n",
    "process_structure[\"bw\"][\"loadfrom\"] = bw_mnist_model_to_load\n",
    "\n",
    "# \"bg_only_colour\"\n",
    "process_structure[\"bgonly\"][\"model\"] = torchvision.models.resnet18(num_classes=10).to(device) # Untrained model\n",
    "process_structure[\"bgonly\"][\"train\"] = train_bg_only_colour_mnist_model \n",
    "process_structure[\"bgonly\"][\"train_loader\"] = bg_only_train_dataloader\n",
    "process_structure[\"bgonly\"][\"test_loader\"] = bg_only_test_dataloader\n",
    "process_structure[\"bgonly\"][\"saveas\"] = save_bg_only_colour_mnist_model_as\n",
    "process_structure[\"bgonly\"][\"loadfrom\"] = bg_only_colour_mnist_model_to_load\n",
    "\n",
    "# \"bg_unbiased_colour\"\n",
    "# process_structure[\"bg\"][\"model\"] = torchvision.models.resnet18(num_classes=10).to(device) # Untrained model\n",
    "# process_structure[\"bg\"][\"train\"] = train_bg_unbiased_colour_mnist_model \n",
    "# process_structure[\"bg\"][\"train_loader\"] = bg_unbiased_train_dataloader\n",
    "# process_structure[\"bg\"][\"test_loader\"] = bg_unbiased_test_dataloader\n",
    "# process_structure[\"bg\"][\"saveas\"] = save_bg_unbiased_colour_mnist_model_as\n",
    "# process_structure[\"bg\"][\"loadfrom\"] = bg_unbiased_colour_mnist_model_to_load\n",
    "\n",
    "# \"biased_colour_mnist\"\n",
    "# process_structure[\"bias\"][\"model\"] = torchvision.models.resnet18(num_classes=10).to(device) # Untrained model\n",
    "# process_structure[\"bias\"][\"train\"] = train_biased_colour_mnist_model\n",
    "# process_structure[\"bias\"][\"train_loader\"] = biased_train_dataloader\n",
    "# process_structure[\"bias\"][\"test_loader\"] = biased_test_dataloader\n",
    "# process_structure[\"bias\"][\"saveas\"] = save_biased_colour_mnist_model_as\n",
    "# process_structure[\"bias\"][\"loadfrom\"] =  biased_colour_mnist_model_to_load\n",
    "# \n",
    "# # \"unbiased_colour_mnist\"\n",
    "# process_structure[\"unbias\"][\"model\"] = torchvision.models.resnet18(num_classes=10).to(device) # Untrained model\n",
    "# process_structure[\"unbias\"][\"train\"] = train_unbiased_colour_mnist_model\n",
    "# process_structure[\"unbias\"][\"train_loader\"] = unbiased_train_dataloader\n",
    "# process_structure[\"unbias\"][\"test_loader\"] = unbiased_test_dataloader\n",
    "# process_structure[\"unbias\"][\"saveas\"] = save_unbiased_colour_mnist_model_as\n",
    "# process_structure[\"unbias\"][\"loadfrom\"] =  unbiased_colour_mnist_model_to_load\n",
    "\n",
    "for key, val in process_structure.items():\n",
    "    print(f\"Processing for {key=}\")\n",
    "    if val[\"train\"]:\n",
    "        train_model(model=val[\"model\"], train_loader=val[\"train_loader\"], \n",
    "                    epochs=original_train_epochs, saveas=val[\"saveas\"], \n",
    "                    description=key, device=device, logtofile=logtofile)\n",
    "    else:\n",
    "        logtofile(f\"{val['loadfrom']=}\")\n",
    "        val[\"model\"].load_state_dict(torch.load(val[\"loadfrom\"], map_location=torch.device(device)))\n",
    "    val[\"model\"].eval()\n"
   ]
  },
  {
   "cell_type": "markdown",
   "id": "b169c5c7-7929-48e1-82eb-6f047aa4e5f2",
   "metadata": {},
   "source": [
    "## Measure the Accuracy, Record the Confusion Matrix\n"
   ]
  },
  {
   "cell_type": "code",
   "execution_count": 6,
   "id": "4fbb925a-269d-4027-9500-6cdce4de9d70",
   "metadata": {},
   "outputs": [
    {
     "name": "stdout",
     "output_type": "stream",
     "text": [
      "Entering Confusion\n",
      "Accuracy Calculation for ResNet18 with key='bw'\n",
      "Test the Trained Resnet18 against OWN TEST LOADER: key='bw'\n",
      "Test Accuracy: 98.85 %\n",
      "Confusion Matrix\n",
      "tensor([[ 976,    0,    1,    0,    0,    0,    0,    2,    1,    0],\n",
      "        [   0, 1131,    0,    0,    0,    1,    0,    2,    0,    1],\n",
      "        [   3,    0, 1017,    0,    2,    0,    1,    8,    1,    0],\n",
      "        [   1,    0,    0, 1004,    0,    3,    0,    2,    0,    0],\n",
      "        [   0,    0,    0,    0,  965,    0,    2,   10,    0,    5],\n",
      "        [   1,    0,    0,    8,    0,  877,    4,    0,    2,    0],\n",
      "        [   5,    1,    0,    0,    3,    0,  947,    0,    2,    0],\n",
      "        [   0,    3,    0,    0,    0,    0,    0, 1024,    1,    0],\n",
      "        [   2,    0,    1,    4,    0,    1,    2,    2,  959,    3],\n",
      "        [   0,    0,    0,    4,    4,    4,    0,   10,    2,  985]],\n",
      "       dtype=torch.int32)\n",
      "tensor(10000)\n",
      "Accuracy Calculation for ResNet18 with key='bgonly'\n",
      "Test the Trained Resnet18 against OWN TEST LOADER: key='bgonly'\n",
      "Test Accuracy: 100.00 %\n",
      "Confusion Matrix\n",
      "tensor([[ 980,    0,    0,    0,    0,    0,    0,    0,    0,    0],\n",
      "        [   0, 1135,    0,    0,    0,    0,    0,    0,    0,    0],\n",
      "        [   0,    0, 1032,    0,    0,    0,    0,    0,    0,    0],\n",
      "        [   0,    0,    0, 1010,    0,    0,    0,    0,    0,    0],\n",
      "        [   0,    0,    0,    0,  982,    0,    0,    0,    0,    0],\n",
      "        [   0,    0,    0,    0,    0,  892,    0,    0,    0,    0],\n",
      "        [   0,    0,    0,    0,    0,    0,  958,    0,    0,    0],\n",
      "        [   0,    0,    0,    0,    0,    0,    0, 1028,    0,    0],\n",
      "        [   0,    0,    0,    0,    0,    0,    0,    0,  974,    0],\n",
      "        [   0,    0,    0,    0,    0,    0,    0,    0,    0, 1009]],\n",
      "       dtype=torch.int32)\n",
      "tensor(10000)\n",
      "original_accuracy={'bw': 98.85, 'bgonly': 100.0}\n"
     ]
    }
   ],
   "source": [
    "logtofile(\"Entering Confusion\")\n",
    "# logtofile(process.memory_info().rss)  # in bytes \n",
    "\n",
    "original_accuracy = dict()\n",
    "for key, val in process_structure.items():\n",
    "    logtofile(f\"Accuracy Calculation for ResNet18 with {key=}\")\n",
    "    model = val[\"model\"]\n",
    "    model.eval() # ALWAYS DO THIS BEFORE YOU EVALUATE MODELS\n",
    "    \n",
    "    # Compute the model accuracy on the test set\n",
    "    correct = 0\n",
    "    total = 0\n",
    "    \n",
    "    # assuming 10 classes\n",
    "    # rows represent actual class, columns are predicted\n",
    "    confusion_matrix = torch.zeros(10,10, dtype=torch.int)\n",
    "    \n",
    "    #TDL = biased_test_dataloader  # In test 2D - ALWAYS use biased dataset to measure/train stitch\n",
    "    TDL = val[\"test_loader\"] # use the test loader for the dataset the model was trained on \n",
    "    for data in TDL:\n",
    "        inputs, labels = data\n",
    "        inputs = inputs.to(device)\n",
    "        labels = labels.to(device)\n",
    "        predictions = torch.argmax(model(inputs),1)\n",
    "        \n",
    "        matches = predictions == labels\n",
    "        correct += matches.sum().item()\n",
    "        total += len(labels)\n",
    "        for idx, l in enumerate(labels):\n",
    "            confusion_matrix[l, predictions[idx]] = 1 + confusion_matrix[l, predictions[idx]] \n",
    "    \n",
    "    logtofile(f\"Test the Trained Resnet18 against OWN TEST LOADER: {key=}\")\n",
    "    acc = ((100.0 * correct) / total)\n",
    "    logtofile('Test Accuracy: %2.2f %%' % acc)\n",
    "    original_accuracy[key] = acc\n",
    "    logtofile('Confusion Matrix')\n",
    "    logtofile(confusion_matrix)\n",
    "    logtofile(confusion_matrix.sum())\n",
    "    # logtofile(process.memory_info().rss)  # in bytes \n",
    "\n",
    "\n",
    "logtofile(f\"{original_accuracy=}\")"
   ]
  },
  {
   "cell_type": "markdown",
   "id": "da373b34-fe35-4256-a9e0-1040f699d45d",
   "metadata": {},
   "source": [
    "## Measure Rank with __OWN__ dataloader (test) before cutting and stitching"
   ]
  },
  {
   "cell_type": "code",
   "execution_count": 7,
   "id": "c4f74591-2a3f-4521-8aec-32c324125a5b",
   "metadata": {},
   "outputs": [
    {
     "name": "stdout",
     "output_type": "stream",
     "text": [
      "Entering whole model check\n",
      "Measure Rank for key='bw'\n",
      "output to ./results_2e_c_rank/bw-bias-13_2024-08-01_00-44-53_SEED57_EPOCHS4_BGN0.1_exp2d_ResNet18_bw_mnist-test.csv\n"
     ]
    },
    {
     "data": {
      "application/vnd.jupyter.widget-view+json": {
       "model_id": "120e37be2cbc4406a8cbf0b1a303da15",
       "version_major": 2,
       "version_minor": 0
      },
      "text/plain": [
       "0/1(e):   0%|          | 0/79 [00:00<?, ?it/s]"
      ]
     },
     "metadata": {},
     "output_type": "display_data"
    },
    {
     "name": "stderr",
     "output_type": "stream",
     "text": [
      "100%|███████████████████████████████████████████████████████████████████████████████████| 21/21 [00:38<00:00,  1.83s/it]\n"
     ]
    },
    {
     "name": "stdout",
     "output_type": "stream",
     "text": [
      "Measure Rank for key='bgonly'\n",
      "output to ./results_2e_c_rank/bgonly-bias-13_2024-08-01_00-44-53_SEED57_EPOCHS4_BGN0.1_exp2d_ResNet18_bg_only_colour_mnist-test.csv\n"
     ]
    },
    {
     "data": {
      "application/vnd.jupyter.widget-view+json": {
       "model_id": "8a84fdae88dc4c66a5bfe3d571aa86c1",
       "version_major": 2,
       "version_minor": 0
      },
      "text/plain": [
       "0/1(e):   0%|          | 0/79 [00:00<?, ?it/s]"
      ]
     },
     "metadata": {},
     "output_type": "display_data"
    },
    {
     "name": "stderr",
     "output_type": "stream",
     "text": [
      "100%|███████████████████████████████████████████████████████████████████████████████████| 21/21 [00:48<00:00,  2.30s/it]\n"
     ]
    }
   ],
   "source": [
    "logtofile(\"Entering whole model check\")\n",
    "# logtofile(process.memory_info().rss)  # in bytes \n",
    "\n",
    "# For the Whole Model - but we will pass it through the RcvResNet18 function to get matching feature names\n",
    "for key, val in process_structure.items():\n",
    "    \n",
    "    #TDL = biased_test_dataloader  # ALWAYS use biased dataloader for this test\n",
    "    TDL = val[\"test_loader\"] # use the test loader for the dataset the model was trained on \n",
    "    if val[\"train\"]:\n",
    "        filename = val[\"saveas\"] \n",
    "    else:    \n",
    "        filename = val[\"loadfrom\"] \n",
    "    assert os.path.exists(filename)\n",
    "    mdl = torchvision.models.resnet18(num_classes=10) # Untrained model\n",
    "    state = torch.load(filename, map_location=torch.device(\"cpu\"))\n",
    "    mdl.load_state_dict(state, assign=True)\n",
    "    mdl=mdl.to(device)\n",
    "    mdl = RcvResNet18(mdl, -1, colour_mnist_shape, device).to(device)\n",
    "\n",
    "    out_filename = filename.split('/')[-1].replace('.weights', '-test.csv')\n",
    "    \n",
    "    outpath = f\"./{results_root}_rank/{key}-bias-{seed}_{out_filename}\"  # denote output name as <model_training_type>-dataset-<name>\n",
    "    \n",
    "    if os.path.exists(f\"{outpath}\"):\n",
    "        logtofile(f\"Already evaluated for {outpath}\")\n",
    "        continue\n",
    "    logtofile(f\"Measure Rank for {key=}\")\n",
    "    print(f\"output to {outpath}\")\n",
    "            \n",
    "    params = {}\n",
    "    params[\"model\"] = key\n",
    "    params[\"dataset\"] = key\n",
    "    params[\"seed\"] = seed\n",
    "    if val[\"train\"]: # as only one network used, record its filename as both send and receive files\n",
    "        params[\"send_file\"] = val[\"saveas\"] \n",
    "        params[\"rcv_file\"] = val[\"saveas\"] \n",
    "    else:    \n",
    "        params[\"send_file\"] = val[\"loadfrom\"] \n",
    "        params[\"rcv_file\"] = val[\"loadfrom\"]     \n",
    "    \n",
    "    with torch.no_grad():\n",
    "        layers, features, handles = install_hooks(mdl)\n",
    "        \n",
    "        metrics = evaluate_model(mdl, TDL, 'acc', verbose=2)\n",
    "        params.update(metrics)\n",
    "        \n",
    "        classes = None\n",
    "        df = perform_analysis(features, classes, layers, params, n=-1)\n",
    "        df.to_csv(f\"{outpath}\")\n",
    "    for h in handles:\n",
    "        h.remove()\n",
    "    del mdl, layers, features, metrics, params, df, handles\n",
    "    gc.collect()\n",
    "    # logtofile(process.memory_info().rss)  # in bytes \n",
    "\n"
   ]
  },
  {
   "cell_type": "markdown",
   "id": "de2928d3-9c5f-411f-a590-14fd04026ab6",
   "metadata": {},
   "source": [
    "# Stitch at a given layer\n"
   ]
  },
  {
   "cell_type": "markdown",
   "id": "3cbaf773-ed43-4d91-b0a0-a35fd468ac02",
   "metadata": {},
   "source": [
    "## Train the stitch layer and check rank"
   ]
  },
  {
   "cell_type": "code",
   "execution_count": 8,
   "id": "2c29d808-b86e-4a0c-a3c5-127c952f3ab9",
   "metadata": {},
   "outputs": [
    {
     "name": "stdout",
     "output_type": "stream",
     "text": [
      "Entering Stitch/Rank\n",
      "device='cuda:0'\n",
      "NOTE: Only running stitch between different models: skipping\n",
      "Evaluate ranks and output to ./results_2e_c_rank/bw3bgonly-bw-13_2024-08-01_00-44-53_SEED57_EPOCHS4_BGN0.1_exp2d_ResNet18_bg_only_colour_mnist-test.csv\n",
      "Train the stitch to a model stitched after layer 3 from bw to bgonly\n",
      "Use the bw data loader (train and test) regardless of what bgonly was trained on\n",
      "get_layer_output_shape for type='ResNet18'\n",
      "The shape of the output from layer 3 of send_model is: torch.Size([1, 64, 7, 7])\n",
      "Epoch 0, loss 1650.40\n",
      "Epoch 1, loss 813.95\n",
      "Epoch 2, loss 642.18\n",
      "Epoch 3, loss 551.68\n",
      "Epoch 4, loss 495.92\n",
      "Epoch 5, loss 457.92\n",
      "Epoch 6, loss 428.66\n",
      "Epoch 7, loss 404.01\n",
      "Epoch 8, loss 388.04\n",
      "Epoch 9, loss 369.17\n",
      "**** Finished Training ****\n",
      "Change in stitch weights: 2.2393455505371094\n",
      "Largest abs weight change: 0.14278998970985413\n",
      "Number of weights changing > 0.1 of that: 2720\n",
      "Number of weight / bias in stitch layer is 64\n",
      "Change in stitch bias: 0.026670658960938454\n",
      "Largest abs bias change: 0.005584977567195892\n",
      "Number of bias changing > 0.1 of that: 56\n",
      "Test the trained stitch against key='bgonly' data\n",
      "Test Accuracy: 80.37 %\n",
      "Confusion Matrix\n",
      "tensor([[ 920,    0,    1,    0,    0,    7,   21,   16,   14,    1],\n",
      "        [   6, 1099,    0,    6,    7,    0,    3,    6,    6,    2],\n",
      "        [   5,    0,  779,    0,    7,    5,   25,    2,  188,   21],\n",
      "        [   1,    0,    1,  608,  225,    4,   20,    3,  138,   10],\n",
      "        [   2,    0,    0,    0,  849,    2,    6,   31,   60,   32],\n",
      "        [  10,    0,    3,    8,   14,  592,  105,    3,  142,   15],\n",
      "        [  63,    3,    2,    5,   22,    8,  739,   34,   71,   11],\n",
      "        [  13,    1,    6,    5,   54,   12,    8,  841,   31,   57],\n",
      "        [   5,    0,   11,    0,   42,   13,   32,    6,  843,   22],\n",
      "        [   4,    0,    1,    3,   42,   23,   23,   82,   64,  767]],\n",
      "       dtype=torch.int32)\n",
      "===================================================================\n"
     ]
    },
    {
     "data": {
      "application/vnd.jupyter.widget-view+json": {
       "model_id": "58fabccca2d34bc7b9f4287671212437",
       "version_major": 2,
       "version_minor": 0
      },
      "text/plain": [
       "0/1(e):   0%|          | 0/79 [00:00<?, ?it/s]"
      ]
     },
     "metadata": {},
     "output_type": "display_data"
    },
    {
     "name": "stderr",
     "output_type": "stream",
     "text": [
      "100%|███████████████████████████████████████████████████████████████████████████████████| 22/22 [00:54<00:00,  2.48s/it]\n"
     ]
    },
    {
     "name": "stdout",
     "output_type": "stream",
     "text": [
      "Evaluate ranks and output to ./results_2e_c_rank/bw4bgonly-bw-13_2024-08-01_00-44-53_SEED57_EPOCHS4_BGN0.1_exp2d_ResNet18_bg_only_colour_mnist-test.csv\n",
      "Train the stitch to a model stitched after layer 4 from bw to bgonly\n",
      "Use the bw data loader (train and test) regardless of what bgonly was trained on\n",
      "get_layer_output_shape for type='ResNet18'\n",
      "The shape of the output from layer 4 of send_model is: torch.Size([1, 64, 7, 7])\n",
      "Epoch 0, loss 1096.33\n",
      "Epoch 1, loss 412.63\n",
      "Epoch 2, loss 328.12\n",
      "Epoch 3, loss 285.18\n",
      "Epoch 4, loss 255.70\n",
      "Epoch 5, loss 228.70\n",
      "Epoch 6, loss 213.80\n",
      "Epoch 7, loss 194.68\n",
      "Epoch 8, loss 186.29\n",
      "Epoch 9, loss 176.16\n",
      "**** Finished Training ****\n",
      "Change in stitch weights: 2.0808231830596924\n",
      "Largest abs weight change: 0.15247291326522827\n",
      "Number of weights changing > 0.1 of that: 2461\n",
      "Number of weight / bias in stitch layer is 64\n",
      "Change in stitch bias: 0.026540599763393402\n",
      "Largest abs bias change: 0.005651257932186127\n",
      "Number of bias changing > 0.1 of that: 58\n",
      "Test the trained stitch against key='bgonly' data\n",
      "Test Accuracy: 92.18 %\n",
      "Confusion Matrix\n",
      "tensor([[ 942,    0,    3,    3,    1,    5,   14,    4,    8,    0],\n",
      "        [  16, 1104,    0,    6,    0,    0,    3,    2,    4,    0],\n",
      "        [   3,    0,  917,    6,    3,    0,    5,    1,   91,    6],\n",
      "        [   2,    0,    0,  940,   18,   13,    2,    1,   30,    4],\n",
      "        [   4,    0,    0,    7,  894,    0,    5,   15,   44,   13],\n",
      "        [   7,    0,    1,    5,    4,  811,   21,    4,   37,    2],\n",
      "        [  17,    1,    0,    1,    6,    5,  884,    2,   38,    4],\n",
      "        [  19,    2,    3,    6,   21,    3,    6,  881,   25,   62],\n",
      "        [   2,    0,    3,   10,   12,   14,   14,    2,  910,    7],\n",
      "        [   2,    0,    1,    2,    4,    3,    4,   18,   40,  935]],\n",
      "       dtype=torch.int32)\n",
      "===================================================================\n"
     ]
    },
    {
     "data": {
      "application/vnd.jupyter.widget-view+json": {
       "model_id": "eaf0e68c35954c838243adeaca1a265f",
       "version_major": 2,
       "version_minor": 0
      },
      "text/plain": [
       "0/1(e):   0%|          | 0/79 [00:00<?, ?it/s]"
      ]
     },
     "metadata": {},
     "output_type": "display_data"
    },
    {
     "name": "stderr",
     "output_type": "stream",
     "text": [
      "100%|███████████████████████████████████████████████████████████████████████████████████| 22/22 [00:51<00:00,  2.36s/it]\n"
     ]
    },
    {
     "name": "stdout",
     "output_type": "stream",
     "text": [
      "Evaluate ranks and output to ./results_2e_c_rank/bw5bgonly-bw-13_2024-08-01_00-44-53_SEED57_EPOCHS4_BGN0.1_exp2d_ResNet18_bg_only_colour_mnist-test.csv\n",
      "Train the stitch to a model stitched after layer 5 from bw to bgonly\n",
      "Use the bw data loader (train and test) regardless of what bgonly was trained on\n",
      "get_layer_output_shape for type='ResNet18'\n",
      "The shape of the output from layer 5 of send_model is: torch.Size([1, 128, 4, 4])\n",
      "Epoch 0, loss 902.18\n",
      "Epoch 1, loss 117.59\n",
      "Epoch 2, loss 88.17\n",
      "Epoch 3, loss 72.04\n",
      "Epoch 6, loss 52.93\n",
      "Epoch 7, loss 48.93\n",
      "Epoch 8, loss 47.36\n",
      "Epoch 9, loss 44.40\n",
      "**** Finished Training ****\n",
      "Change in stitch weights: 1.5105907917022705\n",
      "Largest abs weight change: 0.06647700071334839\n",
      "Number of weights changing > 0.1 of that: 8773\n",
      "Number of weight / bias in stitch layer is 128\n",
      "Change in stitch bias: 0.027031177654862404\n",
      "Largest abs bias change: 0.004009746015071869\n",
      "Number of bias changing > 0.1 of that: 119\n",
      "Test the trained stitch against key='bgonly' data\n",
      "Test Accuracy: 97.60 %\n",
      "Confusion Matrix\n",
      "tensor([[ 968,    0,    0,    0,    1,    1,    4,    1,    5,    0],\n",
      "        [   4, 1108,    0,    7,    3,    1,    3,    2,    6,    1],\n",
      "        [   1,    0, 1007,    3,    2,    0,    2,    2,   15,    0],\n",
      "        [   0,    0,    0,  987,    3,    9,    1,    3,    4,    3],\n",
      "        [   1,    0,    0,    0,  959,    0,    1,    6,    9,    6],\n",
      "        [   1,    0,    0,    7,    0,  868,   10,    0,    2,    4],\n",
      "        [   6,    1,    0,    0,    2,    3,  939,    0,    7,    0],\n",
      "        [   2,    2,    2,    2,    7,    0,    1,  993,    5,   14],\n",
      "        [   1,    0,    4,    0,    4,    2,    5,    1,  949,    8],\n",
      "        [   1,    0,    0,    1,    5,    4,    1,    4,   11,  982]],\n",
      "       dtype=torch.int32)\n",
      "===================================================================\n"
     ]
    },
    {
     "data": {
      "application/vnd.jupyter.widget-view+json": {
       "model_id": "34bae309d701405092fb604a546968e4",
       "version_major": 2,
       "version_minor": 0
      },
      "text/plain": [
       "0/1(e):   0%|          | 0/79 [00:00<?, ?it/s]"
      ]
     },
     "metadata": {},
     "output_type": "display_data"
    },
    {
     "name": "stderr",
     "output_type": "stream",
     "text": [
      "100%|███████████████████████████████████████████████████████████████████████████████████| 22/22 [00:37<00:00,  1.71s/it]\n"
     ]
    },
    {
     "name": "stdout",
     "output_type": "stream",
     "text": [
      "Evaluate ranks and output to ./results_2e_c_rank/bw6bgonly-bw-13_2024-08-01_00-44-53_SEED57_EPOCHS4_BGN0.1_exp2d_ResNet18_bg_only_colour_mnist-test.csv\n",
      "Train the stitch to a model stitched after layer 6 from bw to bgonly\n",
      "Use the bw data loader (train and test) regardless of what bgonly was trained on\n",
      "get_layer_output_shape for type='ResNet18'\n",
      "The shape of the output from layer 6 of send_model is: torch.Size([1, 256, 2, 2])\n",
      "Epoch 0, loss 478.10\n",
      "Epoch 1, loss 55.55\n",
      "Epoch 2, loss 44.73\n",
      "Epoch 3, loss 35.24\n",
      "Epoch 4, loss 30.69\n",
      "Epoch 5, loss 28.36\n",
      "Epoch 6, loss 26.95\n",
      "Epoch 7, loss 24.80\n",
      "Epoch 8, loss 21.84\n",
      "Epoch 9, loss 23.26\n",
      "**** Finished Training ****\n",
      "Change in stitch weights: 1.2550649642944336\n",
      "Largest abs weight change: 0.038997672498226166\n",
      "Number of weights changing > 0.1 of that: 23085\n",
      "Number of weight / bias in stitch layer is 256\n",
      "Change in stitch bias: 0.027673203498125076\n",
      "Largest abs bias change: 0.0028461702167987823\n",
      "Number of bias changing > 0.1 of that: 231\n",
      "Test the trained stitch against key='bgonly' data\n",
      "Test Accuracy: 98.83 %\n",
      "Confusion Matrix\n",
      "tensor([[ 975,    0,    2,    0,    0,    0,    1,    1,    1,    0],\n",
      "        [   0, 1128,    0,    4,    0,    2,    0,    0,    0,    1],\n",
      "        [   1,    3, 1019,    4,    1,    0,    0,    1,    3,    0],\n",
      "        [   0,    0,    1,  996,    0,    7,    0,    2,    3,    1],\n",
      "        [   0,    2,    1,    0,  966,    0,    2,    6,    1,    4],\n",
      "        [   1,    0,    0,    4,    0,  886,    1,    0,    0,    0],\n",
      "        [   5,    2,    0,    0,    2,    2,  946,    0,    1,    0],\n",
      "        [   0,    3,    1,    2,    3,    0,    0, 1016,    1,    2],\n",
      "        [   2,    0,    2,    1,    1,    1,    1,    1,  959,    6],\n",
      "        [   2,    1,    0,    2,    3,    3,    0,    3,    3,  992]],\n",
      "       dtype=torch.int32)\n",
      "===================================================================\n"
     ]
    },
    {
     "data": {
      "application/vnd.jupyter.widget-view+json": {
       "model_id": "0f2e92546a604839a88dfcaf36589efc",
       "version_major": 2,
       "version_minor": 0
      },
      "text/plain": [
       "0/1(e):   0%|          | 0/79 [00:00<?, ?it/s]"
      ]
     },
     "metadata": {},
     "output_type": "display_data"
    },
    {
     "name": "stderr",
     "output_type": "stream",
     "text": [
      "100%|███████████████████████████████████████████████████████████████████████████████████| 22/22 [00:35<00:00,  1.62s/it]\n"
     ]
    },
    {
     "name": "stdout",
     "output_type": "stream",
     "text": [
      "Evaluate ranks and output to ./results_2e_c_rank/bw7bgonly-bw-13_2024-08-01_00-44-53_SEED57_EPOCHS4_BGN0.1_exp2d_ResNet18_bg_only_colour_mnist-test.csv\n",
      "Train the stitch to a model stitched after layer 7 from bw to bgonly\n",
      "Use the bw data loader (train and test) regardless of what bgonly was trained on\n",
      "get_layer_output_shape for type='ResNet18'\n",
      "The shape of the output from layer 7 of send_model is: torch.Size([1, 512, 1, 1])\n",
      "Epoch 0, loss 49.91\n",
      "Epoch 1, loss 14.99\n",
      "Epoch 2, loss 13.68\n",
      "Epoch 3, loss 12.88\n",
      "Epoch 4, loss 11.70\n",
      "Epoch 5, loss 11.60\n",
      "Epoch 6, loss 11.43\n",
      "Epoch 7, loss 11.20\n",
      "Epoch 8, loss 11.02\n",
      "Epoch 9, loss 10.71\n",
      "**** Finished Training ****\n",
      "Change in stitch weights: 0.792918860912323\n",
      "Largest abs weight change: 0.012951908633112907\n",
      "Number of weights changing > 0.1 of that: 109484\n",
      "Number of weight / bias in stitch layer is 512\n",
      "Change in stitch bias: 0.02649097703397274\n",
      "Largest abs bias change: 0.002012297511100769\n",
      "Number of bias changing > 0.1 of that: 467\n",
      "Test the trained stitch against key='bgonly' data\n",
      "Test Accuracy: 99.17 %\n",
      "Confusion Matrix\n",
      "tensor([[ 977,    0,    1,    0,    0,    0,    0,    1,    1,    0],\n",
      "        [   0, 1133,    0,    0,    0,    1,    1,    0,    0,    0],\n",
      "        [   2,    0, 1026,    0,    0,    0,    0,    2,    2,    0],\n",
      "        [   1,    0,    0, 1001,    0,    5,    0,    0,    2,    1],\n",
      "        [   0,    0,    1,    0,  975,    0,    2,    0,    0,    4],\n",
      "        [   1,    0,    0,    3,    0,  885,    1,    0,    2,    0],\n",
      "        [   6,    1,    0,    0,    2,    1,  948,    0,    0,    0],\n",
      "        [   0,    3,    4,    0,    0,    0,    0, 1019,    1,    1],\n",
      "        [   2,    0,    2,    2,    0,    2,    1,    1,  961,    3],\n",
      "        [   1,    1,    0,    2,    4,    2,    0,    4,    3,  992]],\n",
      "       dtype=torch.int32)\n",
      "===================================================================\n"
     ]
    },
    {
     "data": {
      "application/vnd.jupyter.widget-view+json": {
       "model_id": "604e123a4c3c4b689791e2b90c2fd788",
       "version_major": 2,
       "version_minor": 0
      },
      "text/plain": [
       "0/1(e):   0%|          | 0/79 [00:00<?, ?it/s]"
      ]
     },
     "metadata": {},
     "output_type": "display_data"
    },
    {
     "name": "stderr",
     "output_type": "stream",
     "text": [
      "100%|███████████████████████████████████████████████████████████████████████████████████| 22/22 [00:37<00:00,  1.69s/it]\n"
     ]
    },
    {
     "name": "stdout",
     "output_type": "stream",
     "text": [
      "Evaluate ranks and output to ./results_2e_c_rank/bw8bgonly-bw-13_2024-08-01_00-44-53_SEED57_EPOCHS4_BGN0.1_exp2d_ResNet18_bg_only_colour_mnist-test.csv\n",
      "Train the stitch to a model stitched after layer 8 from bw to bgonly\n",
      "Use the bw data loader (train and test) regardless of what bgonly was trained on\n",
      "get_layer_output_shape for type='ResNet18'\n",
      "The shape of the output from layer 8 of send_model is: torch.Size([1, 512, 1, 1])\n",
      "Epoch 0, loss 66.90\n",
      "Epoch 1, loss 14.49\n",
      "Epoch 2, loss 13.33\n",
      "Epoch 3, loss 12.78\n",
      "Epoch 4, loss 12.40\n",
      "Epoch 5, loss 11.93\n",
      "Epoch 6, loss 11.75\n",
      "Epoch 7, loss 11.46\n",
      "Epoch 8, loss 11.09\n",
      "Epoch 9, loss 10.65\n",
      "**** Finished Training ****\n",
      "Change in stitch weights: 0.8216562271118164\n",
      "Largest abs weight change: 0.014248445630073547\n",
      "Number of weights changing > 0.1 of that: 98619\n",
      "Number of weight / bias in stitch layer is 512\n",
      "Change in stitch bias: 0.025976425036787987\n",
      "Largest abs bias change: 0.00200507789850235\n",
      "Number of bias changing > 0.1 of that: 451\n",
      "Test the trained stitch against key='bgonly' data\n",
      "Test Accuracy: 99.14 %\n",
      "Confusion Matrix\n",
      "tensor([[ 976,    0,    2,    0,    0,    0,    0,    1,    1,    0],\n",
      "        [   0, 1131,    0,    2,    0,    0,    1,    0,    1,    0],\n",
      "        [   2,    0, 1026,    0,    0,    0,    0,    2,    2,    0],\n",
      "        [   0,    0,    1, 1001,    0,    5,    0,    0,    2,    1],\n",
      "        [   1,    0,    1,    0,  976,    0,    3,    0,    0,    1],\n",
      "        [   1,    0,    0,    3,    0,  887,    0,    0,    1,    0],\n",
      "        [   5,    2,    0,    0,    2,    1,  948,    0,    0,    0],\n",
      "        [   0,    3,    5,    0,    0,    0,    0, 1018,    1,    1],\n",
      "        [   2,    0,    2,    2,    0,    2,    1,    1,  962,    2],\n",
      "        [   1,    1,    0,    2,    3,    4,    1,    5,    3,  989]],\n",
      "       dtype=torch.int32)\n",
      "===================================================================\n"
     ]
    },
    {
     "data": {
      "application/vnd.jupyter.widget-view+json": {
       "model_id": "9b927148207442ab8503926bf7c238d8",
       "version_major": 2,
       "version_minor": 0
      },
      "text/plain": [
       "0/1(e):   0%|          | 0/79 [00:00<?, ?it/s]"
      ]
     },
     "metadata": {},
     "output_type": "display_data"
    },
    {
     "name": "stderr",
     "output_type": "stream",
     "text": [
      "100%|███████████████████████████████████████████████████████████████████████████████████| 22/22 [00:45<00:00,  2.06s/it]\n"
     ]
    },
    {
     "name": "stdout",
     "output_type": "stream",
     "text": [
      "Evaluate ranks and output to ./results_2e_c_rank/bgonly3bw-bgonly-13_2024-08-01_00-44-53_SEED57_EPOCHS4_BGN0.1_exp2d_ResNet18_bw_mnist-test.csv\n",
      "Train the stitch to a model stitched after layer 3 from bgonly to bw\n",
      "Use the bgonly data loader (train and test) regardless of what bw was trained on\n",
      "get_layer_output_shape for type='ResNet18'\n",
      "The shape of the output from layer 3 of send_model is: torch.Size([1, 64, 7, 7])\n",
      "Epoch 0, loss 439.91\n",
      "Epoch 1, loss 50.68\n",
      "Epoch 2, loss 17.27\n",
      "Epoch 3, loss 11.43\n",
      "Epoch 4, loss 10.45\n",
      "Epoch 5, loss 8.68\n",
      "Epoch 6, loss 6.84\n"
     ]
    },
    {
     "name": "stderr",
     "output_type": "stream",
     "text": [
      "100%|███████████████████████████████████████████████████████████████████████████████████| 22/22 [00:53<00:00,  2.42s/it]\n"
     ]
    },
    {
     "name": "stdout",
     "output_type": "stream",
     "text": [
      "Evaluate ranks and output to ./results_2e_c_rank/bgonly4bw-bgonly-13_2024-08-01_00-44-53_SEED57_EPOCHS4_BGN0.1_exp2d_ResNet18_bw_mnist-test.csv\n",
      "Train the stitch to a model stitched after layer 4 from bgonly to bw\n",
      "Use the bgonly data loader (train and test) regardless of what bw was trained on\n",
      "get_layer_output_shape for type='ResNet18'\n",
      "The shape of the output from layer 4 of send_model is: torch.Size([1, 64, 7, 7])\n",
      "Epoch 0, loss 136.45\n",
      "Epoch 1, loss 14.97\n",
      "Epoch 2, loss 11.28\n",
      "Epoch 3, loss 8.19\n",
      "Epoch 4, loss 7.09\n",
      "Epoch 5, loss 7.41\n",
      "Epoch 6, loss 5.87\n",
      "Epoch 7, loss 7.13\n",
      "Epoch 8, loss 5.47\n",
      "Epoch 9, loss 4.13\n",
      "**** Finished Training ****\n",
      "Change in stitch weights: 0.8625840544700623\n",
      "Largest abs weight change: 0.06719546020030975\n",
      "Number of weights changing > 0.1 of that: 2454\n",
      "Number of weight / bias in stitch layer is 64\n",
      "Change in stitch bias: 0.02644050121307373\n",
      "Largest abs bias change: 0.005670897662639618\n",
      "Number of bias changing > 0.1 of that: 56\n",
      "Test the trained stitch against key='bgonly' data\n",
      "Test Accuracy: 100.00 %\n",
      "Confusion Matrix\n",
      "tensor([[ 980,    0,    0,    0,    0,    0,    0,    0,    0,    0],\n",
      "        [   0, 1135,    0,    0,    0,    0,    0,    0,    0,    0],\n",
      "        [   0,    0, 1032,    0,    0,    0,    0,    0,    0,    0],\n",
      "        [   0,    0,    0, 1010,    0,    0,    0,    0,    0,    0],\n",
      "        [   0,    0,    0,    0,  982,    0,    0,    0,    0,    0],\n",
      "        [   0,    0,    0,    0,    0,  892,    0,    0,    0,    0],\n",
      "        [   0,    0,    0,    0,    0,    0,  958,    0,    0,    0],\n",
      "        [   0,    0,    0,    0,    0,    0,    0, 1028,    0,    0],\n",
      "        [   0,    0,    0,    0,    0,    0,    0,    0,  974,    0],\n",
      "        [   0,    0,    0,    0,    0,    0,    0,    0,    0, 1009]],\n",
      "       dtype=torch.int32)\n",
      "===================================================================\n"
     ]
    },
    {
     "data": {
      "application/vnd.jupyter.widget-view+json": {
       "model_id": "00bcf328b05a4ed8a8f77c504fcfd8eb",
       "version_major": 2,
       "version_minor": 0
      },
      "text/plain": [
       "0/1(e):   0%|          | 0/79 [00:00<?, ?it/s]"
      ]
     },
     "metadata": {},
     "output_type": "display_data"
    },
    {
     "name": "stderr",
     "output_type": "stream",
     "text": [
      "100%|███████████████████████████████████████████████████████████████████████████████████| 22/22 [00:53<00:00,  2.43s/it]\n"
     ]
    },
    {
     "name": "stdout",
     "output_type": "stream",
     "text": [
      "Evaluate ranks and output to ./results_2e_c_rank/bgonly5bw-bgonly-13_2024-08-01_00-44-53_SEED57_EPOCHS4_BGN0.1_exp2d_ResNet18_bw_mnist-test.csv\n",
      "Train the stitch to a model stitched after layer 5 from bgonly to bw\n",
      "Use the bgonly data loader (train and test) regardless of what bw was trained on\n",
      "get_layer_output_shape for type='ResNet18'\n",
      "The shape of the output from layer 5 of send_model is: torch.Size([1, 128, 4, 4])\n",
      "Epoch 0, loss 2159.85\n",
      "Epoch 1, loss 8.44\n",
      "Epoch 2, loss 5.41\n",
      "Epoch 3, loss 4.67\n",
      "Epoch 4, loss 3.97\n",
      "Epoch 5, loss 5.25\n",
      "Epoch 6, loss 3.96\n",
      "Epoch 7, loss 3.69\n",
      "Epoch 8, loss 4.18\n",
      "Epoch 9, loss 3.55\n",
      "**** Finished Training ****\n",
      "Change in stitch weights: 1.0756306648254395\n",
      "Largest abs weight change: 0.05073833465576172\n",
      "Number of weights changing > 0.1 of that: 8300\n",
      "Number of weight / bias in stitch layer is 128\n",
      "Change in stitch bias: 0.025727568194270134\n",
      "Largest abs bias change: 0.004038617014884949\n",
      "Number of bias changing > 0.1 of that: 109\n",
      "Test the trained stitch against key='bgonly' data\n",
      "Test Accuracy: 100.00 %\n",
      "Confusion Matrix\n",
      "tensor([[ 980,    0,    0,    0,    0,    0,    0,    0,    0,    0],\n",
      "        [   0, 1135,    0,    0,    0,    0,    0,    0,    0,    0],\n",
      "        [   0,    0, 1032,    0,    0,    0,    0,    0,    0,    0],\n",
      "        [   0,    0,    0, 1010,    0,    0,    0,    0,    0,    0],\n",
      "        [   0,    0,    0,    0,  982,    0,    0,    0,    0,    0],\n",
      "        [   0,    0,    0,    0,    0,  892,    0,    0,    0,    0],\n",
      "        [   0,    0,    0,    0,    0,    0,  958,    0,    0,    0],\n",
      "        [   0,    0,    0,    0,    0,    0,    0, 1028,    0,    0],\n",
      "        [   0,    0,    0,    0,    0,    0,    0,    0,  974,    0],\n",
      "        [   0,    0,    0,    0,    0,    0,    0,    0,    0, 1009]],\n",
      "       dtype=torch.int32)\n",
      "===================================================================\n"
     ]
    },
    {
     "data": {
      "application/vnd.jupyter.widget-view+json": {
       "model_id": "87ab89a85c4140e1bc2623fffb77860b",
       "version_major": 2,
       "version_minor": 0
      },
      "text/plain": [
       "0/1(e):   0%|          | 0/79 [00:00<?, ?it/s]"
      ]
     },
     "metadata": {},
     "output_type": "display_data"
    },
    {
     "name": "stderr",
     "output_type": "stream",
     "text": [
      "100%|███████████████████████████████████████████████████████████████████████████████████| 22/22 [00:55<00:00,  2.51s/it]\n"
     ]
    },
    {
     "name": "stdout",
     "output_type": "stream",
     "text": [
      "Evaluate ranks and output to ./results_2e_c_rank/bgonly6bw-bgonly-13_2024-08-01_00-44-53_SEED57_EPOCHS4_BGN0.1_exp2d_ResNet18_bw_mnist-test.csv\n",
      "Train the stitch to a model stitched after layer 6 from bgonly to bw\n",
      "Use the bgonly data loader (train and test) regardless of what bw was trained on\n",
      "get_layer_output_shape for type='ResNet18'\n",
      "The shape of the output from layer 6 of send_model is: torch.Size([1, 256, 2, 2])\n",
      "Epoch 0, loss 366.53\n",
      "Epoch 1, loss 5.29\n",
      "Epoch 2, loss 5.28\n",
      "Epoch 3, loss 4.29\n",
      "Epoch 4, loss 6.02\n",
      "Epoch 5, loss 3.74\n",
      "Epoch 6, loss 5.43\n",
      "Epoch 7, loss 2.90\n",
      "Epoch 8, loss 3.99\n",
      "Epoch 9, loss 2.98\n",
      "**** Finished Training ****\n",
      "Change in stitch weights: 1.115225911140442\n",
      "Largest abs weight change: 0.04058324918150902\n",
      "Number of weights changing > 0.1 of that: 19806\n",
      "Number of weight / bias in stitch layer is 256\n",
      "Change in stitch bias: 0.026787029579281807\n",
      "Largest abs bias change: 0.0028400570154190063\n",
      "Number of bias changing > 0.1 of that: 231\n",
      "Test the trained stitch against key='bgonly' data\n",
      "Test Accuracy: 100.00 %\n",
      "Confusion Matrix\n",
      "tensor([[ 980,    0,    0,    0,    0,    0,    0,    0,    0,    0],\n",
      "        [   0, 1135,    0,    0,    0,    0,    0,    0,    0,    0],\n",
      "        [   0,    0, 1032,    0,    0,    0,    0,    0,    0,    0],\n",
      "        [   0,    0,    0, 1010,    0,    0,    0,    0,    0,    0],\n",
      "        [   0,    0,    0,    0,  982,    0,    0,    0,    0,    0],\n",
      "        [   0,    0,    0,    0,    0,  892,    0,    0,    0,    0],\n",
      "        [   0,    0,    0,    0,    0,    0,  958,    0,    0,    0],\n",
      "        [   0,    0,    0,    0,    0,    0,    0, 1028,    0,    0],\n",
      "        [   0,    0,    0,    0,    0,    0,    0,    0,  974,    0],\n",
      "        [   0,    0,    0,    0,    0,    0,    0,    0,    0, 1009]],\n",
      "       dtype=torch.int32)\n",
      "===================================================================\n"
     ]
    },
    {
     "data": {
      "application/vnd.jupyter.widget-view+json": {
       "model_id": "4fbacebb70d34b859a1af4979c4b6dd8",
       "version_major": 2,
       "version_minor": 0
      },
      "text/plain": [
       "0/1(e):   0%|          | 0/79 [00:00<?, ?it/s]"
      ]
     },
     "metadata": {},
     "output_type": "display_data"
    },
    {
     "name": "stderr",
     "output_type": "stream",
     "text": [
      "100%|███████████████████████████████████████████████████████████████████████████████████| 22/22 [00:50<00:00,  2.30s/it]\n"
     ]
    },
    {
     "name": "stdout",
     "output_type": "stream",
     "text": [
      "Evaluate ranks and output to ./results_2e_c_rank/bgonly7bw-bgonly-13_2024-08-01_00-44-53_SEED57_EPOCHS4_BGN0.1_exp2d_ResNet18_bw_mnist-test.csv\n",
      "Train the stitch to a model stitched after layer 7 from bgonly to bw\n",
      "Use the bgonly data loader (train and test) regardless of what bw was trained on\n",
      "get_layer_output_shape for type='ResNet18'\n",
      "The shape of the output from layer 7 of send_model is: torch.Size([1, 512, 1, 1])\n",
      "Epoch 0, loss 42.59\n",
      "Epoch 1, loss 3.09\n",
      "Epoch 2, loss 2.81\n",
      "Epoch 3, loss 3.29\n",
      "Epoch 4, loss 1.91\n",
      "Epoch 5, loss 1.75\n",
      "Epoch 6, loss 1.69\n",
      "Epoch 7, loss 1.28\n",
      "Epoch 8, loss 1.98\n",
      "Epoch 9, loss 1.45\n",
      "**** Finished Training ****\n",
      "Change in stitch weights: 0.7830605506896973\n",
      "Largest abs weight change: 0.011680737137794495\n",
      "Number of weights changing > 0.1 of that: 123341\n",
      "Number of weight / bias in stitch layer is 512\n",
      "Change in stitch bias: 0.02617512457072735\n",
      "Largest abs bias change: 0.0020141154527664185\n",
      "Number of bias changing > 0.1 of that: 461\n",
      "Test the trained stitch against key='bgonly' data\n",
      "Test Accuracy: 100.00 %\n",
      "Confusion Matrix\n",
      "tensor([[ 980,    0,    0,    0,    0,    0,    0,    0,    0,    0],\n",
      "        [   0, 1135,    0,    0,    0,    0,    0,    0,    0,    0],\n",
      "        [   0,    0, 1032,    0,    0,    0,    0,    0,    0,    0],\n",
      "        [   0,    0,    0, 1010,    0,    0,    0,    0,    0,    0],\n",
      "        [   0,    0,    0,    0,  982,    0,    0,    0,    0,    0],\n",
      "        [   0,    0,    0,    0,    0,  892,    0,    0,    0,    0],\n",
      "        [   0,    0,    0,    0,    0,    0,  958,    0,    0,    0],\n",
      "        [   0,    0,    0,    0,    0,    0,    0, 1028,    0,    0],\n",
      "        [   0,    0,    0,    0,    0,    0,    0,    0,  974,    0],\n",
      "        [   0,    0,    0,    0,    0,    0,    0,    0,    0, 1009]],\n",
      "       dtype=torch.int32)\n",
      "===================================================================\n"
     ]
    },
    {
     "data": {
      "application/vnd.jupyter.widget-view+json": {
       "model_id": "717f68e3de984c3ab893ebbdd3659530",
       "version_major": 2,
       "version_minor": 0
      },
      "text/plain": [
       "0/1(e):   0%|          | 0/79 [00:00<?, ?it/s]"
      ]
     },
     "metadata": {},
     "output_type": "display_data"
    },
    {
     "name": "stderr",
     "output_type": "stream",
     "text": [
      "100%|███████████████████████████████████████████████████████████████████████████████████| 22/22 [00:47<00:00,  2.18s/it]\n"
     ]
    },
    {
     "name": "stdout",
     "output_type": "stream",
     "text": [
      "Evaluate ranks and output to ./results_2e_c_rank/bgonly8bw-bgonly-13_2024-08-01_00-44-53_SEED57_EPOCHS4_BGN0.1_exp2d_ResNet18_bw_mnist-test.csv\n",
      "Train the stitch to a model stitched after layer 8 from bgonly to bw\n",
      "Use the bgonly data loader (train and test) regardless of what bw was trained on\n",
      "get_layer_output_shape for type='ResNet18'\n",
      "The shape of the output from layer 8 of send_model is: torch.Size([1, 512, 1, 1])\n",
      "Epoch 0, loss 39.81\n",
      "Epoch 1, loss 3.38\n",
      "Epoch 2, loss 2.76\n",
      "Epoch 3, loss 2.46\n",
      "Epoch 4, loss 1.83\n",
      "Epoch 5, loss 1.94\n",
      "Epoch 6, loss 1.89\n",
      "Epoch 7, loss 1.53\n",
      "Epoch 8, loss 1.53\n",
      "Epoch 9, loss 1.62\n",
      "**** Finished Training ****\n",
      "Change in stitch weights: 0.7643840909004211\n",
      "Largest abs weight change: 0.010500026866793633\n",
      "Number of weights changing > 0.1 of that: 135345\n",
      "Number of weight / bias in stitch layer is 512\n",
      "Change in stitch bias: 0.02732684276998043\n",
      "Largest abs bias change: 0.002020563930273056\n",
      "Number of bias changing > 0.1 of that: 459\n",
      "Test the trained stitch against key='bgonly' data\n",
      "Test Accuracy: 100.00 %\n",
      "Confusion Matrix\n",
      "tensor([[ 980,    0,    0,    0,    0,    0,    0,    0,    0,    0],\n",
      "        [   0, 1135,    0,    0,    0,    0,    0,    0,    0,    0],\n",
      "        [   0,    0, 1032,    0,    0,    0,    0,    0,    0,    0],\n",
      "        [   0,    0,    0, 1010,    0,    0,    0,    0,    0,    0],\n",
      "        [   0,    0,    0,    0,  982,    0,    0,    0,    0,    0],\n",
      "        [   0,    0,    0,    0,    0,  892,    0,    0,    0,    0],\n",
      "        [   0,    0,    0,    0,    0,    0,  958,    0,    0,    0],\n",
      "        [   0,    0,    0,    0,    0,    0,    0, 1028,    0,    0],\n",
      "        [   0,    0,    0,    0,    0,    0,    0,    0,  974,    0],\n",
      "        [   0,    0,    0,    0,    0,    0,    0,    0,    0, 1009]],\n",
      "       dtype=torch.int32)\n",
      "===================================================================\n"
     ]
    },
    {
     "data": {
      "application/vnd.jupyter.widget-view+json": {
       "model_id": "53281c3a6aae4c73b1a62ebc39b4c61e",
       "version_major": 2,
       "version_minor": 0
      },
      "text/plain": [
       "0/1(e):   0%|          | 0/79 [00:00<?, ?it/s]"
      ]
     },
     "metadata": {},
     "output_type": "display_data"
    },
    {
     "name": "stderr",
     "output_type": "stream",
     "text": [
      "100%|███████████████████████████████████████████████████████████████████████████████████| 22/22 [00:45<00:00,  2.09s/it]\n"
     ]
    },
    {
     "name": "stdout",
     "output_type": "stream",
     "text": [
      "NOTE: Only running stitch between different models: skipping\n"
     ]
    }
   ],
   "source": [
    "logtofile(\"Entering Stitch/Rank\")\n",
    "# logtofile(process.memory_info().rss)  # in bytes \n",
    "\n",
    "logtofile(f\"{device=}\")\n",
    "stitching_accuracies = dict()\n",
    "stitching_penalties = dict()\n",
    "# NOTE this is only valid as all models are the same architecture\n",
    "num_layers_in_model = len(list(process_structure[\"bw\"][\"model\"].children()))  \n",
    "for send_key, send_val in process_structure.items():\n",
    "    stitching_accuracies[send_key] = dict()\n",
    "    stitching_penalties[send_key] = dict()\n",
    "    for rcv_key, rcv_val in process_structure.items():        \n",
    "        if (rcv_key == send_key):\n",
    "            logtofile(f\"NOTE: Only running stitch between different models: skipping\")\n",
    "            continue\n",
    "        stitching_accuracies[send_key][rcv_key] = dict()\n",
    "        stitching_penalties[send_key][rcv_key] = dict()\n",
    "        for layer_to_cut_after in range(3,num_layers_in_model - 1):\n",
    "            # for consistency, use the rcv network for the filename stem.\n",
    "            if rcv_val[\"train\"]:\n",
    "                filename = rcv_val[\"saveas\"] \n",
    "            else:    \n",
    "                filename = rcv_val[\"loadfrom\"] \n",
    "            \n",
    "            rank_filename = filename.split('/')[-1].replace('.weights', '-test.csv')        \n",
    "            # denote output name as <model_training_type>-dataset-<name>\n",
    "            # where <model_training_type> is [sender_model or X][layer_to_cut_after][Receiver_model]\n",
    "            model_training_type = f\"{send_key}{layer_to_cut_after}{rcv_key}\"\n",
    "            #dataset_type = \"bias\"  # ALWAYS use bias dataset in this test\n",
    "            dataset_type = send_key # ALWAYS use sender-matched dataset in this test\n",
    "            outpath = f\"./{results_root}_rank/{model_training_type}-{dataset_type}-{seed}_{rank_filename}\"  \n",
    "                            \n",
    "            if os.path.exists(f\"{outpath}\"):\n",
    "                logtofile(f\"Already evaluated for {outpath}\")\n",
    "                continue\n",
    "            ####################################################################################\n",
    "            logtofile(f\"Evaluate ranks and output to {outpath}\")\n",
    "            # logtofile(process.memory_info().rss)  # in bytes \n",
    "\n",
    "            logtofile(f\"Train the stitch to a model stitched after layer {layer_to_cut_after} from {send_key} to {rcv_key}\")    \n",
    "            logtofile(f\"Use the {send_key} data loader (train and test) regardless of what {rcv_key} was trained on\")\n",
    "            \n",
    "            # train a stitch on the unbiased_colour dataset to compare receiver network performance with stitched\n",
    "            model_stitched = StitchedResNet18(send_model=send_val[\"model\"], \n",
    "                                              after_layer_index=layer_to_cut_after, \n",
    "                                              rcv_model=rcv_val[\"model\"],\n",
    "                                              input_image_shape=colour_mnist_shape, device=device  ).to(device)\n",
    "                        \n",
    "            #############################################################\n",
    "            # store the initial stitch state\n",
    "            initial_stitch_weight = model_stitched.stitch.s_conv1.weight.clone()\n",
    "            initial_stitch_bias   = model_stitched.stitch.s_conv1.bias.clone()\n",
    "            stitch_initial_weight_outpath    = f\"./{results_root}/STITCH_initial_weight_{model_training_type}-{dataset_type}-{seed}_{filename.split('/')[-1]}\"  \n",
    "            stitch_initial_bias_outpath      = f\"./{results_root}/STITCH_initial_bias_{model_training_type}-{dataset_type}-{seed}_{filename.split('/')[-1]}\"  \n",
    "            if save_stitch_delta:\n",
    "                torch.save(initial_stitch_weight, stitch_initial_weight_outpath)\n",
    "                torch.save(initial_stitch_bias, stitch_initial_bias_outpath)\n",
    "            ############################################################\n",
    "                    \n",
    "            # define the loss function and the optimiser\n",
    "            loss_function = nn.CrossEntropyLoss()\n",
    "            # Hernandez said : momentum 0.9, batch size 256, weight decay 0.01, learning rate 0.01, and a post-warmup cosine learning rate scheduler.\n",
    "            # optimiser = optim.SGD(model.parameters(), lr=0.1, momentum=0.9, weight_decay=1e-4)\n",
    "            optimiser = optim.SGD(model_stitched.parameters(), lr=1e-4, momentum=0.9, weight_decay=0.01)\n",
    "            \n",
    "            # Put top model into train mode so that bn and dropout perform in training mode\n",
    "            model_stitched.train()\n",
    "            # Freeze the whole model\n",
    "            model_stitched.requires_grad_(False)\n",
    "            # Un-Freeze the stitch layer\n",
    "            for name, param in model_stitched.stitch.named_parameters():\n",
    "                param.requires_grad_(True)\n",
    "            # the epoch loop: note that we're training the whole network\n",
    "            for epoch in range(stitch_train_epochs):\n",
    "                running_loss = 0.0\n",
    "                for data in send_val[\"train_loader\"]:# biased_train_dataloader:\n",
    "                    # data is (representations, labels) tuple\n",
    "                    # get the inputs and put them on the GPU\n",
    "                    inputs, labels = data\n",
    "                    inputs = inputs.to(device)\n",
    "                    labels = labels.to(device)\n",
    "            \n",
    "                    # zero the parameter gradients\n",
    "                    optimiser.zero_grad()\n",
    "            \n",
    "                    # forward + loss + backward + optimise (update weights)\n",
    "                    outputs = model_stitched(inputs)\n",
    "                    loss = loss_function(outputs, labels)\n",
    "                    loss.backward()\n",
    "                    optimiser.step()\n",
    "            \n",
    "                    # keep track of the loss this epoch\n",
    "                    running_loss += loss.item()\n",
    "                logtofile(\"Epoch %d, loss %4.2f\" % (epoch, running_loss))\n",
    "                # logtofile(process.memory_info().rss)  # in bytes \n",
    "\n",
    "            logtofile('**** Finished Training ****')\n",
    "            \n",
    "            model_stitched.eval() # ALWAYS DO THIS BEFORE YOU EVALUATE MODELS\n",
    "\n",
    "            ############################################################\n",
    "            # store the trained stitch\n",
    "            trained_stitch_weight = model_stitched.stitch.s_conv1.weight.clone()\n",
    "            trained_stitch_bias   = model_stitched.stitch.s_conv1.bias.clone()\n",
    "            stitch_trained_weight_outpath    = f\"./{results_root}/STITCH_trained_weight_{model_training_type}-{dataset_type}-{seed}_{filename.split('/')[-1]}\"  \n",
    "            stitch_trained_bias_outpath      = f\"./{results_root}/STITCH_trained_bias_{model_training_type}-{dataset_type}-{seed}_{filename.split('/')[-1]}\"  \n",
    "            \n",
    "            if save_stitch_delta:\n",
    "                torch.save(trained_stitch_weight, stitch_trained_weight_outpath)\n",
    "                torch.save(trained_stitch_bias, stitch_trained_bias_outpath)\n",
    "                       \n",
    "            stitch_weight_diff = trained_stitch_weight - initial_stitch_weight\n",
    "            stitch_weight_delta = torch.linalg.norm(stitch_weight_diff).item()\n",
    "            logtofile(f\"Change in stitch weights: {stitch_weight_delta}\")\n",
    "            maxabsweight =  torch.max(stitch_weight_diff.abs()).item()\n",
    "            logtofile(f\"Largest abs weight change: {maxabsweight}\")\n",
    "            stitch_weight_number = torch.sum(torch.where(stitch_weight_diff.abs() > 0.1*maxabsweight, True, False)).item()\n",
    "            logtofile(f\"Number of weights changing > 0.1 of that: {stitch_weight_number}\")\n",
    "\n",
    "            \n",
    "            print(f\"Number of weight / bias in stitch layer is {len(initial_stitch_weight)}\")\n",
    "            stitch_bias_diff = trained_stitch_bias - initial_stitch_bias\n",
    "            stitch_bias_delta = torch.linalg.norm(stitch_bias_diff).item()\n",
    "            logtofile(f\"Change in stitch bias: {stitch_bias_delta}\")\n",
    "            maxabsbias =  torch.max(stitch_bias_diff.abs()).item()\n",
    "            logtofile(f\"Largest abs bias change: {maxabsbias}\")\n",
    "            stitch_bias_number = torch.sum(torch.where(stitch_bias_diff.abs() > 0.1*maxabsbias, True, False)).item()\n",
    "            logtofile(f\"Number of bias changing > 0.1 of that: {stitch_bias_number}\")\n",
    "            ##############################################################\n",
    "\n",
    "            \n",
    "            # Compute the model accuracy on the test set\n",
    "            correct = 0\n",
    "            total = 0\n",
    "            \n",
    "            # assuming 10 classes\n",
    "            # rows represent actual class, columns are predicted\n",
    "            confusion_matrix = torch.zeros(10,10, dtype=torch.int)\n",
    "            TDL = send_val[\"test_loader\"]\n",
    "            for data in TDL: # biased_test_dataloader:  # Only use biased test data\n",
    "                inputs, labels = data\n",
    "                inputs = inputs.to(device)\n",
    "                labels = labels.to(device)\n",
    "                \n",
    "                predictions = torch.argmax(model_stitched(inputs),1)\n",
    "                matches = predictions == labels.to(device)\n",
    "                correct += matches.sum().item()\n",
    "                total += len(labels)\n",
    "            \n",
    "                for idx, l in enumerate(labels):\n",
    "                    confusion_matrix[l, predictions[idx]] = 1 + confusion_matrix[l, predictions[idx]] \n",
    "            logtofile(f\"Test the trained stitch against {key=} data\")    \n",
    "            acc =  ((100.0 * correct) / total)\n",
    "            logtofile('Test Accuracy: %2.2f %%' % acc)\n",
    "            logtofile('Confusion Matrix')\n",
    "            logtofile(confusion_matrix)\n",
    "            logtofile(\"===================================================================\")\n",
    "            # logtofile(process.memory_info().rss)  # in bytes \n",
    "\n",
    "            # Stitching penalty should be negative if there is an improvement, and is relative to the original receiver network\n",
    "            stitching_accuracies[send_key][rcv_key][layer_to_cut_after] = acc\n",
    "            stitching_penalties[send_key][rcv_key][layer_to_cut_after] = original_accuracy[rcv_key] - acc\n",
    "\n",
    "            # MEASURE RANK\n",
    "            #TDL = biased_test_dataloader\n",
    "            params = {}\n",
    "            params[\"model\"] = model_training_type # a mnemonic\n",
    "            params[\"dataset\"] = dataset_type\n",
    "            params[\"seed\"] = seed\n",
    "            if send_val[\"train\"]:\n",
    "                params[\"send_file\"] = send_val[\"saveas\"] \n",
    "            else:    \n",
    "                params[\"send_file\"] = send_val[\"loadfrom\"] \n",
    "            if rcv_val[\"train\"]:\n",
    "                params[\"rcv_file\"] = rcv_val[\"saveas\"] \n",
    "            else:    \n",
    "                params[\"rcv_file\"] = rcv_val[\"loadfrom\"] \n",
    "            params[\"stitch_weight_delta\"] = stitch_weight_delta\n",
    "            params[\"stitch_bias_delta\"] = stitch_bias_delta        \n",
    "            params[\"stitch_weight_number\"] = stitch_weight_number\n",
    "            params[\"stitch_bias_number\"] = stitch_bias_number\n",
    "            # logtofile(process.memory_info().rss)  # in bytes \n",
    "            with torch.no_grad():\n",
    "                layers, features, handles = install_hooks(model_stitched)                \n",
    "                metrics = evaluate_model(model_stitched, TDL, 'acc', verbose=2)\n",
    "                params.update(metrics)\n",
    "                \n",
    "                classes = None\n",
    "                df = perform_analysis(features, classes, layers, params, n=-1)\n",
    "                df.to_csv(f\"{outpath}\")\n",
    "                \n",
    "            for h in handles:\n",
    "                h.remove()\n",
    "            del model_stitched, layers, features, metrics, params, df, handles\n",
    "            gc.collect()\n",
    "            # logtofile(process.memory_info().rss)  # in bytes \n",
    "\n",
    "            "
   ]
  },
  {
   "cell_type": "code",
   "execution_count": null,
   "id": "60d7ee7c-3777-4d3a-a572-0dd849542f74",
   "metadata": {},
   "outputs": [],
   "source": []
  },
  {
   "cell_type": "code",
   "execution_count": 9,
   "id": "3db5808a-6351-4133-9e7c-85e8e9248cfb",
   "metadata": {},
   "outputs": [
    {
     "name": "stdout",
     "output_type": "stream",
     "text": [
      "stitching_accuracies={'bw': {'bgonly': {3: 80.37, 4: 92.18, 5: 97.6, 6: 98.83, 7: 99.17, 8: 99.14}}, 'bgonly': {'bw': {3: 100.0, 4: 100.0, 5: 100.0, 6: 100.0, 7: 100.0, 8: 100.0}}}\n",
      "stitching_penalties={'bw': {'bgonly': {3: 19.629999999999995, 4: 7.819999999999993, 5: 2.4000000000000057, 6: 1.1700000000000017, 7: 0.8299999999999983, 8: 0.8599999999999994}}, 'bgonly': {'bw': {3: -1.1500000000000057, 4: -1.1500000000000057, 5: -1.1500000000000057, 6: -1.1500000000000057, 7: -1.1500000000000057, 8: -1.1500000000000057}}}\n"
     ]
    }
   ],
   "source": [
    "logtofile(f\"{stitching_accuracies=}\")\n",
    "logtofile(f\"{stitching_penalties=}\")"
   ]
  },
  {
   "cell_type": "code",
   "execution_count": 10,
   "id": "cd669a19-7c42-4265-b8e8-57165995c097",
   "metadata": {},
   "outputs": [
    {
     "name": "stdout",
     "output_type": "stream",
     "text": [
      "sender:-bw\n",
      "98.85\n",
      "Stitch Accuracy\n",
      "receiver:-bgonly\n",
      "{3: 80.37, 4: 92.18, 5: 97.6, 6: 98.83, 7: 99.17, 8: 99.14}\n",
      "--------------------------\n",
      "sender:-bgonly\n",
      "100.0\n",
      "Stitch Accuracy\n",
      "receiver:-bw\n",
      "{3: 100.0, 4: 100.0, 5: 100.0, 6: 100.0, 7: 100.0, 8: 100.0}\n",
      "--------------------------\n"
     ]
    }
   ],
   "source": [
    "for s_key in stitching_accuracies:\n",
    "    logtofile(f\"sender:-{s_key}\")\n",
    "    logtofile(original_accuracy[s_key])\n",
    "    logtofile(\"Stitch Accuracy\")\n",
    "    for r_key in stitching_accuracies[s_key]:\n",
    "        logtofile(f\"receiver:-{r_key}\")\n",
    "        logtofile(stitching_accuracies[s_key][r_key])\n",
    "    logtofile(\"--------------------------\")"
   ]
  },
  {
   "cell_type": "code",
   "execution_count": null,
   "id": "d289b652-cdc9-44ab-9d0a-265748ccee83",
   "metadata": {},
   "outputs": [],
   "source": []
  }
 ],
 "metadata": {
  "kernelspec": {
   "display_name": "Python 3 (ipykernel)",
   "language": "python",
   "name": "python3"
  },
  "language_info": {
   "codemirror_mode": {
    "name": "ipython",
    "version": 3
   },
   "file_extension": ".py",
   "mimetype": "text/x-python",
   "name": "python",
   "nbconvert_exporter": "python",
   "pygments_lexer": "ipython3",
   "version": "3.10.14"
  }
 },
 "nbformat": 4,
 "nbformat_minor": 5
}
