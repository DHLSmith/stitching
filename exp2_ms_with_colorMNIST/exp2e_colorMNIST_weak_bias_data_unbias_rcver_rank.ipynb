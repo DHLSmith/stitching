{
 "cells": [
  {
   "cell_type": "markdown",
   "id": "46e81ec0-e3c4-4060-97c1-bfccf47bc350",
   "metadata": {},
   "source": [
    "# Bias data, unbias trained receiver, different sender networks\n",
    "bg_unbiased means digit and bg_colour are unrelated, but the model is trained and tested on the background.\n",
    "bg_colour will be varied by 10% in each channel\n",
    "In 2b the stitch was trained against the dataset of the receive network.\n",
    "Now we will \n",
    "only use unbias-trained network as receiver\n",
    "only use bias data to train the stitch\n",
    "Try the different sender networks at all different stitch levels\n",
    "## Rank\n",
    "Also perform rank analysis on the stitched networks based on exp1e\n",
    "## 4 Epochs\n",
    "Only do 4 epochs of training (keep 10 epochs of stitch training) so that the initial models are weaker"
   ]
  },
  {
   "cell_type": "code",
   "execution_count": 1,
   "id": "51fc60f8-f6f6-469c-8705-c9015bd43951",
   "metadata": {},
   "outputs": [],
   "source": [
    "# Packages\n",
    "%matplotlib inline\n",
    "\n",
    "import argparse\n",
    "import gc\n",
    "import os.path\n",
    "\n",
    "import pandas as pd\n",
    "from torch.linalg import LinAlgError\n",
    "\n",
    "import matplotlib.pyplot as plt\n",
    "import torchvision\n",
    "import torch\n",
    "from torch import optim\n",
    "\n",
    "from torch import nn\n",
    "from torch.utils.data import DataLoader\n",
    "from torchvision.datasets import MNIST\n",
    "import torchvision.transforms as transforms\n",
    "import datetime\n",
    "\n",
    "import random\n",
    "import numpy as np\n",
    "\n",
    "import sys\n",
    "import os\n",
    "# add the path to find colour_mnist\n",
    "sys.path.append(os.path.abspath('../ReferenceCode'))\n",
    "import colour_mnist\n",
    "from stitch_utils import train_model, RcvResNet18, StitchedResNet18, get_layer_output_shape\n",
    "from stitch_utils import generate_activations, SyntheticDataset\n",
    "import stitch_utils\n",
    "\n",
    "# add the path to find the rank analysis code\n",
    "# https://github.com/DHLSmith/jons-tunnel-effect/tree/NeurIPSPaper\n",
    "sys.path.append(os.path.abspath('../../jons-tunnel-effect/'))\n",
    "from utils.modelfitting import evaluate_model, set_seed\n",
    "from extract_weight_rank import install_hooks, perform_analysis\n",
    "\n",
    "import torchvision\n",
    "import torchvision.transforms as transforms\n",
    "from torchvision.datasets import MNIST\n",
    "\n",
    "# To track memory usage\n",
    "import psutil\n",
    "process = psutil.Process()\n",
    "            \n",
    "\n",
    "def logtofile(log_text, verbose=True):\n",
    "    if verbose:\n",
    "        print(log_text)\n",
    "    with open(save_log_as, \"a\") as f:    \n",
    "        print(log_text, file=f)"
   ]
  },
  {
   "cell_type": "code",
   "execution_count": 2,
   "id": "6761870b-2996-4763-8d90-76529ec5822e",
   "metadata": {},
   "outputs": [],
   "source": [
    "# Set Parameters\n",
    "\n",
    "# fix random seed for reproducibility\n",
    "seed = 61\n",
    "torch.manual_seed(seed)\n",
    "torch.backends.cudnn.benchmark = False\n",
    "torch.backends.cudnn.deterministic = True\n",
    "random.seed(seed)\n",
    "torch.cuda.manual_seed(seed)\n",
    "np.random.seed(seed)\n",
    "\n",
    "train_all = True\n",
    "\n",
    "# MIX is 1/3 bgonly, 1/3 mnist only, 1/3 biased data\n",
    "train_mix_mnist_model = train_all  # when False, automatically loads a trained model\n",
    "mix_mnist_model_to_load = \"./results_4_epochs/2024-08-02_11-10-38_SEED57_EPOCHS4_BGN0.1_exp2d_ResNet18_mix_mnist.weights\"\n",
    "\n",
    "# BW is greyscale mnist with no colour added\n",
    "train_bw_mnist_model = train_all  # when False, automatically loads a trained model\n",
    "bw_mnist_model_to_load = './results_4_epochs/2024-08-02_11-10-38_SEED57_EPOCHS4_BGN0.1_exp2d_ResNet18_bw_mnist.weights'\n",
    "\n",
    "# BG_ONLY contains no mnist data, just a coloured background\n",
    "train_bg_only_colour_mnist_model = train_all  # when False, automatically loads a trained model\n",
    "bg_only_colour_mnist_model_to_load =  \"./results_4_epochs/2024-08-02_11-10-38_SEED57_EPOCHS4_BGN0.1_exp2d_ResNet18_bg_only_colour_mnist.weights\"\n",
    "\n",
    "# BG_UNBIASED is digits with randomly selected colour background. Targets represent the colour\n",
    "train_bg_unbiased_colour_mnist_model = train_all  # when False, automatically loads a trained model\n",
    "bg_unbiased_colour_mnist_model_to_load = \"./results_4_epochs/2024-08-02_11-10-38_SEED57_EPOCHS4_BGN0.1_exp2d_ResNet18_bg_unbiased_colour_mnist.weights\"\n",
    "\n",
    "# BIASED is digits with consistent per-class colour background. \n",
    "train_biased_colour_mnist_model = train_all  # when False, automatically loads a trained model\n",
    "biased_colour_mnist_model_to_load = \"./results_4_epochs/2024-08-02_11-10-38_SEED57_EPOCHS4_BGN0.1_exp2d_ResNet18_biased_colour_mnist.weights\"\n",
    "\n",
    "# UNBIASED is digits with randoly selected colour background. Targets are digit values\n",
    "train_unbiased_colour_mnist_model = train_all  # when False, automatically loads a trained model\n",
    "unbiased_colour_mnist_model_to_load = \"./results_4_epochs/2024-08-02_11-10-38_SEED57_EPOCHS4_BGN0.1_exp2d_ResNet18_unbiased_colour_mnist.weights\"\n",
    "\n",
    "original_train_epochs = 4\n",
    "bg_noise = 0.1\n",
    "\n",
    "stitch_train_epochs = 10\n",
    "\n",
    "batch_size = 128"
   ]
  },
  {
   "cell_type": "code",
   "execution_count": 3,
   "id": "20ee6e98-a6f2-4647-b378-5f7b1af48581",
   "metadata": {},
   "outputs": [
    {
     "name": "stdout",
     "output_type": "stream",
     "text": [
      "Executed at 2025-01-29_20-01-26\n",
      "logging to ./results_4_epochs/2025-01-29_20-01-26_SEED61_EPOCHS4_BGN0.1_exp2e_ResNet18_log.txt\n",
      "seed=61\n",
      "bg_noise=0.1\n",
      "train_mix_mnist_model=True\n",
      "save_mix_mnist_model_as='./results_4_epochs/2025-01-29_20-01-26_SEED61_EPOCHS4_BGN0.1_exp2e_ResNet18_mix_mnist.weights'\n",
      "original_train_epochs=4\n",
      "train_bw_mnist_model=True\n",
      "save_bw_mnist_model_as='./results_4_epochs/2025-01-29_20-01-26_SEED61_EPOCHS4_BGN0.1_exp2e_ResNet18_bw_mnist.weights'\n",
      "original_train_epochs=4\n",
      "train_bg_only_colour_mnist_model=True\n",
      "save_bg_only_colour_mnist_model_as='./results_4_epochs/2025-01-29_20-01-26_SEED61_EPOCHS4_BGN0.1_exp2e_ResNet18_bg_only_colour_mnist.weights'\n",
      "original_train_epochs=4\n",
      "train_bg_unbiased_colour_mnist_model=True\n",
      "save_bg_unbiased_colour_mnist_model_as='./results_4_epochs/2025-01-29_20-01-26_SEED61_EPOCHS4_BGN0.1_exp2e_ResNet18_bg_unbiased_colour_mnist.weights'\n",
      "original_train_epochs=4\n",
      "train_biased_colour_mnist_model=True\n",
      "save_biased_colour_mnist_model_as='./results_4_epochs/2025-01-29_20-01-26_SEED61_EPOCHS4_BGN0.1_exp2e_ResNet18_biased_colour_mnist.weights'\n",
      "original_train_epochs=4\n",
      "train_unbiased_colour_mnist_model=True\n",
      "save_unbiased_colour_mnist_model_as='./results_4_epochs/2025-01-29_20-01-26_SEED61_EPOCHS4_BGN0.1_exp2e_ResNet18_unbiased_colour_mnist.weights'\n",
      "original_train_epochs=4\n",
      "stitch_train_epochs=10\n",
      "================================================\n"
     ]
    }
   ],
   "source": [
    "# Generate filenames and log the setup details\n",
    "formatted_time = datetime.datetime.now().strftime(\"%Y-%m-%d_%H-%M-%S\")\n",
    "filename_prefix = f\"./results_4_epochs/{formatted_time}_SEED{seed}_EPOCHS{original_train_epochs}_BGN{bg_noise}_exp2e_ResNet18\"\n",
    "save_mix_mnist_model_as = f\"{filename_prefix}_mix_mnist.weights\"\n",
    "save_bw_mnist_model_as = f\"{filename_prefix}_bw_mnist.weights\"\n",
    "save_bg_only_colour_mnist_model_as = f\"{filename_prefix}_bg_only_colour_mnist.weights\"\n",
    "save_bg_unbiased_colour_mnist_model_as = f\"{filename_prefix}_bg_unbiased_colour_mnist.weights\"\n",
    "save_biased_colour_mnist_model_as = f\"{filename_prefix}_biased_colour_mnist.weights\"\n",
    "save_unbiased_colour_mnist_model_as = f\"{filename_prefix}_unbiased_colour_mnist.weights\"\n",
    "save_log_as = f\"{filename_prefix}_log.txt\"\n",
    "\n",
    "colour_mnist_shape = (3,28,28)\n",
    "\n",
    "\n",
    "logtofile(f\"Executed at {formatted_time}\")\n",
    "logtofile(f\"logging to {save_log_as}\")\n",
    "logtofile(f\"{seed=}\")\n",
    "logtofile(f\"{bg_noise=}\")\n",
    "\n",
    "logtofile(f\"{train_mix_mnist_model=}\")\n",
    "if train_mix_mnist_model:\n",
    "    logtofile(f\"{save_mix_mnist_model_as=}\")\n",
    "    logtofile(f\"{original_train_epochs=}\")\n",
    "else:\n",
    "    logtofile(f\"{mix_mnist_model_to_load=}\")\n",
    "\n",
    "logtofile(f\"{train_bw_mnist_model=}\")\n",
    "if train_bw_mnist_model:\n",
    "    logtofile(f\"{save_bw_mnist_model_as=}\")\n",
    "    logtofile(f\"{original_train_epochs=}\")\n",
    "else:\n",
    "    logtofile(f\"{bw_mnist_model_to_load=}\")\n",
    "    \n",
    "logtofile(f\"{train_bg_only_colour_mnist_model=}\")\n",
    "if train_bg_only_colour_mnist_model:\n",
    "    logtofile(f\"{save_bg_only_colour_mnist_model_as=}\")\n",
    "    logtofile(f\"{original_train_epochs=}\")\n",
    "else:\n",
    "    logtofile(f\"{bg_only_colour_mnist_model_to_load=}\")\n",
    "    \n",
    "logtofile(f\"{train_bg_unbiased_colour_mnist_model=}\")\n",
    "if train_bg_unbiased_colour_mnist_model:\n",
    "    logtofile(f\"{save_bg_unbiased_colour_mnist_model_as=}\")\n",
    "    logtofile(f\"{original_train_epochs=}\")\n",
    "else:\n",
    "    logtofile(f\"{bg_unbiased_colour_mnist_model_to_load=}\")\n",
    "\n",
    "logtofile(f\"{train_biased_colour_mnist_model=}\")\n",
    "if train_biased_colour_mnist_model:\n",
    "    logtofile(f\"{save_biased_colour_mnist_model_as=}\")\n",
    "    logtofile(f\"{original_train_epochs=}\")\n",
    "else:\n",
    "    logtofile(f\"{biased_colour_mnist_model_to_load=}\")\n",
    "\n",
    "logtofile(f\"{train_unbiased_colour_mnist_model=}\")\n",
    "if train_unbiased_colour_mnist_model:\n",
    "    logtofile(f\"{save_unbiased_colour_mnist_model_as=}\")\n",
    "    logtofile(f\"{original_train_epochs=}\")\n",
    "else:\n",
    "    logtofile(f\"{unbiased_colour_mnist_model_to_load=}\")\n",
    "\n",
    "logtofile(f\"{stitch_train_epochs=}\")\n",
    "logtofile(f\"================================================\")"
   ]
  },
  {
   "cell_type": "markdown",
   "id": "6cc621f6-55e8-4191-8288-dc2493cd6bff",
   "metadata": {},
   "source": [
    "mnist and cifar-10 both use 10-classes, with 60_000 train samples and 10_000 test samples. "
   ]
  },
  {
   "cell_type": "code",
   "execution_count": 4,
   "id": "d34a54d2-c8fa-4f51-8809-7a40b4fefc6c",
   "metadata": {},
   "outputs": [],
   "source": [
    "# Set up dataloaders\n",
    "transform_bw = transforms.Compose([\n",
    "    transforms.Grayscale(num_output_channels=3),  # Convert to 3 channels    \n",
    "    transforms.ToTensor(),  # convert to tensor. We always do this one    \n",
    "    transforms.Normalize((0.1307,) * 3, (0.3081,) * 3)     \n",
    "])\n",
    "\n",
    "mnist_train = MNIST(\"./MNIST\", train=True, download=True, transform=transform_bw)\n",
    "mnist_test = MNIST(\"./MNIST\", train=False, download=True, transform=transform_bw)\n",
    "\n",
    "bw_train_dataloader = DataLoader(mnist_train, batch_size=batch_size, shuffle=True, drop_last=True)\n",
    "bw_test_dataloader  = DataLoader(mnist_test,  batch_size=batch_size, shuffle=True, drop_last=False)\n",
    "\n",
    "# mix dataloader\n",
    "mix_train_dataloader = colour_mnist.get_mixed_mnist_dataloader(root=\"./MNIST\", batch_size=batch_size, train=True, bg_noise_level=bg_noise, standard_getitem=True)\n",
    "mix_test_dataloader = colour_mnist.get_mixed_mnist_dataloader(root=\"./MNIST\", batch_size=batch_size,  train=False, bg_noise_level=bg_noise, standard_getitem=True)\n",
    "\n",
    "# bg_only means no digits - we will use colour as label\n",
    "bg_only_train_dataloader = colour_mnist.get_biased_mnist_dataloader(root=\"./MNIST\", batch_size=batch_size, data_label_correlation=1.0, train=True, bg_noise_level=bg_noise, bg_only=True, standard_getitem=True)\n",
    "bg_only_test_dataloader = colour_mnist.get_biased_mnist_dataloader(root=\"./MNIST\", batch_size=batch_size, data_label_correlation=1.0, train=False, bg_noise_level=bg_noise, bg_only=True, standard_getitem=True)\n",
    "\n",
    "# unbiased means each digit has correct label and random colour - but bg means we will use colour as label (i.e. the bias_target will be the target)\n",
    "bg_unbiased_train_dataloader = colour_mnist.get_biased_mnist_dataloader(root=\"./MNIST\", batch_size=batch_size, data_label_correlation=0.1, train=True, bg_noise_level=bg_noise, bias_targets_as_targets=True)\n",
    "bg_unbiased_test_dataloader = colour_mnist.get_biased_mnist_dataloader(root=\"./MNIST\", batch_size=batch_size, data_label_correlation=0.1, train=False, bg_noise_level=bg_noise, bias_targets_as_targets=True)\n",
    "\n",
    "# biased means each digit has correct label and consistent colour - Expect network to learn the colours only\n",
    "biased_train_dataloader = colour_mnist.get_biased_mnist_dataloader(root=\"./MNIST\", batch_size=batch_size, data_label_correlation=1.0, train=True, bg_noise_level=bg_noise, standard_getitem=True)\n",
    "biased_test_dataloader = colour_mnist.get_biased_mnist_dataloader(root=\"./MNIST\", batch_size=batch_size, data_label_correlation=1.0, train=False, bg_noise_level=bg_noise, standard_getitem=True)\n",
    "\n",
    "# unbiased means each digit has correct label and random colour - Expect network to disregard colours?\n",
    "unbiased_train_dataloader = colour_mnist.get_biased_mnist_dataloader(root=\"./MNIST\", batch_size=batch_size, data_label_correlation=0.1, train=True, bg_noise_level=bg_noise, standard_getitem=True)\n",
    "unbiased_test_dataloader = colour_mnist.get_biased_mnist_dataloader(root=\"./MNIST\", batch_size=batch_size, data_label_correlation=0.1, train=False, bg_noise_level=bg_noise, standard_getitem=True)"
   ]
  },
  {
   "cell_type": "markdown",
   "id": "24842d82-5f62-4d1b-acc5-d1997a08b0b9",
   "metadata": {},
   "source": [
    "## Set up resnet18 models and train it on versions of MNIST"
   ]
  },
  {
   "cell_type": "code",
   "execution_count": 5,
   "id": "cf635cfd-a9ad-4e37-98a0-80d0db2a3b9f",
   "metadata": {},
   "outputs": [
    {
     "name": "stdout",
     "output_type": "stream",
     "text": [
      "Processing for key='mix'\n",
      "Train Model on mix\n",
      "Epoch 0, loss 291.71\n",
      "Epoch 1, loss 75.00\n",
      "Epoch 2, loss 37.22\n",
      "Epoch 3, loss 15.44\n",
      "**** Finished Training ****\n",
      "saveas='./results_4_epochs/2025-01-29_20-01-26_SEED61_EPOCHS4_BGN0.1_exp2e_ResNet18_mix_mnist.weights'\n",
      "Processing for key='bw'\n",
      "Train Model on bw\n",
      "Epoch 0, loss 137.39\n",
      "Epoch 1, loss 26.91\n",
      "Epoch 2, loss 19.86\n",
      "Epoch 0, loss 66.28\n",
      "Epoch 1, loss 4.52\n",
      "Epoch 2, loss 1.49\n",
      "Epoch 3, loss 1.58\n",
      "**** Finished Training ****\n",
      "saveas='./results_4_epochs/2025-01-29_20-01-26_SEED61_EPOCHS4_BGN0.1_exp2e_ResNet18_bg_unbiased_colour_mnist.weights'\n",
      "Processing for key='bias'\n",
      "Train Model on bias\n",
      "Epoch 0, loss 63.10\n",
      "Epoch 1, loss 3.65\n",
      "Epoch 2, loss 1.01\n",
      "Epoch 3, loss 1.73\n",
      "**** Finished Training ****\n",
      "saveas='./results_4_epochs/2025-01-29_20-01-26_SEED61_EPOCHS4_BGN0.1_exp2e_ResNet18_biased_colour_mnist.weights'\n",
      "Processing for key='unbias'\n",
      "Train Model on unbias\n",
      "Epoch 0, loss 267.71\n",
      "Epoch 1, loss 70.37\n",
      "Epoch 2, loss 47.43\n",
      "Epoch 3, loss 31.44\n",
      "**** Finished Training ****\n",
      "saveas='./results_4_epochs/2025-01-29_20-01-26_SEED61_EPOCHS4_BGN0.1_exp2e_ResNet18_unbiased_colour_mnist.weights'\n"
     ]
    }
   ],
   "source": [
    "\n",
    "process_structure = dict()\n",
    "device = 'cuda:0'\n",
    "\n",
    "\n",
    "process_structure[\"mix\"] = dict()\n",
    "process_structure[\"bw\"] = dict()\n",
    "process_structure[\"bgonly\"] = dict()\n",
    "process_structure[\"bg\"] = dict()\n",
    "process_structure[\"bias\"]      = dict()\n",
    "process_structure[\"unbias\"]    = dict()\n",
    "\n",
    "# \"mix\"\n",
    "process_structure[\"mix\"][\"model\"] = torchvision.models.resnet18(num_classes=10).to(device) # Untrained model\n",
    "process_structure[\"mix\"][\"train\"] = train_mix_mnist_model \n",
    "process_structure[\"mix\"][\"train_loader\"] = mix_train_dataloader\n",
    "process_structure[\"mix\"][\"test_loader\"] = mix_test_dataloader\n",
    "process_structure[\"mix\"][\"saveas\"] = save_mix_mnist_model_as\n",
    "process_structure[\"mix\"][\"loadfrom\"] = mix_mnist_model_to_load\n",
    "\n",
    "# \"bw\"\n",
    "process_structure[\"bw\"][\"model\"] = torchvision.models.resnet18(num_classes=10).to(device) # Untrained model\n",
    "process_structure[\"bw\"][\"train\"] = train_bw_mnist_model \n",
    "process_structure[\"bw\"][\"train_loader\"] = bw_train_dataloader\n",
    "process_structure[\"bw\"][\"test_loader\"] = bw_test_dataloader\n",
    "process_structure[\"bw\"][\"saveas\"] = save_bw_mnist_model_as\n",
    "process_structure[\"bw\"][\"loadfrom\"] = bw_mnist_model_to_load\n",
    "\n",
    "# \"bg_only_colour\"\n",
    "process_structure[\"bgonly\"][\"model\"] = torchvision.models.resnet18(num_classes=10).to(device) # Untrained model\n",
    "process_structure[\"bgonly\"][\"train\"] = train_bg_only_colour_mnist_model \n",
    "process_structure[\"bgonly\"][\"train_loader\"] = bg_only_train_dataloader\n",
    "process_structure[\"bgonly\"][\"test_loader\"] = bg_only_test_dataloader\n",
    "process_structure[\"bgonly\"][\"saveas\"] = save_bg_only_colour_mnist_model_as\n",
    "process_structure[\"bgonly\"][\"loadfrom\"] = bg_only_colour_mnist_model_to_load\n",
    "\n",
    "# \"bg_unbiased_colour\"\n",
    "process_structure[\"bg\"][\"model\"] = torchvision.models.resnet18(num_classes=10).to(device) # Untrained model\n",
    "process_structure[\"bg\"][\"train\"] = train_bg_unbiased_colour_mnist_model \n",
    "process_structure[\"bg\"][\"train_loader\"] = bg_unbiased_train_dataloader\n",
    "process_structure[\"bg\"][\"test_loader\"] = bg_unbiased_test_dataloader\n",
    "process_structure[\"bg\"][\"saveas\"] = save_bg_unbiased_colour_mnist_model_as\n",
    "process_structure[\"bg\"][\"loadfrom\"] = bg_unbiased_colour_mnist_model_to_load\n",
    "\n",
    "# \"biased_colour_mnist\"\n",
    "process_structure[\"bias\"][\"model\"] = torchvision.models.resnet18(num_classes=10).to(device) # Untrained model\n",
    "process_structure[\"bias\"][\"train\"] = train_biased_colour_mnist_model\n",
    "process_structure[\"bias\"][\"train_loader\"] = biased_train_dataloader\n",
    "process_structure[\"bias\"][\"test_loader\"] = biased_test_dataloader\n",
    "process_structure[\"bias\"][\"saveas\"] = save_biased_colour_mnist_model_as\n",
    "process_structure[\"bias\"][\"loadfrom\"] =  biased_colour_mnist_model_to_load\n",
    "\n",
    "# \"unbiased_colour_mnist\"\n",
    "process_structure[\"unbias\"][\"model\"] = torchvision.models.resnet18(num_classes=10).to(device) # Untrained model\n",
    "process_structure[\"unbias\"][\"train\"] = train_unbiased_colour_mnist_model\n",
    "process_structure[\"unbias\"][\"train_loader\"] = unbiased_train_dataloader\n",
    "process_structure[\"unbias\"][\"test_loader\"] = unbiased_test_dataloader\n",
    "process_structure[\"unbias\"][\"saveas\"] = save_unbiased_colour_mnist_model_as\n",
    "process_structure[\"unbias\"][\"loadfrom\"] =  unbiased_colour_mnist_model_to_load\n",
    "\n",
    "for key, val in process_structure.items():\n",
    "    print(f\"Processing for {key=}\")\n",
    "    if val[\"train\"]:\n",
    "        train_model(model=val[\"model\"], train_loader=val[\"train_loader\"], \n",
    "                    epochs=original_train_epochs, saveas=val[\"saveas\"], \n",
    "                    description=key, device=device, logtofile=logtofile)\n",
    "    else:\n",
    "        logtofile(f\"{val['loadfrom']=}\")\n",
    "        val[\"model\"].load_state_dict(torch.load(val[\"loadfrom\"], map_location=torch.device(device)))\n",
    "    val[\"model\"].eval()\n"
   ]
  },
  {
   "cell_type": "markdown",
   "id": "b169c5c7-7929-48e1-82eb-6f047aa4e5f2",
   "metadata": {},
   "source": [
    "## Measure the Accuracy, Record the Confusion Matrix\n"
   ]
  },
  {
   "cell_type": "code",
   "execution_count": 6,
   "id": "4fbb925a-269d-4027-9500-6cdce4de9d70",
   "metadata": {},
   "outputs": [
    {
     "name": "stdout",
     "output_type": "stream",
     "text": [
      "Entering Confusion\n",
      "Accuracy Calculation for ResNet18 with key='mix'\n",
      "Test the Trained Resnet18 against BIASED TEST DATALOADER\n",
      "Test Accuracy: 100.00 %\n",
      "Confusion Matrix\n",
      "tensor([[ 980,    0,    0,    0,    0,    0,    0,    0,    0,    0],\n",
      "        [   0, 1135,    0,    0,    0,    0,    0,    0,    0,    0],\n",
      "        [   0,    0, 1032,    0,    0,    0,    0,    0,    0,    0],\n",
      "        [   0,    0,    0, 1010,    0,    0,    0,    0,    0,    0],\n",
      "        [   0,    0,    0,    0,  982,    0,    0,    0,    0,    0],\n",
      "        [   0,    0,    0,    0,    0,  892,    0,    0,    0,    0],\n",
      "        [   0,    0,    0,    0,    0,    0,  958,    0,    0,    0],\n",
      "        [   0,    0,    0,    0,    0,    0,    0, 1028,    0,    0],\n",
      "        [   0,    0,    0,    0,    0,    0,    0,    0,  974,    0],\n",
      "        [   0,    0,    0,    0,    0,    0,    0,    0,    0, 1009]],\n",
      "       dtype=torch.int32)\n",
      "tensor(10000)\n",
      "Accuracy Calculation for ResNet18 with key='bw'\n",
      "Test the Trained Resnet18 against BIASED TEST DATALOADER\n",
      "Test Accuracy: 62.73 %\n",
      "Confusion Matrix\n",
      "tensor([[ 978,    0,    0,    0,    0,    0,    1,    1,    0,    0],\n",
      "        [   9, 1101,    3,    0,    0,    0,   17,    0,    5,    0],\n",
      "        [  54,    1,  907,    0,    5,    0,    5,    0,   60,    0],\n",
      "        [ 130,    1,    1,    0,    0,    0,   16,    0,  862,    0],\n",
      "        [   0,   15,    0,    0,  899,    0,   68,    0,    0,    0],\n",
      "        [  39,    4,    0,    0,    1,   16,  394,    0,  438,    0],\n",
      "        [   8,    4,    0,    0,    1,    0,  945,    0,    0,    0],\n",
      "        [  35,  231,    4,    0,   89,    0,    1,  307,  358,    3],\n",
      "        [  63,    5,    0,    0,    4,    0,   36,    0,  866,    0],\n",
      "        [  66,   21,    0,    0,  283,    0,    3,    0,  382,  254]],\n",
      "       dtype=torch.int32)\n",
      "tensor(10000)\n",
      "Accuracy Calculation for ResNet18 with key='bgonly'\n",
      "Test the Trained Resnet18 against BIASED TEST DATALOADER\n",
      "Test Accuracy: 90.71 %\n",
      "Confusion Matrix\n",
      "tensor([[ 959,    0,    0,    0,    0,    0,    0,   21,    0,    0],\n",
      "        [   0, 1127,    3,    5,    0,    0,    0,    0,    0,    0],\n",
      "        [   0,    0, 1032,    0,    0,    0,    0,    0,    0,    0],\n",
      "        [   0,    0,    0, 1010,    0,    0,    0,    0,    0,    0],\n",
      "        [   0,    0,    0,    0,  982,    0,    0,    0,    0,    0],\n",
      "        [   0,    0,    0,    0,    0,  892,    0,    0,    0,    0],\n",
      "        [   0,    0,    0,   35,    0,    0,  923,    0,    0,    0],\n",
      "        [   0,    0,    0,    0,   48,    0,    0,  980,    0,    0],\n",
      "        [   0,    0,    0,    0,  277,    0,    0,    0,  697,    0],\n",
      "        [   0,    0,    0,  514,    0,    0,    0,    0,   26,  469]],\n",
      "       dtype=torch.int32)\n",
      "tensor(10000)\n",
      "Accuracy Calculation for ResNet18 with key='bg'\n",
      "Test the Trained Resnet18 against BIASED TEST DATALOADER\n",
      "Test Accuracy: 100.00 %\n",
      "Confusion Matrix\n",
      "tensor([[ 980,    0,    0,    0,    0,    0,    0,    0,    0,    0],\n",
      "        [   0, 1135,    0,    0,    0,    0,    0,    0,    0,    0],\n",
      "        [   0,    0, 1032,    0,    0,    0,    0,    0,    0,    0],\n",
      "        [   0,    0,    0, 1010,    0,    0,    0,    0,    0,    0],\n",
      "        [   0,    0,    0,    0,  982,    0,    0,    0,    0,    0],\n",
      "        [   0,    0,    0,    0,    0,  892,    0,    0,    0,    0],\n",
      "        [   0,    0,    0,    0,    0,    0,  958,    0,    0,    0],\n",
      "        [   0,    0,    0,    0,    0,    0,    0, 1028,    0,    0],\n",
      "        [   0,    0,    0,    0,    0,    0,    0,    0,  974,    0],\n",
      "        [   0,    0,    0,    0,    0,    0,    0,    0,    0, 1009]],\n",
      "       dtype=torch.int32)\n",
      "tensor(10000)\n",
      "Accuracy Calculation for ResNet18 with key='bias'\n",
      "Test the Trained Resnet18 against BIASED TEST DATALOADER\n",
      "Test Accuracy: 99.95 %\n",
      "Confusion Matrix\n",
      "tensor([[ 980,    0,    0,    0,    0,    0,    0,    0,    0,    0],\n",
      "        [   0, 1135,    0,    0,    0,    0,    0,    0,    0,    0],\n",
      "        [   0,    0, 1032,    0,    0,    0,    0,    0,    0,    0],\n",
      "        [   0,    0,    0, 1010,    0,    0,    0,    0,    0,    0],\n",
      "        [   0,    0,    0,    0,  982,    0,    0,    0,    0,    0],\n",
      "        [   0,    0,    0,    0,    0,  892,    0,    0,    0,    0],\n",
      "        [   0,    0,    0,    0,    0,    0,  958,    0,    0,    0],\n",
      "        [   0,    0,    0,    0,    5,    0,    0, 1023,    0,    0],\n",
      "        [   0,    0,    0,    0,    0,    0,    0,    0,  974,    0],\n",
      "        [   0,    0,    0,    0,    0,    0,    0,    0,    0, 1009]],\n",
      "       dtype=torch.int32)\n",
      "tensor(10000)\n",
      "Accuracy Calculation for ResNet18 with key='unbias'\n",
      "Test the Trained Resnet18 against BIASED TEST DATALOADER\n",
      "Test Accuracy: 97.69 %\n",
      "Confusion Matrix\n",
      "tensor([[ 975,    0,    0,    0,    0,    0,    0,    1,    4,    0],\n",
      "        [   0, 1113,    1,    4,    0,    0,    3,    1,   13,    0],\n",
      "        [   1,    3, 1022,    0,    1,    0,    0,    2,    3,    0],\n",
      "        [   0,    0,    2, 1001,    0,    1,    0,    0,    4,    2],\n",
      "        [   0,    0,    0,    0,  976,    0,    0,    1,    3,    2],\n",
      "        [  18,    0,    1,   23,    0,  844,    1,    2,    3,    0],\n",
      "        [  19,    2,    0,    1,    5,    6,  919,    0,    6,    0],\n",
      "        [   1,    2,   10,    4,    0,    0,    0, 1006,    3,    2],\n",
      "        [   5,    2,    1,    1,    6,    4,    0,    2,  949,    4],\n",
      "        [   5,    6,    0,    4,   12,    6,    0,    6,    6,  964]],\n",
      "       dtype=torch.int32)\n",
      "tensor(10000)\n",
      "original_accuracy={'mix': 100.0, 'bw': 62.73, 'bgonly': 90.71, 'bg': 100.0, 'bias': 99.95, 'unbias': 97.69}\n"
     ]
    }
   ],
   "source": [
    "logtofile(\"Entering Confusion\")\n",
    "# logtofile(process.memory_info().rss)  # in bytes \n",
    "\n",
    "original_accuracy = dict()\n",
    "for key, val in process_structure.items():\n",
    "    logtofile(f\"Accuracy Calculation for ResNet18 with {key=}\")\n",
    "    model = val[\"model\"]\n",
    "    model.eval() # ALWAYS DO THIS BEFORE YOU EVALUATE MODELS\n",
    "    \n",
    "    # Compute the model accuracy on the test set\n",
    "    correct = 0\n",
    "    total = 0\n",
    "    \n",
    "    # assuming 10 classes\n",
    "    # rows represent actual class, columns are predicted\n",
    "    confusion_matrix = torch.zeros(10,10, dtype=torch.int)\n",
    "    \n",
    "    TDL = biased_test_dataloader  # In test 2D - ALWAYS use biased dataset to measure/train stitch\n",
    "    for data in TDL:\n",
    "        inputs, labels = data\n",
    "        inputs = inputs.to(device)\n",
    "        labels = labels.to(device)\n",
    "        predictions = torch.argmax(model(inputs),1)\n",
    "        \n",
    "        matches = predictions == labels\n",
    "        correct += matches.sum().item()\n",
    "        total += len(labels)\n",
    "        for idx, l in enumerate(labels):\n",
    "            confusion_matrix[l, predictions[idx]] = 1 + confusion_matrix[l, predictions[idx]] \n",
    "    \n",
    "    logtofile(\"Test the Trained Resnet18 against BIASED TEST DATALOADER\")\n",
    "    acc = ((100.0 * correct) / total)\n",
    "    logtofile('Test Accuracy: %2.2f %%' % acc)\n",
    "    original_accuracy[key] = acc\n",
    "    logtofile('Confusion Matrix')\n",
    "    logtofile(confusion_matrix)\n",
    "    logtofile(confusion_matrix.sum())\n",
    "    # logtofile(process.memory_info().rss)  # in bytes \n",
    "\n",
    "\n",
    "logtofile(f\"{original_accuracy=}\")"
   ]
  },
  {
   "cell_type": "markdown",
   "id": "da373b34-fe35-4256-a9e0-1040f699d45d",
   "metadata": {},
   "source": [
    "## Measure Rank with __biased__ dataloader (test) before cutting and stitching"
   ]
  },
  {
   "cell_type": "code",
   "execution_count": 7,
   "id": "c4f74591-2a3f-4521-8aec-32c324125a5b",
   "metadata": {},
   "outputs": [
    {
     "name": "stdout",
     "output_type": "stream",
     "text": [
      "Entering whole model check\n",
      "Measure Rank for key='mix'\n",
      "output to ./results_4_epochs_rank/mix-bias-61_2025-01-29_20-01-26_SEED61_EPOCHS4_BGN0.1_exp2e_ResNet18_mix_mnist-test.csv\n"
     ]
    },
    {
     "data": {
      "application/vnd.jupyter.widget-view+json": {
       "model_id": "6d24b4eca08140ad84911b1d46d8af62",
       "version_major": 2,
       "version_minor": 0
      },
      "text/plain": [
       "0/1(e):   0%|          | 0/79 [00:00<?, ?it/s]"
      ]
     },
     "metadata": {},
     "output_type": "display_data"
    },
    {
     "name": "stderr",
     "output_type": "stream",
     "text": [
      "100%|███████████████████████████████████████████████████████████████████████████████████| 21/21 [00:35<00:00,  1.67s/it]\n"
     ]
    },
    {
     "name": "stdout",
     "output_type": "stream",
     "text": [
      "Measure Rank for key='bw'\n",
      "output to ./results_4_epochs_rank/bw-bias-61_2025-01-29_20-01-26_SEED61_EPOCHS4_BGN0.1_exp2e_ResNet18_bw_mnist-test.csv\n"
     ]
    },
    {
     "data": {
      "application/vnd.jupyter.widget-view+json": {
       "model_id": "f393d068e611440882342735fe1443d1",
       "version_major": 2,
       "version_minor": 0
      },
      "text/plain": [
       "0/1(e):   0%|          | 0/79 [00:00<?, ?it/s]"
      ]
     },
     "metadata": {},
     "output_type": "display_data"
    },
    {
     "name": "stderr",
     "output_type": "stream",
     "text": [
      "100%|███████████████████████████████████████████████████████████████████████████████████| 21/21 [00:35<00:00,  1.69s/it]\n"
     ]
    },
    {
     "name": "stdout",
     "output_type": "stream",
     "text": [
      "Measure Rank for key='bgonly'\n",
      "output to ./results_4_epochs_rank/bgonly-bias-61_2025-01-29_20-01-26_SEED61_EPOCHS4_BGN0.1_exp2e_ResNet18_bg_only_colour_mnist-test.csv\n"
     ]
    },
    {
     "data": {
      "application/vnd.jupyter.widget-view+json": {
       "model_id": "40e00a40378649e1aabccce328d96ac6",
       "version_major": 2,
       "version_minor": 0
      },
      "text/plain": [
       "0/1(e):   0%|          | 0/79 [00:00<?, ?it/s]"
      ]
     },
     "metadata": {},
     "output_type": "display_data"
    },
    {
     "name": "stderr",
     "output_type": "stream",
     "text": [
      "100%|███████████████████████████████████████████████████████████████████████████████████| 21/21 [00:36<00:00,  1.72s/it]\n"
     ]
    },
    {
     "name": "stdout",
     "output_type": "stream",
     "text": [
      "Measure Rank for key='bg'\n",
      "output to ./results_4_epochs_rank/bg-bias-61_2025-01-29_20-01-26_SEED61_EPOCHS4_BGN0.1_exp2e_ResNet18_bg_unbiased_colour_mnist-test.csv\n"
     ]
    },
    {
     "data": {
      "application/vnd.jupyter.widget-view+json": {
       "model_id": "22e8f4ef1ea04bd992979c82984d2f56",
       "version_major": 2,
       "version_minor": 0
      },
      "text/plain": [
       "0/1(e):   0%|          | 0/79 [00:00<?, ?it/s]"
      ]
     },
     "metadata": {},
     "output_type": "display_data"
    },
    {
     "name": "stderr",
     "output_type": "stream",
     "text": [
      "100%|███████████████████████████████████████████████████████████████████████████████████| 21/21 [00:36<00:00,  1.73s/it]\n"
     ]
    },
    {
     "name": "stdout",
     "output_type": "stream",
     "text": [
      "Measure Rank for key='bias'\n",
      "output to ./results_4_epochs_rank/bias-bias-61_2025-01-29_20-01-26_SEED61_EPOCHS4_BGN0.1_exp2e_ResNet18_biased_colour_mnist-test.csv\n"
     ]
    },
    {
     "data": {
      "application/vnd.jupyter.widget-view+json": {
       "model_id": "0711c13fe2cf42d0ab177e27f36b3af6",
       "version_major": 2,
       "version_minor": 0
      },
      "text/plain": [
       "0/1(e):   0%|          | 0/79 [00:00<?, ?it/s]"
      ]
     },
     "metadata": {},
     "output_type": "display_data"
    },
    {
     "name": "stderr",
     "output_type": "stream",
     "text": [
      "100%|███████████████████████████████████████████████████████████████████████████████████| 21/21 [00:36<00:00,  1.72s/it]\n"
     ]
    },
    {
     "name": "stdout",
     "output_type": "stream",
     "text": [
      "Measure Rank for key='unbias'\n",
      "output to ./results_4_epochs_rank/unbias-bias-61_2025-01-29_20-01-26_SEED61_EPOCHS4_BGN0.1_exp2e_ResNet18_unbiased_colour_mnist-test.csv\n"
     ]
    },
    {
     "data": {
      "application/vnd.jupyter.widget-view+json": {
       "model_id": "a7913aec84ca4e62aadc8e732194d5c6",
       "version_major": 2,
       "version_minor": 0
      },
      "text/plain": [
       "0/1(e):   0%|          | 0/79 [00:00<?, ?it/s]"
      ]
     },
     "metadata": {},
     "output_type": "display_data"
    },
    {
     "name": "stderr",
     "output_type": "stream",
     "text": [
      "100%|███████████████████████████████████████████████████████████████████████████████████| 21/21 [00:33<00:00,  1.57s/it]\n"
     ]
    }
   ],
   "source": [
    "logtofile(\"Entering whole model check\")\n",
    "# logtofile(process.memory_info().rss)  # in bytes \n",
    "\n",
    "# For the Whole Model - but we will pass it through the RcvResNet18 function to get matching feature names\n",
    "for key, val in process_structure.items():\n",
    "    \n",
    "    TDL = biased_test_dataloader  # ALWAYS use biased dataloader for this test\n",
    "    \n",
    "    if val[\"train\"]:\n",
    "        filename = val[\"saveas\"] \n",
    "    else:    \n",
    "        filename = val[\"loadfrom\"] \n",
    "    assert os.path.exists(filename)\n",
    "    mdl = torchvision.models.resnet18(num_classes=10) # Untrained model\n",
    "    state = torch.load(filename, map_location=torch.device(\"cpu\"))\n",
    "    mdl.load_state_dict(state, assign=True)\n",
    "    mdl=mdl.to(device)\n",
    "    mdl = RcvResNet18(mdl, -1, colour_mnist_shape, device).to(device)\n",
    "\n",
    "    out_filename = filename.split('/')[-1].replace('.weights', '-test.csv')\n",
    "    \n",
    "    outpath = f\"./results_4_epochs_rank/{key}-bias-{seed}_{out_filename}\"  # denote output name as <model_training_type>-dataset-<name>\n",
    "    \n",
    "    if os.path.exists(f\"{outpath}\"):\n",
    "        logtofile(f\"Already evaluated for {outpath}\")\n",
    "        continue\n",
    "    logtofile(f\"Measure Rank for {key=}\")\n",
    "    print(f\"output to {outpath}\")\n",
    "            \n",
    "    params = {}\n",
    "    params[\"model\"] = key\n",
    "    params[\"dataset\"] = \"bias\"\n",
    "    params[\"seed\"] = seed\n",
    "    if val[\"train\"]: # as only one network used, record its filename as both send and receive files\n",
    "        params[\"send_file\"] = val[\"saveas\"] \n",
    "        params[\"rcv_file\"] = val[\"saveas\"] \n",
    "    else:    \n",
    "        params[\"send_file\"] = val[\"loadfrom\"] \n",
    "        params[\"rcv_file\"] = val[\"loadfrom\"]     \n",
    "    \n",
    "    with torch.no_grad():\n",
    "        layers, features, handles = install_hooks(mdl)\n",
    "        \n",
    "        metrics = evaluate_model(mdl, TDL, 'acc', verbose=2)\n",
    "        params.update(metrics)\n",
    "        classes = None\n",
    "        df = perform_analysis(features, classes, layers, params, n=-1)\n",
    "        df.to_csv(f\"{outpath}\")\n",
    "    for h in handles:\n",
    "        h.remove()\n",
    "    del mdl, layers, features, metrics, params, df, handles\n",
    "    gc.collect()\n",
    "    # logtofile(process.memory_info().rss)  # in bytes \n",
    "\n"
   ]
  },
  {
   "cell_type": "markdown",
   "id": "de2928d3-9c5f-411f-a590-14fd04026ab6",
   "metadata": {},
   "source": [
    "# Stitch at a given layer\n"
   ]
  },
  {
   "cell_type": "markdown",
   "id": "3cbaf773-ed43-4d91-b0a0-a35fd468ac02",
   "metadata": {},
   "source": [
    "## Train the stitch layer and check rank"
   ]
  },
  {
   "cell_type": "code",
   "execution_count": 8,
   "id": "2c29d808-b86e-4a0c-a3c5-127c952f3ab9",
   "metadata": {},
   "outputs": [
    {
     "name": "stdout",
     "output_type": "stream",
     "text": [
      "Entering Stitch/Rank\n",
      "device='cuda:0'\n",
      "NOTE: Only running stitch with unbias receive model\n",
      "NOTE: Only running stitch with unbias receive model\n",
      "NOTE: Only running stitch with unbias receive model\n",
      "NOTE: Only running stitch with unbias receive model\n",
      "NOTE: Only running stitch with unbias receive model\n",
      "Evaluate ranks and output to ./results_4_epochs_rank/mix3unbias-bias-61_2025-01-29_20-01-26_SEED61_EPOCHS4_BGN0.1_exp2e_ResNet18_unbiased_colour_mnist-test.csv\n",
      "Train the stitch to a model stitched after layer 3 from mix to unbias\n",
      "Use the biased data loader (train and test) regardless of what unbias was trained on\n",
      "get_layer_output_shape for type='ResNet18'\n",
      "The shape of the output from layer 3 of send_model is: torch.Size([1, 64, 7, 7])\n",
      "Epoch 0, loss 227.34\n",
      "Epoch 1, loss 50.47\n",
      "Epoch 2, loss 35.49\n",
      "Epoch 3, loss 28.83\n",
      "Epoch 4, loss 24.23\n",
      "Epoch 5, loss 21.10\n",
      "Epoch 6, loss 18.37\n",
      "Epoch 7, loss 17.37\n",
      "Epoch 8, loss 15.23\n",
      "Epoch 9, loss 13.93\n",
      "**** Finished Training ****\n",
      "Change in stitch weights: 1.0903089046478271\n",
      "Largest abs weight change: 0.11242035776376724\n",
      "Number of weights changing > 0.1 of that: 1645\n",
      "Number of weight / bias in stitch layer is 64\n",
      "Change in stitch bias: 0.026613401249051094\n",
      "Largest abs bias change: 0.0055512189865112305\n",
      "Number of bias changing > 0.1 of that: 61\n",
      "Test the trained stitch against biased data\n",
      "Test Accuracy: 99.36 %\n",
      "Confusion Matrix\n",
      "tensor([[ 976,    0,    0,    0,    0,    1,    1,    2,    0,    0],\n",
      "        [   0, 1134,    0,    1,    0,    0,    0,    0,    0,    0],\n",
      "        [   0,    0, 1023,    1,    2,    1,    0,    0,    5,    0],\n",
      "        [   0,    0,    0, 1008,    0,    1,    0,    0,    1,    0],\n",
      "        [   0,    0,    0,    0,  978,    0,    0,    1,    2,    1],\n",
      "        [   0,    0,    0,    0,    0,  892,    0,    0,    0,    0],\n",
      "        [   7,    1,    0,    0,    1,    2,  942,    0,    5,    0],\n",
      "        [   1,    0,    1,    2,    1,    0,    0, 1022,    0,    1],\n",
      "        [   0,    0,    0,    1,    3,    2,    0,    0,  968,    0],\n",
      "        [   3,    4,    1,    3,    3,    1,    0,    0,    1,  993]],\n",
      "       dtype=torch.int32)\n",
      "===================================================================\n"
     ]
    },
    {
     "data": {
      "application/vnd.jupyter.widget-view+json": {
       "model_id": "5b280a16ca4b4f369d49957855b59fb4",
       "version_major": 2,
       "version_minor": 0
      },
      "text/plain": [
       "0/1(e):   0%|          | 0/79 [00:00<?, ?it/s]"
      ]
     },
     "metadata": {},
     "output_type": "display_data"
    },
    {
     "name": "stderr",
     "output_type": "stream",
     "text": [
      "100%|███████████████████████████████████████████████████████████████████████████████████| 22/22 [00:36<00:00,  1.67s/it]\n"
     ]
    },
    {
     "name": "stdout",
     "output_type": "stream",
     "text": [
      "Evaluate ranks and output to ./results_4_epochs_rank/mix4unbias-bias-61_2025-01-29_20-01-26_SEED61_EPOCHS4_BGN0.1_exp2e_ResNet18_unbiased_colour_mnist-test.csv\n",
      "Train the stitch to a model stitched after layer 4 from mix to unbias\n",
      "Use the biased data loader (train and test) regardless of what unbias was trained on\n",
      "get_layer_output_shape for type='ResNet18'\n",
      "The shape of the output from layer 4 of send_model is: torch.Size([1, 64, 7, 7])\n",
      "Epoch 0, loss 367.69\n",
      "Epoch 1, loss 32.62\n",
      "Epoch 2, loss 19.90\n",
      "Epoch 3, loss 15.64\n",
      "Epoch 4, loss 12.33\n",
      "Epoch 5, loss 9.97\n",
      "Epoch 6, loss 9.15\n",
      "Epoch 7, loss 8.69\n",
      "Epoch 8, loss 6.91\n",
      "Epoch 9, loss 7.11\n",
      "**** Finished Training ****\n",
      "Change in stitch weights: 1.114902138710022\n",
      "Largest abs weight change: 0.12319251894950867\n",
      "Number of weights changing > 0.1 of that: 1556\n",
      "Number of weight / bias in stitch layer is 64\n",
      "Change in stitch bias: 0.027516931295394897\n",
      "Largest abs bias change: 0.005611389875411987\n",
      "Number of bias changing > 0.1 of that: 60\n",
      "Test the trained stitch against biased data\n",
      "Test Accuracy: 99.71 %\n",
      "Confusion Matrix\n",
      "tensor([[ 978,    1,    0,    0,    0,    0,    1,    0,    0,    0],\n",
      "        [   0, 1135,    0,    0,    0,    0,    0,    0,    0,    0],\n",
      "        [   0,    0, 1030,    0,    0,    0,    0,    0,    2,    0],\n",
      "        [   0,    0,    0, 1010,    0,    0,    0,    0,    0,    0],\n",
      "        [   0,    0,    0,    0,  981,    0,    0,    0,    1,    0],\n",
      "        [   0,    1,    0,    0,    0,  891,    0,    0,    0,    0],\n",
      "        [   1,    2,    0,    0,    0,    0,  955,    0,    0,    0],\n",
      "        [   1,    0,    7,    0,    0,    0,    0, 1020,    0,    0],\n",
      "        [   0,    1,    1,    0,    1,    0,    0,    0,  971,    0],\n",
      "        [   2,    2,    0,    2,    0,    0,    0,    1,    2, 1000]],\n",
      "       dtype=torch.int32)\n",
      "===================================================================\n"
     ]
    },
    {
     "data": {
      "application/vnd.jupyter.widget-view+json": {
       "model_id": "51868be59ff249db803d47f8e8387da2",
       "version_major": 2,
       "version_minor": 0
      },
      "text/plain": [
       "0/1(e):   0%|          | 0/79 [00:00<?, ?it/s]"
      ]
     },
     "metadata": {},
     "output_type": "display_data"
    },
    {
     "name": "stderr",
     "output_type": "stream",
     "text": [
      "100%|███████████████████████████████████████████████████████████████████████████████████| 22/22 [00:33<00:00,  1.53s/it]\n"
     ]
    },
    {
     "name": "stdout",
     "output_type": "stream",
     "text": [
      "Evaluate ranks and output to ./results_4_epochs_rank/mix5unbias-bias-61_2025-01-29_20-01-26_SEED61_EPOCHS4_BGN0.1_exp2e_ResNet18_unbiased_colour_mnist-test.csv\n",
      "Train the stitch to a model stitched after layer 5 from mix to unbias\n",
      "Use the biased data loader (train and test) regardless of what unbias was trained on\n",
      "get_layer_output_shape for type='ResNet18'\n",
      "The shape of the output from layer 5 of send_model is: torch.Size([1, 128, 4, 4])\n",
      "Epoch 0, loss 227.15\n",
      "Epoch 1, loss 14.16\n",
      "Epoch 2, loss 8.85\n",
      "Epoch 3, loss 6.50\n",
      "Epoch 4, loss 5.02\n",
      "Epoch 5, loss 4.52\n",
      "Epoch 6, loss 3.54\n",
      "Epoch 7, loss 3.14\n",
      "Epoch 8, loss 3.18\n",
      "Epoch 9, loss 2.87\n",
      "**** Finished Training ****\n",
      "Change in stitch weights: 0.9085882306098938\n",
      "Largest abs weight change: 0.06845062226057053\n",
      "Number of weights changing > 0.1 of that: 4210\n",
      "Number of weight / bias in stitch layer is 128\n",
      "Change in stitch bias: 0.027867073193192482\n",
      "Largest abs bias change: 0.003968223929405212\n",
      "Number of bias changing > 0.1 of that: 111\n",
      "Test the trained stitch against biased data\n",
      "Test Accuracy: 99.96 %\n",
      "Confusion Matrix\n",
      "tensor([[ 980,    0,    0,    0,    0,    0,    0,    0,    0,    0],\n",
      "        [   0, 1135,    0,    0,    0,    0,    0,    0,    0,    0],\n",
      "        [   0,    0, 1031,    0,    0,    0,    0,    0,    1,    0],\n",
      "        [   0,    0,    0, 1010,    0,    0,    0,    0,    0,    0],\n",
      "        [   0,    0,    0,    0,  982,    0,    0,    0,    0,    0],\n",
      "        [   0,    0,    0,    0,    0,  892,    0,    0,    0,    0],\n",
      "        [   0,    0,    0,    0,    0,    0,  958,    0,    0,    0],\n",
      "        [   0,    1,    0,    0,    0,    0,    0, 1027,    0,    0],\n",
      "        [   0,    0,    0,    0,    1,    0,    0,    1,  972,    0],\n",
      "        [   0,    0,    0,    0,    0,    0,    0,    0,    0, 1009]],\n",
      "       dtype=torch.int32)\n",
      "===================================================================\n"
     ]
    },
    {
     "data": {
      "application/vnd.jupyter.widget-view+json": {
       "model_id": "f97df40c9de7458b98d75a64e86bcd88",
       "version_major": 2,
       "version_minor": 0
      },
      "text/plain": [
       "0/1(e):   0%|          | 0/79 [00:00<?, ?it/s]"
      ]
     },
     "metadata": {},
     "output_type": "display_data"
    },
    {
     "name": "stderr",
     "output_type": "stream",
     "text": [
      "100%|███████████████████████████████████████████████████████████████████████████████████| 22/22 [00:35<00:00,  1.62s/it]\n"
     ]
    },
    {
     "name": "stdout",
     "output_type": "stream",
     "text": [
      "Evaluate ranks and output to ./results_4_epochs_rank/mix6unbias-bias-61_2025-01-29_20-01-26_SEED61_EPOCHS4_BGN0.1_exp2e_ResNet18_unbiased_colour_mnist-test.csv\n",
      "Train the stitch to a model stitched after layer 6 from mix to unbias\n",
      "Use the biased data loader (train and test) regardless of what unbias was trained on\n",
      "get_layer_output_shape for type='ResNet18'\n",
      "The shape of the output from layer 6 of send_model is: torch.Size([1, 256, 2, 2])\n",
      "Epoch 0, loss 76.39\n",
      "Epoch 1, loss 4.78\n",
      "Epoch 2, loss 2.89\n",
      "Epoch 3, loss 2.29\n",
      "Epoch 4, loss 2.15\n",
      "Epoch 5, loss 1.74\n",
      "Epoch 6, loss 1.68\n",
      "Epoch 7, loss 1.67\n",
      "Epoch 8, loss 1.22\n",
      "Epoch 9, loss 1.50\n",
      "**** Finished Training ****\n",
      "Change in stitch weights: 0.7377018332481384\n",
      "Largest abs weight change: 0.027315039187669754\n",
      "Number of weights changing > 0.1 of that: 18825\n",
      "Number of weight / bias in stitch layer is 256\n",
      "Change in stitch bias: 0.02506132423877716\n",
      "Largest abs bias change: 0.002848513424396515\n",
      "Number of bias changing > 0.1 of that: 228\n",
      "Test the trained stitch against biased data\n",
      "Test Accuracy: 100.00 %\n",
      "Confusion Matrix\n",
      "tensor([[ 980,    0,    0,    0,    0,    0,    0,    0,    0,    0],\n",
      "        [   0, 1135,    0,    0,    0,    0,    0,    0,    0,    0],\n",
      "        [   0,    0, 1032,    0,    0,    0,    0,    0,    0,    0],\n",
      "        [   0,    0,    0, 1010,    0,    0,    0,    0,    0,    0],\n",
      "        [   0,    0,    0,    0,  982,    0,    0,    0,    0,    0],\n",
      "        [   0,    0,    0,    0,    0,  892,    0,    0,    0,    0],\n",
      "        [   0,    0,    0,    0,    0,    0,  958,    0,    0,    0],\n",
      "        [   0,    0,    0,    0,    0,    0,    0, 1028,    0,    0],\n",
      "        [   0,    0,    0,    0,    0,    0,    0,    0,  974,    0],\n",
      "        [   0,    0,    0,    0,    0,    0,    0,    0,    0, 1009]],\n",
      "       dtype=torch.int32)\n",
      "===================================================================\n"
     ]
    },
    {
     "data": {
      "application/vnd.jupyter.widget-view+json": {
       "model_id": "38f9f77bfec5486b8d4deb6bfce9a519",
       "version_major": 2,
       "version_minor": 0
      },
      "text/plain": [
       "0/1(e):   0%|          | 0/79 [00:00<?, ?it/s]"
      ]
     },
     "metadata": {},
     "output_type": "display_data"
    },
    {
     "name": "stderr",
     "output_type": "stream",
     "text": [
      "100%|███████████████████████████████████████████████████████████████████████████████████| 22/22 [00:33<00:00,  1.52s/it]\n"
     ]
    },
    {
     "name": "stdout",
     "output_type": "stream",
     "text": [
      "Evaluate ranks and output to ./results_4_epochs_rank/mix7unbias-bias-61_2025-01-29_20-01-26_SEED61_EPOCHS4_BGN0.1_exp2e_ResNet18_unbiased_colour_mnist-test.csv\n",
      "Train the stitch to a model stitched after layer 7 from mix to unbias\n",
      "Use the biased data loader (train and test) regardless of what unbias was trained on\n",
      "get_layer_output_shape for type='ResNet18'\n",
      "The shape of the output from layer 7 of send_model is: torch.Size([1, 512, 1, 1])\n",
      "Epoch 0, loss 51.14\n",
      "Epoch 1, loss 3.03\n",
      "Epoch 2, loss 2.67\n",
      "Epoch 3, loss 2.18\n",
      "Epoch 4, loss 1.76\n",
      "Epoch 5, loss 1.43\n",
      "Epoch 6, loss 1.49\n",
      "Epoch 7, loss 1.32\n",
      "Epoch 8, loss 1.26\n",
      "Epoch 9, loss 1.37\n",
      "**** Finished Training ****\n",
      "Change in stitch weights: 0.8016335964202881\n",
      "Largest abs weight change: 0.013892661780118942\n",
      "Number of weights changing > 0.1 of that: 100703\n",
      "Number of weight / bias in stitch layer is 512\n",
      "Change in stitch bias: 0.02583794668316841\n",
      "Largest abs bias change: 0.002016685903072357\n",
      "Number of bias changing > 0.1 of that: 453\n",
      "Test the trained stitch against biased data\n",
      "Test Accuracy: 100.00 %\n",
      "Confusion Matrix\n",
      "tensor([[ 980,    0,    0,    0,    0,    0,    0,    0,    0,    0],\n",
      "        [   0, 1135,    0,    0,    0,    0,    0,    0,    0,    0],\n",
      "        [   0,    0, 1032,    0,    0,    0,    0,    0,    0,    0],\n",
      "        [   0,    0,    0, 1010,    0,    0,    0,    0,    0,    0],\n",
      "        [   0,    0,    0,    0,  982,    0,    0,    0,    0,    0],\n",
      "        [   0,    0,    0,    0,    0,  892,    0,    0,    0,    0],\n",
      "        [   0,    0,    0,    0,    0,    0,  958,    0,    0,    0],\n",
      "        [   0,    0,    0,    0,    0,    0,    0, 1028,    0,    0],\n",
      "        [   0,    0,    0,    0,    0,    0,    0,    0,  974,    0],\n",
      "        [   0,    0,    0,    0,    0,    0,    0,    0,    0, 1009]],\n",
      "       dtype=torch.int32)\n",
      "===================================================================\n"
     ]
    },
    {
     "data": {
      "application/vnd.jupyter.widget-view+json": {
       "model_id": "584848ca311f4d99981e0fc5f65631c0",
       "version_major": 2,
       "version_minor": 0
      },
      "text/plain": [
       "0/1(e):   0%|          | 0/79 [00:00<?, ?it/s]"
      ]
     },
     "metadata": {},
     "output_type": "display_data"
    },
    {
     "name": "stderr",
     "output_type": "stream",
     "text": [
      "100%|███████████████████████████████████████████████████████████████████████████████████| 22/22 [00:37<00:00,  1.70s/it]\n"
     ]
    },
    {
     "name": "stdout",
     "output_type": "stream",
     "text": [
      "Evaluate ranks and output to ./results_4_epochs_rank/mix8unbias-bias-61_2025-01-29_20-01-26_SEED61_EPOCHS4_BGN0.1_exp2e_ResNet18_unbiased_colour_mnist-test.csv\n",
      "Train the stitch to a model stitched after layer 8 from mix to unbias\n",
      "Use the biased data loader (train and test) regardless of what unbias was trained on\n",
      "get_layer_output_shape for type='ResNet18'\n",
      "The shape of the output from layer 8 of send_model is: torch.Size([1, 512, 1, 1])\n",
      "Epoch 0, loss 50.72\n",
      "Epoch 1, loss 3.27\n",
      "Epoch 2, loss 2.37\n",
      "Epoch 3, loss 2.09\n",
      "Epoch 4, loss 1.80\n",
      "Epoch 5, loss 1.53\n",
      "Epoch 6, loss 1.45\n",
      "Epoch 7, loss 1.42\n",
      "Epoch 8, loss 1.19\n",
      "Epoch 9, loss 1.19\n",
      "**** Finished Training ****\n",
      "Change in stitch weights: 0.8050686717033386\n",
      "Largest abs weight change: 0.013270174153149128\n",
      "Number of weights changing > 0.1 of that: 107688\n",
      "Number of weight / bias in stitch layer is 512\n",
      "Change in stitch bias: 0.026144079864025116\n",
      "Largest abs bias change: 0.002020888030529022\n",
      "Number of bias changing > 0.1 of that: 463\n",
      "Test the trained stitch against biased data\n",
      "Test Accuracy: 100.00 %\n",
      "Confusion Matrix\n",
      "tensor([[ 980,    0,    0,    0,    0,    0,    0,    0,    0,    0],\n",
      "        [   0, 1135,    0,    0,    0,    0,    0,    0,    0,    0],\n",
      "        [   0,    0, 1032,    0,    0,    0,    0,    0,    0,    0],\n",
      "        [   0,    0,    0, 1010,    0,    0,    0,    0,    0,    0],\n",
      "        [   0,    0,    0,    0,  982,    0,    0,    0,    0,    0],\n",
      "        [   0,    0,    0,    0,    0,  892,    0,    0,    0,    0],\n",
      "        [   0,    0,    0,    0,    0,    0,  958,    0,    0,    0],\n",
      "        [   0,    0,    0,    0,    0,    0,    0, 1028,    0,    0],\n",
      "        [   0,    0,    0,    0,    0,    0,    0,    0,  974,    0],\n",
      "        [   0,    0,    0,    0,    0,    0,    0,    0,    0, 1009]],\n",
      "       dtype=torch.int32)\n",
      "===================================================================\n"
     ]
    },
    {
     "data": {
      "application/vnd.jupyter.widget-view+json": {
       "model_id": "be508a598d8c47779961319588b0263b",
       "version_major": 2,
       "version_minor": 0
      },
      "text/plain": [
       "0/1(e):   0%|          | 0/79 [00:00<?, ?it/s]"
      ]
     },
     "metadata": {},
     "output_type": "display_data"
    },
    {
     "name": "stderr",
     "output_type": "stream",
     "text": [
      "100%|███████████████████████████████████████████████████████████████████████████████████| 22/22 [00:36<00:00,  1.66s/it]\n"
     ]
    },
    {
     "name": "stdout",
     "output_type": "stream",
     "text": [
      "NOTE: Only running stitch with unbias receive model\n",
      "NOTE: Only running stitch with unbias receive model\n",
      "NOTE: Only running stitch with unbias receive model\n",
      "NOTE: Only running stitch with unbias receive model\n",
      "NOTE: Only running stitch with unbias receive model\n",
      "Evaluate ranks and output to ./results_4_epochs_rank/bw3unbias-bias-61_2025-01-29_20-01-26_SEED61_EPOCHS4_BGN0.1_exp2e_ResNet18_unbiased_colour_mnist-test.csv\n",
      "Train the stitch to a model stitched after layer 3 from bw to unbias\n",
      "Use the biased data loader (train and test) regardless of what unbias was trained on\n",
      "get_layer_output_shape for type='ResNet18'\n",
      "The shape of the output from layer 3 of send_model is: torch.Size([1, 64, 7, 7])\n",
      "Epoch 0, loss 308.65\n",
      "Epoch 1, loss 62.76\n",
      "Epoch 2, loss 50.75\n",
      "Epoch 3, loss 45.37\n",
      "Epoch 4, loss 40.94\n",
      "Epoch 5, loss 38.52\n",
      "Epoch 6, loss 36.92\n",
      "Epoch 7, loss 34.82\n",
      "Epoch 8, loss 33.45\n",
      "Epoch 9, loss 31.78\n",
      "**** Finished Training ****\n",
      "Change in stitch weights: 1.0683857202529907\n",
      "Largest abs weight change: 0.14300793409347534\n",
      "Number of weights changing > 0.1 of that: 1055\n",
      "Number of weight / bias in stitch layer is 64\n",
      "Change in stitch bias: 0.025759780779480934\n",
      "Largest abs bias change: 0.00564604252576828\n",
      "Number of bias changing > 0.1 of that: 56\n",
      "Test the trained stitch against biased data\n",
      "Test Accuracy: 97.79 %\n",
      "Confusion Matrix\n",
      "tensor([[ 973,    0,    3,    0,    0,    0,    1,    1,    2,    0],\n",
      "        [   0, 1125,    5,    0,    3,    0,    1,    0,    1,    0],\n",
      "        [   1,    2, 1022,    1,    3,    0,    0,    1,    2,    0],\n",
      "        [   0,    0,    0,  996,    1,    8,    0,    1,    4,    0],\n",
      "        [   0,    0,    1,    0,  972,    0,    1,    1,    2,    5],\n",
      "        [   0,    0,    1,    9,    0,  879,    0,    1,    2,    0],\n",
      "        [  16,    4,    4,    0,    4,    3,  922,    0,    5,    0],\n",
      "        [   0,    2,   10,    5,    1,    0,    0, 1000,    1,    9],\n",
      "        [   6,    0,    4,   10,    5,    2,    0,    1,  936,   10],\n",
      "        [   9,    4,    2,    4,   14,   12,    0,    4,    6,  954]],\n",
      "       dtype=torch.int32)\n",
      "===================================================================\n"
     ]
    },
    {
     "data": {
      "application/vnd.jupyter.widget-view+json": {
       "model_id": "7df88d24c31948bf9bc5d3e5ac87dc43",
       "version_major": 2,
       "version_minor": 0
      },
      "text/plain": [
       "0/1(e):   0%|          | 0/79 [00:00<?, ?it/s]"
      ]
     },
     "metadata": {},
     "output_type": "display_data"
    },
    {
     "name": "stderr",
     "output_type": "stream",
     "text": [
      "100%|███████████████████████████████████████████████████████████████████████████████████| 22/22 [00:37<00:00,  1.69s/it]\n"
     ]
    },
    {
     "name": "stdout",
     "output_type": "stream",
     "text": [
      "Evaluate ranks and output to ./results_4_epochs_rank/bw4unbias-bias-61_2025-01-29_20-01-26_SEED61_EPOCHS4_BGN0.1_exp2e_ResNet18_unbiased_colour_mnist-test.csv\n",
      "Train the stitch to a model stitched after layer 4 from bw to unbias\n",
      "Use the biased data loader (train and test) regardless of what unbias was trained on\n",
      "get_layer_output_shape for type='ResNet18'\n",
      "The shape of the output from layer 4 of send_model is: torch.Size([1, 64, 7, 7])\n",
      "Epoch 0, loss 226.61\n",
      "Epoch 1, loss 60.60\n",
      "Epoch 2, loss 49.44\n",
      "Epoch 3, loss 43.64\n",
      "Epoch 4, loss 40.14\n",
      "Epoch 5, loss 37.35\n",
      "Epoch 6, loss 35.39\n",
      "Epoch 7, loss 33.93\n",
      "Epoch 8, loss 32.28\n",
      "Epoch 9, loss 31.54\n",
      "**** Finished Training ****\n",
      "Change in stitch weights: 1.0824449062347412\n",
      "Largest abs weight change: 0.10259586572647095\n",
      "Number of weights changing > 0.1 of that: 1686\n",
      "Number of weight / bias in stitch layer is 64\n",
      "Change in stitch bias: 0.02606078051030636\n",
      "Largest abs bias change: 0.0057085007429122925\n",
      "Number of bias changing > 0.1 of that: 58\n",
      "Test the trained stitch against biased data\n",
      "Test Accuracy: 97.99 %\n",
      "Confusion Matrix\n",
      "tensor([[ 975,    0,    1,    0,    0,    0,    0,    1,    3,    0],\n",
      "        [   0, 1121,    6,    2,    0,    0,    3,    1,    2,    0],\n",
      "        [   6,    4, 1015,    2,    1,    0,    0,    2,    2,    0],\n",
      "        [   0,    0,    0,  994,    0,   11,    0,    2,    3,    0],\n",
      "        [   1,    0,    0,    1,  966,    0,    1,    0,    3,   10],\n",
      "        [   1,    0,    0,   12,    0,  874,    1,    0,    4,    0],\n",
      "        [   8,    4,    0,    1,    2,    7,  933,    0,    3,    0],\n",
      "        [   0,    0,   10,    4,    0,    0,    0, 1002,    4,    8],\n",
      "        [   4,    2,    0,    4,    2,    2,    2,    2,  951,    5],\n",
      "        [   4,    3,    1,    8,    7,    4,    0,    7,    7,  968]],\n",
      "       dtype=torch.int32)\n",
      "===================================================================\n"
     ]
    },
    {
     "data": {
      "application/vnd.jupyter.widget-view+json": {
       "model_id": "7310beb1957449eb97a07577a0e46037",
       "version_major": 2,
       "version_minor": 0
      },
      "text/plain": [
       "0/1(e):   0%|          | 0/79 [00:00<?, ?it/s]"
      ]
     },
     "metadata": {},
     "output_type": "display_data"
    },
    {
     "name": "stderr",
     "output_type": "stream",
     "text": [
      "100%|███████████████████████████████████████████████████████████████████████████████████| 22/22 [00:39<00:00,  1.77s/it]\n"
     ]
    },
    {
     "name": "stdout",
     "output_type": "stream",
     "text": [
      "Evaluate ranks and output to ./results_4_epochs_rank/bw5unbias-bias-61_2025-01-29_20-01-26_SEED61_EPOCHS4_BGN0.1_exp2e_ResNet18_unbiased_colour_mnist-test.csv\n",
      "Train the stitch to a model stitched after layer 5 from bw to unbias\n",
      "Use the biased data loader (train and test) regardless of what unbias was trained on\n",
      "get_layer_output_shape for type='ResNet18'\n",
      "The shape of the output from layer 5 of send_model is: torch.Size([1, 128, 4, 4])\n",
      "Epoch 0, loss 210.63\n",
      "Epoch 1, loss 50.79\n",
      "Epoch 2, loss 39.37\n",
      "Epoch 3, loss 34.15\n",
      "Epoch 4, loss 30.64\n",
      "Epoch 5, loss 28.09\n",
      "Epoch 6, loss 25.77\n",
      "Epoch 7, loss 24.05\n",
      "Epoch 8, loss 22.87\n",
      "Epoch 9, loss 21.40\n",
      "**** Finished Training ****\n",
      "Change in stitch weights: 1.0879610776901245\n",
      "Largest abs weight change: 0.053218014538288116\n",
      "Number of weights changing > 0.1 of that: 7822\n",
      "Number of weight / bias in stitch layer is 128\n",
      "Change in stitch bias: 0.026817502453923225\n",
      "Largest abs bias change: 0.0040097832679748535\n",
      "Number of bias changing > 0.1 of that: 117\n",
      "Test the trained stitch against biased data\n",
      "Test Accuracy: 98.66 %\n",
      "Confusion Matrix\n",
      "tensor([[ 974,    0,    1,    0,    0,    0,    2,    1,    2,    0],\n",
      "        [   0, 1127,    5,    0,    0,    0,    2,    0,    1,    0],\n",
      "        [   6,    5, 1018,    0,    0,    0,    0,    1,    2,    0],\n",
      "        [   0,    0,    0,  997,    0,    8,    0,    0,    4,    1],\n",
      "        [   0,    0,    0,    0,  970,    1,    3,    0,    2,    6],\n",
      "        [   0,    0,    0,   13,    0,  879,    0,    0,    0,    0],\n",
      "        [   5,    2,    0,    0,    3,    3,  944,    0,    1,    0],\n",
      "        [   0,    2,    2,    1,    1,    0,    0, 1018,    3,    1],\n",
      "        [   4,    0,    0,    4,    0,    2,    4,    1,  954,    5],\n",
      "        [   5,    0,    0,    3,    4,    0,    0,   10,    2,  985]],\n",
      "       dtype=torch.int32)\n",
      "===================================================================\n"
     ]
    },
    {
     "data": {
      "application/vnd.jupyter.widget-view+json": {
       "model_id": "f3ce8ce9efb64885be0d164bb4f6ac1d",
       "version_major": 2,
       "version_minor": 0
      },
      "text/plain": [
       "0/1(e):   0%|          | 0/79 [00:00<?, ?it/s]"
      ]
     },
     "metadata": {},
     "output_type": "display_data"
    },
    {
     "name": "stderr",
     "output_type": "stream",
     "text": [
      "100%|███████████████████████████████████████████████████████████████████████████████████| 22/22 [00:37<00:00,  1.71s/it]\n"
     ]
    },
    {
     "name": "stdout",
     "output_type": "stream",
     "text": [
      "Evaluate ranks and output to ./results_4_epochs_rank/bw6unbias-bias-61_2025-01-29_20-01-26_SEED61_EPOCHS4_BGN0.1_exp2e_ResNet18_unbiased_colour_mnist-test.csv\n",
      "Train the stitch to a model stitched after layer 6 from bw to unbias\n",
      "Use the biased data loader (train and test) regardless of what unbias was trained on\n",
      "get_layer_output_shape for type='ResNet18'\n",
      "The shape of the output from layer 6 of send_model is: torch.Size([1, 256, 2, 2])\n",
      "Epoch 0, loss 117.40\n",
      "Epoch 1, loss 29.11\n",
      "Epoch 2, loss 23.57\n",
      "Epoch 3, loss 20.42\n",
      "Epoch 4, loss 18.87\n",
      "Epoch 5, loss 17.66\n",
      "Epoch 6, loss 16.75\n",
      "Epoch 7, loss 15.60\n",
      "Epoch 8, loss 15.30\n",
      "Epoch 9, loss 14.80\n",
      "**** Finished Training ****\n",
      "Change in stitch weights: 0.8934941291809082\n",
      "Largest abs weight change: 0.04855835810303688\n",
      "Number of weights changing > 0.1 of that: 8180\n",
      "Number of weight / bias in stitch layer is 256\n",
      "Change in stitch bias: 0.02542518638074398\n",
      "Largest abs bias change: 0.002824343740940094\n",
      "Number of bias changing > 0.1 of that: 229\n",
      "Test the trained stitch against biased data\n",
      "Test Accuracy: 99.06 %\n",
      "Confusion Matrix\n",
      "tensor([[ 978,    0,    0,    0,    0,    0,    0,    0,    2,    0],\n",
      "        [   1, 1130,    2,    0,    0,    0,    1,    0,    1,    0],\n",
      "        [   3,    0, 1027,    0,    0,    0,    0,    0,    2,    0],\n",
      "        [   0,    0,    0, 1003,    0,    3,    0,    1,    1,    2],\n",
      "        [   0,    0,    0,    0,  974,    0,    0,    0,    1,    7],\n",
      "        [   0,    0,    0,    5,    1,  886,    0,    0,    0,    0],\n",
      "        [   1,    1,    0,    0,    2,    1,  947,    0,    6,    0],\n",
      "        [   0,    2,    2,    1,    1,    0,    0, 1016,    3,    3],\n",
      "        [   2,    0,    0,    3,    2,    0,    2,    2,  959,    4],\n",
      "        [   1,    0,    0,    4,    6,    1,    0,    4,    7,  986]],\n",
      "       dtype=torch.int32)\n",
      "===================================================================\n"
     ]
    },
    {
     "data": {
      "application/vnd.jupyter.widget-view+json": {
       "model_id": "435ecd5525424dcba46da9ea8a88286e",
       "version_major": 2,
       "version_minor": 0
      },
      "text/plain": [
       "0/1(e):   0%|          | 0/79 [00:00<?, ?it/s]"
      ]
     },
     "metadata": {},
     "output_type": "display_data"
    },
    {
     "name": "stderr",
     "output_type": "stream",
     "text": [
      "100%|███████████████████████████████████████████████████████████████████████████████████| 22/22 [00:33<00:00,  1.51s/it]\n"
     ]
    },
    {
     "name": "stdout",
     "output_type": "stream",
     "text": [
      "Evaluate ranks and output to ./results_4_epochs_rank/bw7unbias-bias-61_2025-01-29_20-01-26_SEED61_EPOCHS4_BGN0.1_exp2e_ResNet18_unbiased_colour_mnist-test.csv\n",
      "Train the stitch to a model stitched after layer 7 from bw to unbias\n",
      "Use the biased data loader (train and test) regardless of what unbias was trained on\n",
      "get_layer_output_shape for type='ResNet18'\n",
      "The shape of the output from layer 7 of send_model is: torch.Size([1, 512, 1, 1])\n",
      "Epoch 0, loss 95.20\n",
      "Epoch 1, loss 35.04\n",
      "Epoch 2, loss 30.94\n",
      "Epoch 3, loss 28.57\n",
      "Epoch 4, loss 26.78\n",
      "Epoch 5, loss 25.47\n",
      "Epoch 6, loss 24.36\n",
      "Epoch 7, loss 23.92\n",
      "Epoch 8, loss 22.65\n",
      "Epoch 9, loss 22.25\n",
      "**** Finished Training ****\n",
      "Change in stitch weights: 0.9160462617874146\n",
      "Largest abs weight change: 0.02072807028889656\n",
      "Number of weights changing > 0.1 of that: 53430\n",
      "Number of weight / bias in stitch layer is 512\n",
      "Change in stitch bias: 0.026117218658328056\n",
      "Largest abs bias change: 0.0020145252346992493\n",
      "Number of bias changing > 0.1 of that: 461\n",
      "Test the trained stitch against biased data\n",
      "Test Accuracy: 98.63 %\n",
      "Confusion Matrix\n",
      "tensor([[ 977,    1,    0,    1,    0,    0,    0,    0,    1,    0],\n",
      "        [   2, 1130,    1,    1,    0,    0,    0,    0,    1,    0],\n",
      "        [   4,    3, 1024,    0,    0,    0,    0,    1,    0,    0],\n",
      "        [   1,    0,    0,  994,    0,    5,    0,    0,    9,    1],\n",
      "        [   0,    0,    0,    0,  974,    0,    1,    0,    0,    7],\n",
      "        [   1,    0,    0,    6,    1,  883,    1,    0,    0,    0],\n",
      "        [   1,    1,    0,    0,    1,    3,  947,    0,    5,    0],\n",
      "        [   0,    0,    3,    0,    1,    0,    0, 1018,    3,    3],\n",
      "        [   4,    0,    0,   19,    3,    7,    2,    4,  934,    1],\n",
      "        [   1,    0,    0,    5,    7,    3,    0,    7,    4,  982]],\n",
      "       dtype=torch.int32)\n",
      "===================================================================\n"
     ]
    },
    {
     "data": {
      "application/vnd.jupyter.widget-view+json": {
       "model_id": "19af50a4c95e44e395649c3d01d22e01",
       "version_major": 2,
       "version_minor": 0
      },
      "text/plain": [
       "0/1(e):   0%|          | 0/79 [00:00<?, ?it/s]"
      ]
     },
     "metadata": {},
     "output_type": "display_data"
    },
    {
     "name": "stderr",
     "output_type": "stream",
     "text": [
      "IOPub message rate exceeded.\n",
      "The Jupyter server will temporarily stop sending output\n",
      "to the client in order to avoid crashing it.\n",
      "To change this limit, set the config variable\n",
      "`--ServerApp.iopub_msg_rate_limit`.\n",
      "\n",
      "Current values:\n",
      "ServerApp.iopub_msg_rate_limit=1000.0 (msgs/sec)\n",
      "ServerApp.rate_limit_window=3.0 (secs)\n",
      "\n"
     ]
    },
    {
     "name": "stdout",
     "output_type": "stream",
     "text": [
      "Epoch 5, loss 26.20\n",
      "Epoch 6, loss 23.71\n",
      "Epoch 7, loss 22.03\n",
      "Epoch 8, loss 20.85\n",
      "Epoch 9, loss 19.31\n",
      "**** Finished Training ****\n",
      "Change in stitch weights: 1.0073761940002441\n",
      "Largest abs weight change: 0.13200369477272034\n",
      "Number of weights changing > 0.1 of that: 1147\n",
      "Number of weight / bias in stitch layer is 64\n",
      "Change in stitch bias: 0.028249530121684074\n",
      "Largest abs bias change: 0.005637906491756439\n",
      "Number of bias changing > 0.1 of that: 59\n",
      "Test the trained stitch against biased data\n",
      "Test Accuracy: 98.74 %\n",
      "Confusion Matrix\n",
      "tensor([[ 976,    0,    1,    0,    0,    0,    0,    1,    2,    0],\n",
      "        [   0, 1129,    0,    3,    0,    0,    2,    0,    1,    0],\n",
      "        [   1,    0, 1025,    1,    2,    0,    0,    1,    2,    0],\n",
      "        [   0,    0,    0, 1005,    0,    2,    0,    0,    2,    1],\n",
      "        [   0,    1,    0,    0,  980,    0,    0,    0,    1,    0],\n",
      "        [   1,    0,    1,    7,    0,  881,    0,    0,    2,    0],\n",
      "        [   9,    0,    4,    1,    3,    5,  935,    0,    1,    0],\n",
      "        [   1,    2,    6,    2,    1,    0,    0, 1013,    1,    2],\n",
      "        [   3,    0,    4,    5,    1,    1,    1,    3,  955,    1],\n",
      "        [   3,    2,    0,    4,    5,   10,    0,    3,    7,  975]],\n",
      "       dtype=torch.int32)\n",
      "===================================================================\n"
     ]
    },
    {
     "data": {
      "application/vnd.jupyter.widget-view+json": {
       "model_id": "0bae6c7a5e584388ba3167e24656c3ad",
       "version_major": 2,
       "version_minor": 0
      },
      "text/plain": [
       "0/1(e):   0%|          | 0/79 [00:00<?, ?it/s]"
      ]
     },
     "metadata": {},
     "output_type": "display_data"
    },
    {
     "name": "stderr",
     "output_type": "stream",
     "text": [
      "100%|███████████████████████████████████████████████████████████████████████████████████| 22/22 [00:39<00:00,  1.78s/it]\n"
     ]
    },
    {
     "name": "stdout",
     "output_type": "stream",
     "text": [
      "Evaluate ranks and output to ./results_4_epochs_rank/unbias5unbias-bias-61_2025-01-29_20-01-26_SEED61_EPOCHS4_BGN0.1_exp2e_ResNet18_unbiased_colour_mnist-test.csv\n",
      "Train the stitch to a model stitched after layer 5 from unbias to unbias\n",
      "Use the biased data loader (train and test) regardless of what unbias was trained on\n",
      "get_layer_output_shape for type='ResNet18'\n",
      "The shape of the output from layer 5 of send_model is: torch.Size([1, 128, 4, 4])\n",
      "Epoch 0, loss 192.52\n",
      "Epoch 1, loss 47.86\n",
      "Epoch 2, loss 36.55\n",
      "Epoch 3, loss 30.12\n",
      "Epoch 4, loss 27.30\n",
      "Epoch 5, loss 25.80\n",
      "Epoch 6, loss 24.26\n",
      "Epoch 7, loss 22.75\n",
      "Epoch 8, loss 21.29\n",
      "Epoch 9, loss 21.05\n",
      "**** Finished Training ****\n",
      "Change in stitch weights: 1.0372215509414673\n",
      "Largest abs weight change: 0.06327448040246964\n",
      "Number of weights changing > 0.1 of that: 6012\n",
      "Number of weight / bias in stitch layer is 128\n",
      "Change in stitch bias: 0.025303145870566368\n",
      "Largest abs bias change: 0.0040357038378715515\n",
      "Number of bias changing > 0.1 of that: 114\n",
      "Test the trained stitch against biased data\n",
      "Test Accuracy: 98.45 %\n",
      "Confusion Matrix\n",
      "tensor([[ 973,    0,    2,    0,    0,    0,    2,    1,    2,    0],\n",
      "        [   0, 1122,    0,    4,    0,    0,    6,    0,    3,    0],\n",
      "        [   1,    2, 1022,    1,    1,    0,    0,    0,    5,    0],\n",
      "        [   0,    0,    0,  998,    0,    9,    0,    0,    2,    1],\n",
      "        [   0,    0,    0,    0,  973,    0,    0,    2,    2,    5],\n",
      "        [   1,    0,    1,   10,    0,  877,    1,    0,    2,    0],\n",
      "        [   9,    2,    0,    2,    4,    4,  933,    0,    4,    0],\n",
      "        [   0,    1,    5,    3,    0,    0,    0, 1014,    2,    3],\n",
      "        [   4,    0,    1,    5,    3,    2,    2,    1,  952,    4],\n",
      "        [   5,    5,    1,    3,    3,    4,    0,    2,    5,  981]],\n",
      "       dtype=torch.int32)\n",
      "===================================================================\n"
     ]
    },
    {
     "data": {
      "application/vnd.jupyter.widget-view+json": {
       "model_id": "764d5f6288a445cb9306f4efbd7bdeeb",
       "version_major": 2,
       "version_minor": 0
      },
      "text/plain": [
       "0/1(e):   0%|          | 0/79 [00:00<?, ?it/s]"
      ]
     },
     "metadata": {},
     "output_type": "display_data"
    },
    {
     "name": "stderr",
     "output_type": "stream",
     "text": [
      "100%|███████████████████████████████████████████████████████████████████████████████████| 22/22 [00:38<00:00,  1.76s/it]\n"
     ]
    },
    {
     "name": "stdout",
     "output_type": "stream",
     "text": [
      "Evaluate ranks and output to ./results_4_epochs_rank/unbias6unbias-bias-61_2025-01-29_20-01-26_SEED61_EPOCHS4_BGN0.1_exp2e_ResNet18_unbiased_colour_mnist-test.csv\n",
      "Train the stitch to a model stitched after layer 6 from unbias to unbias\n",
      "Use the biased data loader (train and test) regardless of what unbias was trained on\n",
      "get_layer_output_shape for type='ResNet18'\n",
      "The shape of the output from layer 6 of send_model is: torch.Size([1, 256, 2, 2])\n",
      "Epoch 0, loss 128.26\n",
      "Epoch 1, loss 36.40\n",
      "Epoch 2, loss 30.59\n",
      "Epoch 3, loss 27.18\n",
      "Epoch 4, loss 25.39\n",
      "Epoch 5, loss 24.16\n",
      "Epoch 6, loss 22.30\n",
      "Epoch 7, loss 22.06\n",
      "Epoch 8, loss 20.91\n",
      "Epoch 9, loss 20.38\n",
      "**** Finished Training ****\n",
      "Change in stitch weights: 0.9123812913894653\n",
      "Largest abs weight change: 0.032476507127285004\n",
      "Number of weights changing > 0.1 of that: 19739\n",
      "Number of weight / bias in stitch layer is 256\n",
      "Change in stitch bias: 0.0259136613458395\n",
      "Largest abs bias change: 0.00284421443939209\n",
      "Number of bias changing > 0.1 of that: 221\n",
      "Test the trained stitch against biased data\n",
      "Test Accuracy: 98.65 %\n",
      "Confusion Matrix\n",
      "tensor([[ 976,    0,    0,    0,    0,    0,    3,    1,    0,    0],\n",
      "        [   0, 1125,    0,    0,    0,    0,    5,    0,    5,    0],\n",
      "        [   1,    2, 1022,    1,    0,    0,    0,    3,    3,    0],\n",
      "        [   0,    0,    3,  999,    0,    5,    0,    0,    2,    1],\n",
      "        [   0,    0,    0,    0,  973,    0,    0,    1,    2,    6],\n",
      "        [   2,    0,    1,   10,    0,  876,    0,    1,    2,    0],\n",
      "        [   4,    4,    0,    0,    3,    1,  943,    0,    3,    0],\n",
      "        [   0,    1,    5,    2,    1,    0,    0, 1014,    3,    2],\n",
      "        [   4,    0,    0,    3,    5,    2,    0,    2,  954,    4],\n",
      "        [   1,    4,    2,    3,    4,    4,    0,    5,    3,  983]],\n",
      "       dtype=torch.int32)\n",
      "===================================================================\n"
     ]
    },
    {
     "data": {
      "application/vnd.jupyter.widget-view+json": {
       "model_id": "33179650cf6d48e0bafb45e2e91c47ca",
       "version_major": 2,
       "version_minor": 0
      },
      "text/plain": [
       "0/1(e):   0%|          | 0/79 [00:00<?, ?it/s]"
      ]
     },
     "metadata": {},
     "output_type": "display_data"
    },
    {
     "name": "stderr",
     "output_type": "stream",
     "text": [
      "100%|███████████████████████████████████████████████████████████████████████████████████| 22/22 [00:35<00:00,  1.59s/it]\n"
     ]
    },
    {
     "name": "stdout",
     "output_type": "stream",
     "text": [
      "Evaluate ranks and output to ./results_4_epochs_rank/unbias7unbias-bias-61_2025-01-29_20-01-26_SEED61_EPOCHS4_BGN0.1_exp2e_ResNet18_unbiased_colour_mnist-test.csv\n",
      "Train the stitch to a model stitched after layer 7 from unbias to unbias\n",
      "Use the biased data loader (train and test) regardless of what unbias was trained on\n",
      "get_layer_output_shape for type='ResNet18'\n",
      "The shape of the output from layer 7 of send_model is: torch.Size([1, 512, 1, 1])\n",
      "Epoch 0, loss 86.15\n",
      "Epoch 1, loss 26.93\n",
      "Epoch 2, loss 24.78\n",
      "Epoch 3, loss 23.31\n",
      "Epoch 4, loss 22.66\n",
      "Epoch 5, loss 21.61\n",
      "Epoch 6, loss 20.71\n",
      "Epoch 7, loss 20.88\n",
      "Epoch 8, loss 20.48\n",
      "Epoch 9, loss 20.26\n",
      "**** Finished Training ****\n",
      "Change in stitch weights: 0.8723613619804382\n",
      "Largest abs weight change: 0.011980276554822922\n",
      "Number of weights changing > 0.1 of that: 127580\n",
      "Number of weight / bias in stitch layer is 512\n",
      "Change in stitch bias: 0.025867940858006477\n",
      "Largest abs bias change: 0.0020201317965984344\n",
      "Number of bias changing > 0.1 of that: 471\n",
      "Test the trained stitch against biased data\n",
      "Test Accuracy: 98.42 %\n",
      "Confusion Matrix\n",
      "tensor([[ 973,    0,    0,    0,    0,    1,    2,    1,    2,    1],\n",
      "        [   0, 1120,    0,    2,    0,    0,    4,    1,    8,    0],\n",
      "        [   0,    1, 1023,    0,    0,    0,    1,    4,    3,    0],\n",
      "        [   0,    0,    1, 1001,    0,    4,    0,    0,    2,    2],\n",
      "        [   0,    0,    0,    0,  977,    0,    0,    0,    2,    3],\n",
      "        [   2,    0,    1,   12,    0,  872,    1,    1,    2,    1],\n",
      "        [   6,    3,    0,    2,    2,    3,  939,    0,    3,    0],\n",
      "        [   0,    2,    8,    3,    0,    0,    0, 1009,    3,    3],\n",
      "        [   4,    2,    1,    4,    2,    3,    1,    2,  952,    3],\n",
      "        [   0,    4,    2,    4,    6,    6,    0,    5,    6,  976]],\n",
      "       dtype=torch.int32)\n",
      "===================================================================\n"
     ]
    },
    {
     "data": {
      "application/vnd.jupyter.widget-view+json": {
       "model_id": "c702f3862def4e71b7a82129a3c1d583",
       "version_major": 2,
       "version_minor": 0
      },
      "text/plain": [
       "0/1(e):   0%|          | 0/79 [00:00<?, ?it/s]"
      ]
     },
     "metadata": {},
     "output_type": "display_data"
    },
    {
     "name": "stderr",
     "output_type": "stream",
     "text": [
      "100%|███████████████████████████████████████████████████████████████████████████████████| 22/22 [00:37<00:00,  1.70s/it]\n"
     ]
    },
    {
     "name": "stdout",
     "output_type": "stream",
     "text": [
      "Evaluate ranks and output to ./results_4_epochs_rank/unbias8unbias-bias-61_2025-01-29_20-01-26_SEED61_EPOCHS4_BGN0.1_exp2e_ResNet18_unbiased_colour_mnist-test.csv\n",
      "Train the stitch to a model stitched after layer 8 from unbias to unbias\n",
      "Use the biased data loader (train and test) regardless of what unbias was trained on\n",
      "get_layer_output_shape for type='ResNet18'\n",
      "The shape of the output from layer 8 of send_model is: torch.Size([1, 512, 1, 1])\n",
      "Epoch 0, loss 89.82\n",
      "Epoch 1, loss 27.10\n",
      "Epoch 2, loss 24.50\n",
      "Epoch 3, loss 23.34\n",
      "Epoch 4, loss 23.31\n",
      "Epoch 5, loss 21.94\n",
      "Epoch 6, loss 21.40\n",
      "Epoch 7, loss 21.06\n",
      "Epoch 8, loss 20.42\n",
      "Epoch 9, loss 19.96\n",
      "**** Finished Training ****\n",
      "Change in stitch weights: 0.8706745505332947\n",
      "Largest abs weight change: 0.011597005650401115\n",
      "Number of weights changing > 0.1 of that: 131605\n",
      "Number of weight / bias in stitch layer is 512\n",
      "Change in stitch bias: 0.025922397151589394\n",
      "Largest abs bias change: 0.0020193085074424744\n",
      "Number of bias changing > 0.1 of that: 466\n",
      "Test the trained stitch against biased data\n",
      "Test Accuracy: 98.48 %\n",
      "Confusion Matrix\n",
      "tensor([[ 975,    0,    0,    0,    0,    0,    2,    1,    1,    1],\n",
      "        [   0, 1124,    0,    0,    0,    0,    4,    0,    7,    0],\n",
      "        [   0,    1, 1025,    0,    0,    0,    1,    2,    3,    0],\n",
      "        [   0,    0,    2,  997,    0,    7,    0,    0,    2,    2],\n",
      "        [   0,    0,    0,    0,  971,    0,    0,    1,    2,    8],\n",
      "        [   2,    0,    1,    9,    0,  875,    2,    1,    2,    0],\n",
      "        [   8,    2,    0,    1,    2,    6,  936,    0,    3,    0],\n",
      "        [   1,    3,    7,    3,    0,    0,    0, 1010,    2,    2],\n",
      "        [   5,    1,    0,    3,    2,    3,    0,    2,  954,    4],\n",
      "        [   0,    5,    1,    3,    2,    6,    0,    5,    6,  981]],\n",
      "       dtype=torch.int32)\n",
      "===================================================================\n"
     ]
    },
    {
     "data": {
      "application/vnd.jupyter.widget-view+json": {
       "model_id": "2aa63a8a93224087aac9c943b18f26cc",
       "version_major": 2,
       "version_minor": 0
      },
      "text/plain": [
       "0/1(e):   0%|          | 0/79 [00:00<?, ?it/s]"
      ]
     },
     "metadata": {},
     "output_type": "display_data"
    },
    {
     "name": "stderr",
     "output_type": "stream",
     "text": [
      "100%|███████████████████████████████████████████████████████████████████████████████████| 22/22 [00:37<00:00,  1.70s/it]\n"
     ]
    }
   ],
   "source": [
    "logtofile(\"Entering Stitch/Rank\")\n",
    "# logtofile(process.memory_info().rss)  # in bytes \n",
    "\n",
    "logtofile(f\"{device=}\")\n",
    "stitching_accuracies = dict()\n",
    "stitching_penalties = dict()\n",
    "# NOTE this is only valid as all models are the same architecture\n",
    "num_layers_in_model = len(list(process_structure[\"bias\"][\"model\"].children()))  \n",
    "for send_key, send_val in process_structure.items():\n",
    "    stitching_accuracies[send_key] = dict()\n",
    "    stitching_penalties[send_key] = dict()\n",
    "    for rcv_key, rcv_val in process_structure.items():        \n",
    "        if (rcv_key != \"unbias\"):\n",
    "            logtofile(f\"NOTE: Only running stitch with unbias receive model\")\n",
    "            continue\n",
    "        stitching_accuracies[send_key][rcv_key] = dict()\n",
    "        stitching_penalties[send_key][rcv_key] = dict()\n",
    "        for layer_to_cut_after in range(3,num_layers_in_model - 1):\n",
    "            # for consistency, use the rcv network for the filename stem.\n",
    "            if rcv_val[\"train\"]:\n",
    "                filename = rcv_val[\"saveas\"] \n",
    "            else:    \n",
    "                filename = rcv_val[\"loadfrom\"] \n",
    "            \n",
    "            rank_filename = filename.split('/')[-1].replace('.weights', '-test.csv')        \n",
    "            # denote output name as <model_training_type>-dataset-<name>\n",
    "            # where <model_training_type> is [sender_model or X][layer_to_cut_after][Receiver_model]\n",
    "            model_training_type = f\"{send_key}{layer_to_cut_after}{rcv_key}\"\n",
    "            dataset_type = \"bias\"  # ALWAYS use bias dataset in this test\n",
    "            outpath = f\"./results_4_epochs_rank/{model_training_type}-{dataset_type}-{seed}_{rank_filename}\"  \n",
    "                            \n",
    "            if os.path.exists(f\"{outpath}\"):\n",
    "                logtofile(f\"Already evaluated for {outpath}\")\n",
    "                continue\n",
    "            ####################################################################################\n",
    "            logtofile(f\"Evaluate ranks and output to {outpath}\")\n",
    "            # logtofile(process.memory_info().rss)  # in bytes \n",
    "\n",
    "            logtofile(f\"Train the stitch to a model stitched after layer {layer_to_cut_after} from {send_key} to {rcv_key}\")    \n",
    "            logtofile(f\"Use the biased data loader (train and test) regardless of what {rcv_key} was trained on\")\n",
    "            \n",
    "            # train a stitch on the unbiased_colour dataset to compare receiver network performance with stitched\n",
    "            model_stitched = StitchedResNet18(send_model=send_val[\"model\"], \n",
    "                                              after_layer_index=layer_to_cut_after, \n",
    "                                              rcv_model=rcv_val[\"model\"],\n",
    "                                              input_image_shape=colour_mnist_shape, device=device  ).to(device)\n",
    "                        \n",
    "            #############################################################\n",
    "            # store the initial stitch state\n",
    "            initial_stitch_weight = model_stitched.stitch.s_conv1.weight.clone()\n",
    "            initial_stitch_bias   = model_stitched.stitch.s_conv1.bias.clone()\n",
    "            stitch_initial_weight_outpath    = f\"./results_4_epochs/STITCH_initial_weight_{model_training_type}-{dataset_type}-{seed}_{filename.split('/')[-1]}\"  \n",
    "            stitch_initial_bias_outpath      = f\"./results_4_epochs/STITCH_initial_bias_{model_training_type}-{dataset_type}-{seed}_{filename.split('/')[-1]}\"  \n",
    "            torch.save(initial_stitch_weight, stitch_initial_weight_outpath)\n",
    "            torch.save(initial_stitch_bias, stitch_initial_bias_outpath)\n",
    "            ############################################################\n",
    "                    \n",
    "            # define the loss function and the optimiser\n",
    "            loss_function = nn.CrossEntropyLoss()\n",
    "            # Hernandez said : momentum 0.9, batch size 256, weight decay 0.01, learning rate 0.01, and a post-warmup cosine learning rate scheduler.\n",
    "            # optimiser = optim.SGD(model.parameters(), lr=0.1, momentum=0.9, weight_decay=1e-4)\n",
    "            optimiser = optim.SGD(model_stitched.parameters(), lr=1e-4, momentum=0.9, weight_decay=0.01)\n",
    "            \n",
    "            # Put top model into train mode so that bn and dropout perform in training mode\n",
    "            model_stitched.train()\n",
    "            # Freeze the whole model\n",
    "            model_stitched.requires_grad_(False)\n",
    "            # Un-Freeze the stitch layer\n",
    "            for name, param in model_stitched.stitch.named_parameters():\n",
    "                param.requires_grad_(True)\n",
    "            # the epoch loop: note that we're training the whole network\n",
    "            for epoch in range(stitch_train_epochs):\n",
    "                running_loss = 0.0\n",
    "                for data in biased_train_dataloader:\n",
    "                    # data is (representations, labels) tuple\n",
    "                    # get the inputs and put them on the GPU\n",
    "                    inputs, labels = data\n",
    "                    inputs = inputs.to(device)\n",
    "                    labels = labels.to(device)\n",
    "            \n",
    "                    # zero the parameter gradients\n",
    "                    optimiser.zero_grad()\n",
    "            \n",
    "                    # forward + loss + backward + optimise (update weights)\n",
    "                    outputs = model_stitched(inputs)\n",
    "                    loss = loss_function(outputs, labels)\n",
    "                    loss.backward()\n",
    "                    optimiser.step()\n",
    "            \n",
    "                    # keep track of the loss this epoch\n",
    "                    running_loss += loss.item()\n",
    "                logtofile(\"Epoch %d, loss %4.2f\" % (epoch, running_loss))\n",
    "                # logtofile(process.memory_info().rss)  # in bytes \n",
    "\n",
    "            logtofile('**** Finished Training ****')\n",
    "            \n",
    "            model_stitched.eval() # ALWAYS DO THIS BEFORE YOU EVALUATE MODELS\n",
    "\n",
    "            ############################################################\n",
    "            # store the trained stitch\n",
    "            trained_stitch_weight = model_stitched.stitch.s_conv1.weight.clone()\n",
    "            trained_stitch_bias   = model_stitched.stitch.s_conv1.bias.clone()\n",
    "            stitch_trained_weight_outpath    = f\"./results_4_epochs/STITCH_trained_weight_{model_training_type}-{dataset_type}-{seed}_{filename.split('/')[-1]}\"  \n",
    "            stitch_trained_bias_outpath      = f\"./results_4_epochs/STITCH_trained_bias_{model_training_type}-{dataset_type}-{seed}_{filename.split('/')[-1]}\"  \n",
    "            torch.save(trained_stitch_weight, stitch_trained_weight_outpath)\n",
    "            torch.save(trained_stitch_bias, stitch_trained_bias_outpath)\n",
    "                       \n",
    "            stitch_weight_diff = trained_stitch_weight - initial_stitch_weight\n",
    "            stitch_weight_delta = torch.linalg.norm(stitch_weight_diff).item()\n",
    "            logtofile(f\"Change in stitch weights: {stitch_weight_delta}\")\n",
    "            maxabsweight =  torch.max(stitch_weight_diff.abs()).item()\n",
    "            logtofile(f\"Largest abs weight change: {maxabsweight}\")\n",
    "            stitch_weight_number = torch.sum(torch.where(stitch_weight_diff.abs() > 0.1*maxabsweight, True, False)).item()\n",
    "            logtofile(f\"Number of weights changing > 0.1 of that: {stitch_weight_number}\")\n",
    "\n",
    "            \n",
    "            print(f\"Number of weight / bias in stitch layer is {len(initial_stitch_weight)}\")\n",
    "            stitch_bias_diff = trained_stitch_bias - initial_stitch_bias\n",
    "            stitch_bias_delta = torch.linalg.norm(stitch_bias_diff).item()\n",
    "            logtofile(f\"Change in stitch bias: {stitch_bias_delta}\")\n",
    "            maxabsbias =  torch.max(stitch_bias_diff.abs()).item()\n",
    "            logtofile(f\"Largest abs bias change: {maxabsbias}\")\n",
    "            stitch_bias_number = torch.sum(torch.where(stitch_bias_diff.abs() > 0.1*maxabsbias, True, False)).item()\n",
    "            logtofile(f\"Number of bias changing > 0.1 of that: {stitch_bias_number}\")\n",
    "            ##############################################################\n",
    "\n",
    "            \n",
    "            # Compute the model accuracy on the test set\n",
    "            correct = 0\n",
    "            total = 0\n",
    "            \n",
    "            # assuming 10 classes\n",
    "            # rows represent actual class, columns are predicted\n",
    "            confusion_matrix = torch.zeros(10,10, dtype=torch.int)\n",
    "            \n",
    "            for data in biased_test_dataloader:  # Only use biased test data\n",
    "                inputs, labels = data\n",
    "                inputs = inputs.to(device)\n",
    "                labels = labels.to(device)\n",
    "                \n",
    "                predictions = torch.argmax(model_stitched(inputs),1)\n",
    "                matches = predictions == labels.to(device)\n",
    "                correct += matches.sum().item()\n",
    "                total += len(labels)\n",
    "            \n",
    "                for idx, l in enumerate(labels):\n",
    "                    confusion_matrix[l, predictions[idx]] = 1 + confusion_matrix[l, predictions[idx]] \n",
    "            logtofile(\"Test the trained stitch against biased data\")    \n",
    "            acc =  ((100.0 * correct) / total)\n",
    "            logtofile('Test Accuracy: %2.2f %%' % acc)\n",
    "            logtofile('Confusion Matrix')\n",
    "            logtofile(confusion_matrix)\n",
    "            logtofile(\"===================================================================\")\n",
    "            # logtofile(process.memory_info().rss)  # in bytes \n",
    "\n",
    "            # Stitching penalty should be negative if there is an improvement, and is relative to the original receiver network\n",
    "            stitching_accuracies[send_key][rcv_key][layer_to_cut_after] = acc\n",
    "            stitching_penalties[send_key][rcv_key][layer_to_cut_after] = original_accuracy[rcv_key] - acc\n",
    "\n",
    "            TDL = biased_test_dataloader\n",
    "            params = {}\n",
    "            params[\"model\"] = model_training_type # a mnemonic\n",
    "            params[\"dataset\"] = dataset_type\n",
    "            params[\"seed\"] = seed\n",
    "            if send_val[\"train\"]:\n",
    "                params[\"send_file\"] = send_val[\"saveas\"] \n",
    "            else:    \n",
    "                params[\"send_file\"] = send_val[\"loadfrom\"] \n",
    "            if rcv_val[\"train\"]:\n",
    "                params[\"rcv_file\"] = rcv_val[\"saveas\"] \n",
    "            else:    \n",
    "                params[\"rcv_file\"] = rcv_val[\"loadfrom\"] \n",
    "            params[\"stitch_weight_delta\"] = stitch_weight_delta\n",
    "            params[\"stitch_bias_delta\"] = stitch_bias_delta        \n",
    "            params[\"stitch_weight_number\"] = stitch_weight_number\n",
    "            params[\"stitch_bias_number\"] = stitch_bias_number\n",
    "            # logtofile(process.memory_info().rss)  # in bytes \n",
    "            with torch.no_grad():\n",
    "                layers, features, handles = install_hooks(model_stitched)                \n",
    "                metrics = evaluate_model(model_stitched, TDL, 'acc', verbose=2)\n",
    "                params.update(metrics)\n",
    "                classes = None\n",
    "                df = perform_analysis(features, classes, layers, params, n=-1)\n",
    "                df.to_csv(f\"{outpath}\")\n",
    "                \n",
    "            for h in handles:\n",
    "                h.remove()\n",
    "            del model_stitched, layers, features, metrics, params, df, handles\n",
    "            gc.collect()\n",
    "            # logtofile(process.memory_info().rss)  # in bytes \n",
    "\n",
    "            "
   ]
  },
  {
   "cell_type": "code",
   "execution_count": null,
   "id": "60d7ee7c-3777-4d3a-a572-0dd849542f74",
   "metadata": {},
   "outputs": [],
   "source": []
  },
  {
   "cell_type": "code",
   "execution_count": 9,
   "id": "3db5808a-6351-4133-9e7c-85e8e9248cfb",
   "metadata": {},
   "outputs": [
    {
     "name": "stdout",
     "output_type": "stream",
     "text": [
      "stitching_accuracies={'mix': {'unbias': {3: 99.36, 4: 99.71, 5: 99.96, 6: 100.0, 7: 100.0, 8: 100.0}}, 'bw': {'unbias': {3: 97.79, 4: 97.99, 5: 98.66, 6: 99.06, 7: 98.63, 8: 98.65}}, 'bgonly': {'unbias': {3: 99.87, 4: 99.99, 5: 100.0, 6: 100.0, 7: 100.0, 8: 100.0}}, 'bg': {'unbias': {3: 99.88, 4: 99.94, 5: 100.0, 6: 100.0, 7: 100.0, 8: 100.0}}, 'bias': {'unbias': {3: 99.82, 4: 99.84, 5: 99.99, 6: 100.0, 7: 100.0, 8: 100.0}}, 'unbias': {'unbias': {3: 99.38, 4: 98.74, 5: 98.45, 6: 98.65, 7: 98.42, 8: 98.48}}}\n",
      "stitching_penalties={'mix': {'unbias': {3: -1.6700000000000017, 4: -2.019999999999996, 5: -2.269999999999996, 6: -2.3100000000000023, 7: -2.3100000000000023, 8: -2.3100000000000023}}, 'bw': {'unbias': {3: -0.10000000000000853, 4: -0.29999999999999716, 5: -0.9699999999999989, 6: -1.3700000000000045, 7: -0.9399999999999977, 8: -0.960000000000008}}, 'bgonly': {'unbias': {3: -2.180000000000007, 4: -2.299999999999997, 5: -2.3100000000000023, 6: -2.3100000000000023, 7: -2.3100000000000023, 8: -2.3100000000000023}}, 'bg': {'unbias': {3: -2.1899999999999977, 4: -2.25, 5: -2.3100000000000023, 6: -2.3100000000000023, 7: -2.3100000000000023, 8: -2.3100000000000023}}, 'bias': {'unbias': {3: -2.1299999999999955, 4: -2.1500000000000057, 5: -2.299999999999997, 6: -2.3100000000000023, 7: -2.3100000000000023, 8: -2.3100000000000023}}, 'unbias': {'unbias': {3: -1.6899999999999977, 4: -1.0499999999999972, 5: -0.7600000000000051, 6: -0.960000000000008, 7: -0.730000000000004, 8: -0.7900000000000063}}}\n"
     ]
    }
   ],
   "source": [
    "logtofile(f\"{stitching_accuracies=}\")\n",
    "logtofile(f\"{stitching_penalties=}\")"
   ]
  },
  {
   "cell_type": "code",
   "execution_count": 10,
   "id": "cd669a19-7c42-4265-b8e8-57165995c097",
   "metadata": {},
   "outputs": [
    {
     "name": "stdout",
     "output_type": "stream",
     "text": [
      "synth-mix\n",
      "100.0\n",
      "Stitch Accuracy\n",
      "{3: 99.36, 4: 99.71, 5: 99.96, 6: 100.0, 7: 100.0, 8: 100.0}\n",
      "--------------------------\n",
      "synth-bw\n",
      "62.73\n",
      "Stitch Accuracy\n",
      "{3: 97.79, 4: 97.99, 5: 98.66, 6: 99.06, 7: 98.63, 8: 98.65}\n",
      "--------------------------\n",
      "synth-bgonly\n",
      "90.71\n",
      "Stitch Accuracy\n",
      "{3: 99.87, 4: 99.99, 5: 100.0, 6: 100.0, 7: 100.0, 8: 100.0}\n",
      "--------------------------\n",
      "synth-bg\n",
      "100.0\n",
      "Stitch Accuracy\n",
      "{3: 99.88, 4: 99.94, 5: 100.0, 6: 100.0, 7: 100.0, 8: 100.0}\n",
      "--------------------------\n",
      "synth-bias\n",
      "99.95\n",
      "Stitch Accuracy\n",
      "{3: 99.82, 4: 99.84, 5: 99.99, 6: 100.0, 7: 100.0, 8: 100.0}\n",
      "--------------------------\n",
      "synth-unbias\n",
      "97.69\n",
      "Stitch Accuracy\n",
      "{3: 99.38, 4: 98.74, 5: 98.45, 6: 98.65, 7: 98.42, 8: 98.48}\n",
      "--------------------------\n"
     ]
    }
   ],
   "source": [
    "for r_key in stitching_accuracies:\n",
    "    logtofile(f\"synth-{r_key}\")\n",
    "    logtofile(original_accuracy[r_key])\n",
    "    logtofile(\"Stitch Accuracy\")\n",
    "    for layer in stitching_accuracies[r_key]:\n",
    "        logtofile(stitching_accuracies[r_key][layer])\n",
    "    logtofile(\"--------------------------\")"
   ]
  }
 ],
 "metadata": {
  "kernelspec": {
   "display_name": "Python 3 (ipykernel)",
   "language": "python",
   "name": "python3"
  },
  "language_info": {
   "codemirror_mode": {
    "name": "ipython",
    "version": 3
   },
   "file_extension": ".py",
   "mimetype": "text/x-python",
   "name": "python",
   "nbconvert_exporter": "python",
   "pygments_lexer": "ipython3",
   "version": "3.10.14"
  }
 },
 "nbformat": 4,
 "nbformat_minor": 5
}
