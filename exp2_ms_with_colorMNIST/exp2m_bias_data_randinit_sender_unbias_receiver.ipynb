{
 "cells": [
  {
   "cell_type": "markdown",
   "id": "46e81ec0-e3c4-4060-97c1-bfccf47bc350",
   "metadata": {},
   "source": [
    "# Exp2m: Bias data, unbias trained receiver, randomly initialised sender network\n",
    "Now we will \n",
    "only use unbias-trained network as receiver\n",
    "only use bias data to train the stitch\n",
    "Try the sender networks at all different stitch levels\n",
    "## Rank\n",
    "Also perform rank analysis on the stitched networks based on exp1e\n",
    "## 4 Epochs\n",
    "Only do 4 epochs of training (keep 10 epochs of stitch training) so that the initial models are weaker"
   ]
  },
  {
   "cell_type": "code",
   "execution_count": 1,
   "id": "51fc60f8-f6f6-469c-8705-c9015bd43951",
   "metadata": {},
   "outputs": [],
   "source": [
    "# Packages\n",
    "%matplotlib inline\n",
    "\n",
    "import argparse\n",
    "import gc\n",
    "import os.path\n",
    "\n",
    "import pandas as pd\n",
    "from torch.linalg import LinAlgError\n",
    "\n",
    "import matplotlib.pyplot as plt\n",
    "import torchvision\n",
    "import torch\n",
    "from torch import optim\n",
    "\n",
    "from torch import nn\n",
    "from torch.utils.data import DataLoader\n",
    "from torchvision.datasets import MNIST\n",
    "import torchvision.transforms as transforms\n",
    "import datetime\n",
    "\n",
    "import random\n",
    "import numpy as np\n",
    "\n",
    "import sys\n",
    "import os\n",
    "# add the path to find colour_mnist\n",
    "sys.path.append(os.path.abspath('../ReferenceCode'))\n",
    "import colour_mnist\n",
    "from stitch_utils import train_model, RcvResNet18, StitchedResNet18, get_layer_output_shape\n",
    "from stitch_utils import generate_activations, SyntheticDataset\n",
    "import stitch_utils\n",
    "\n",
    "# add the path to find the rank analysis code\n",
    "# https://github.com/DHLSmith/jons-tunnel-effect/tree/NeurIPSPaper\n",
    "sys.path.append(os.path.abspath('../../jons-tunnel-effect/'))\n",
    "from utils.modelfitting import evaluate_model, set_seed\n",
    "from extract_weight_rank import install_hooks, perform_analysis\n",
    "\n",
    "import torchvision\n",
    "import torchvision.transforms as transforms\n",
    "from torchvision.datasets import MNIST\n",
    "\n",
    "# To track memory usage\n",
    "import psutil\n",
    "process = psutil.Process()\n",
    "            \n",
    "\n",
    "def logtofile(log_text, verbose=True):\n",
    "    if verbose:\n",
    "        print(log_text)\n",
    "    with open(save_log_as, \"a\") as f:    \n",
    "        print(log_text, file=f)"
   ]
  },
  {
   "cell_type": "code",
   "execution_count": 2,
   "id": "6761870b-2996-4763-8d90-76529ec5822e",
   "metadata": {},
   "outputs": [],
   "source": [
    "# Set Parameters\n",
    "\n",
    "# fix random seed for reproducibility\n",
    "seed = 10\n",
    "torch.manual_seed(seed)\n",
    "torch.backends.cudnn.benchmark = False\n",
    "torch.backends.cudnn.deterministic = True\n",
    "random.seed(seed)\n",
    "torch.cuda.manual_seed(seed)\n",
    "np.random.seed(seed)\n",
    "\n",
    "results_root = \"results_2m\"\n",
    "\n",
    "# randinit model\n",
    "gen_randinit_model = True\n",
    "randinit_model_to_load = f\"./results_2m/2025-03-26_12-06-31_SEED57_EPOCHS4_BGN0.1_exp2e_ResNet18_randinit.weights\"\n",
    "\n",
    "# UNBIASED is digits with randoly selected colour background. Targets are digit values\n",
    "train_unbiased_colour_mnist_model = False  # when False, automatically loads a trained model\n",
    "unbiased_colour_mnist_model_to_load = \"./results_4_epochs/2024-08-02_11-10-38_SEED57_EPOCHS4_BGN0.1_exp2d_ResNet18_unbiased_colour_mnist.weights\"\n",
    "\n",
    "original_train_epochs = 4\n",
    "bg_noise = 0.1\n",
    "\n",
    "stitch_train_epochs = 10\n",
    "\n",
    "batch_size = 128"
   ]
  },
  {
   "cell_type": "code",
   "execution_count": 3,
   "id": "20ee6e98-a6f2-4647-b378-5f7b1af48581",
   "metadata": {},
   "outputs": [
    {
     "name": "stdout",
     "output_type": "stream",
     "text": [
      "Executed at 2025-03-26_14-24-26\n",
      "logging to ./results_2m/2025-03-26_14-24-26_SEED10_EPOCHS4_BGN0.1_exp2e_ResNet18_log.txt\n",
      "seed=10\n",
      "bg_noise=0.1\n",
      "gen_randinit_model=True\n",
      "save_randinit_model_as='./results_2m/2025-03-26_14-24-26_SEED10_EPOCHS4_BGN0.1_exp2e_ResNet18_randinit.weights'\n",
      "train_unbiased_colour_mnist_model=False\n",
      "unbiased_colour_mnist_model_to_load='./results_4_epochs/2024-08-02_11-10-38_SEED57_EPOCHS4_BGN0.1_exp2d_ResNet18_unbiased_colour_mnist.weights'\n",
      "stitch_train_epochs=10\n",
      "================================================\n"
     ]
    }
   ],
   "source": [
    "# Generate filenames and log the setup details\n",
    "formatted_time = datetime.datetime.now().strftime(\"%Y-%m-%d_%H-%M-%S\")\n",
    "filename_prefix = f\"./{results_root}/{formatted_time}_SEED{seed}_EPOCHS{original_train_epochs}_BGN{bg_noise}_exp2e_ResNet18\"\n",
    "#save_mix_mnist_model_as = f\"{filename_prefix}_mix_mnist.weights\"\n",
    "#save_bw_mnist_model_as = f\"{filename_prefix}_bw_mnist.weights\"\n",
    "#save_bg_only_colour_mnist_model_as = f\"{filename_prefix}_bg_only_colour_mnist.weights\"\n",
    "#save_bg_unbiased_colour_mnist_model_as = f\"{filename_prefix}_bg_unbiased_colour_mnist.weights\"\n",
    "#save_biased_colour_mnist_model_as = f\"{filename_prefix}_biased_colour_mnist.weights\"\n",
    "save_randinit_model_as = f\"{filename_prefix}_randinit.weights\"\n",
    "save_unbiased_colour_mnist_model_as = f\"{filename_prefix}_unbiased_colour_mnist.weights\"\n",
    "save_log_as = f\"{filename_prefix}_log.txt\"\n",
    "\n",
    "colour_mnist_shape = (3,28,28)\n",
    "\n",
    "\n",
    "logtofile(f\"Executed at {formatted_time}\")\n",
    "logtofile(f\"logging to {save_log_as}\")\n",
    "logtofile(f\"{seed=}\")\n",
    "logtofile(f\"{bg_noise=}\")\n",
    "\n",
    "logtofile(f\"{gen_randinit_model=}\")\n",
    "if gen_randinit_model:\n",
    "    logtofile(f\"{save_randinit_model_as=}\")    \n",
    "else:\n",
    "    logtofile(f\"{randinit_model_to_load=}\")\n",
    "\n",
    "\n",
    "logtofile(f\"{train_unbiased_colour_mnist_model=}\")\n",
    "if train_unbiased_colour_mnist_model:\n",
    "    logtofile(f\"{save_unbiased_colour_mnist_model_as=}\")\n",
    "    logtofile(f\"{original_train_epochs=}\")\n",
    "else:\n",
    "    logtofile(f\"{unbiased_colour_mnist_model_to_load=}\")\n",
    "\n",
    "logtofile(f\"{stitch_train_epochs=}\")\n",
    "logtofile(f\"================================================\")"
   ]
  },
  {
   "cell_type": "markdown",
   "id": "6cc621f6-55e8-4191-8288-dc2493cd6bff",
   "metadata": {},
   "source": [
    "mnist and cifar-10 both use 10-classes, with 60_000 train samples and 10_000 test samples. "
   ]
  },
  {
   "cell_type": "code",
   "execution_count": 4,
   "id": "d34a54d2-c8fa-4f51-8809-7a40b4fefc6c",
   "metadata": {},
   "outputs": [],
   "source": [
    "\n",
    "# biased means each digit has correct label and consistent colour - Expect network to learn the colours only\n",
    "biased_train_dataloader = colour_mnist.get_biased_mnist_dataloader(root=\"./MNIST\", batch_size=batch_size, data_label_correlation=1.0, train=True, bg_noise_level=bg_noise, standard_getitem=True)\n",
    "biased_test_dataloader = colour_mnist.get_biased_mnist_dataloader(root=\"./MNIST\", batch_size=batch_size, data_label_correlation=1.0, train=False, bg_noise_level=bg_noise, standard_getitem=True)\n",
    "\n",
    "# unbiased means each digit has correct label and random colour - Expect network to disregard colours?\n",
    "unbiased_train_dataloader = colour_mnist.get_biased_mnist_dataloader(root=\"./MNIST\", batch_size=batch_size, data_label_correlation=0.1, train=True, bg_noise_level=bg_noise, standard_getitem=True)\n",
    "unbiased_test_dataloader = colour_mnist.get_biased_mnist_dataloader(root=\"./MNIST\", batch_size=batch_size, data_label_correlation=0.1, train=False, bg_noise_level=bg_noise, standard_getitem=True)"
   ]
  },
  {
   "cell_type": "markdown",
   "id": "24842d82-5f62-4d1b-acc5-d1997a08b0b9",
   "metadata": {},
   "source": [
    "## Set up resnet18 models and train it on versions of MNIST"
   ]
  },
  {
   "cell_type": "code",
   "execution_count": 5,
   "id": "cf635cfd-a9ad-4e37-98a0-80d0db2a3b9f",
   "metadata": {},
   "outputs": [
    {
     "name": "stdout",
     "output_type": "stream",
     "text": [
      "Processing for key='randinit'\n",
      "model has already been initialised: save it as ./results_2m/2025-03-26_14-24-26_SEED10_EPOCHS4_BGN0.1_exp2e_ResNet18_randinit.weights\n",
      "Processing for key='unbias'\n",
      "val['loadfrom']='./results_4_epochs/2024-08-02_11-10-38_SEED57_EPOCHS4_BGN0.1_exp2d_ResNet18_unbiased_colour_mnist.weights'\n"
     ]
    }
   ],
   "source": [
    "\n",
    "process_structure = dict()\n",
    "device = 'cuda:0'\n",
    "\n",
    "\n",
    "process_structure[\"randinit\"] = dict()\n",
    "process_structure[\"unbias\"]    = dict()\n",
    "\n",
    "# \"randinit\"\n",
    "process_structure[\"randinit\"][\"model\"] = torchvision.models.resnet18(num_classes=10).to(device) # Untrained model\n",
    "process_structure[\"randinit\"][\"train\"] = gen_randinit_model\n",
    "process_structure[\"randinit\"][\"train_loader\"] = None\n",
    "process_structure[\"randinit\"][\"test_loader\"] = None\n",
    "process_structure[\"randinit\"][\"saveas\"] = save_randinit_model_as\n",
    "process_structure[\"randinit\"][\"loadfrom\"] = randinit_model_to_load\n",
    "\n",
    "# \"unbiased_colour_mnist\"\n",
    "process_structure[\"unbias\"][\"model\"] = torchvision.models.resnet18(num_classes=10).to(device) # Untrained model\n",
    "process_structure[\"unbias\"][\"train\"] = train_unbiased_colour_mnist_model\n",
    "process_structure[\"unbias\"][\"train_loader\"] = unbiased_train_dataloader\n",
    "process_structure[\"unbias\"][\"test_loader\"] = unbiased_test_dataloader\n",
    "process_structure[\"unbias\"][\"saveas\"] = save_unbiased_colour_mnist_model_as\n",
    "process_structure[\"unbias\"][\"loadfrom\"] =  unbiased_colour_mnist_model_to_load\n",
    "\n",
    "for key, val in process_structure.items():\n",
    "    print(f\"Processing for {key=}\")\n",
    "    if key == \"randinit\":\n",
    "        if gen_randinit_model:  # create new model but don't train it\n",
    "            logtofile(f\"model has already been initialised: save it as {val['saveas']}\")\n",
    "            torch.save(val[\"model\"].state_dict(), val[\"saveas\"])\n",
    "        else:\n",
    "            logtofile(f\"{val['loadfrom']=}\")\n",
    "            val[\"model\"].load_state_dict(torch.load(val[\"loadfrom\"], map_location=torch.device(device)))\n",
    "    else:\n",
    "        if val[\"train\"]:\n",
    "            train_model(model=val[\"model\"], train_loader=val[\"train_loader\"], \n",
    "                        epochs=original_train_epochs, saveas=val[\"saveas\"], \n",
    "                        description=key, device=device, logtofile=logtofile)\n",
    "        else:\n",
    "            logtofile(f\"{val['loadfrom']=}\")\n",
    "            val[\"model\"].load_state_dict(torch.load(val[\"loadfrom\"], map_location=torch.device(device)))\n",
    "    val[\"model\"].eval()\n"
   ]
  },
  {
   "cell_type": "markdown",
   "id": "b169c5c7-7929-48e1-82eb-6f047aa4e5f2",
   "metadata": {},
   "source": [
    "## Measure the Accuracy, Record the Confusion Matrix\n"
   ]
  },
  {
   "cell_type": "code",
   "execution_count": 6,
   "id": "4fbb925a-269d-4027-9500-6cdce4de9d70",
   "metadata": {},
   "outputs": [
    {
     "name": "stdout",
     "output_type": "stream",
     "text": [
      "Entering Confusion\n",
      "Accuracy Calculation for ResNet18 with key='randinit'\n",
      "Test the Trained Resnet18 against BIASED TEST DATALOADER\n",
      "Test Accuracy: 9.82 %\n",
      "Confusion Matrix\n",
      "tensor([[   0,    0,    0,    0,  980,    0,    0,    0,    0,    0],\n",
      "        [   0,    0,    0,    0, 1135,    0,    0,    0,    0,    0],\n",
      "        [   0,    0,    0,    0, 1032,    0,    0,    0,    0,    0],\n",
      "        [   0,    0,    0,    0, 1010,    0,    0,    0,    0,    0],\n",
      "        [   0,    0,    0,    0,  982,    0,    0,    0,    0,    0],\n",
      "        [   0,    0,    0,    0,  892,    0,    0,    0,    0,    0],\n",
      "        [   0,    0,    0,    0,  958,    0,    0,    0,    0,    0],\n",
      "        [   0,    0,    0,    0, 1028,    0,    0,    0,    0,    0],\n",
      "        [   0,    0,    0,    0,  974,    0,    0,    0,    0,    0],\n",
      "        [   0,    0,    0,    0, 1009,    0,    0,    0,    0,    0]],\n",
      "       dtype=torch.int32)\n",
      "tensor(10000)\n",
      "Accuracy Calculation for ResNet18 with key='unbias'\n",
      "Test the Trained Resnet18 against BIASED TEST DATALOADER\n",
      "Test Accuracy: 97.80 %\n",
      "Confusion Matrix\n",
      "tensor([[ 972,    0,    0,    0,    0,    1,    5,    1,    1,    0],\n",
      "        [   1, 1105,    0,    0,    0,    0,   10,    0,   19,    0],\n",
      "        [   3,    0, 1019,    1,    1,    0,    1,    0,    7,    0],\n",
      "        [   0,    0,    0,  997,    0,    4,    0,    1,    7,    1],\n",
      "        [   0,    0,    1,    0,  953,    0,   10,    2,    4,   12],\n",
      "        [   1,    0,    0,    9,    1,  860,    9,    0,   11,    1],\n",
      "        [   3,    2,    0,    0,    0,    3,  941,    0,    9,    0],\n",
      "        [   0,    1,   22,    3,    0,    0,    0, 1001,    0,    1],\n",
      "        [   5,    0,    2,    0,    1,    2,    1,    1,  959,    3],\n",
      "        [   2,    3,    0,    7,   11,    1,    0,    7,    5,  973]],\n",
      "       dtype=torch.int32)\n",
      "tensor(10000)\n",
      "original_accuracy={'randinit': 9.82, 'unbias': 97.8}\n"
     ]
    }
   ],
   "source": [
    "logtofile(\"Entering Confusion\")\n",
    "# logtofile(process.memory_info().rss)  # in bytes \n",
    "\n",
    "original_accuracy = dict()\n",
    "for key, val in process_structure.items():\n",
    "    logtofile(f\"Accuracy Calculation for ResNet18 with {key=}\")\n",
    "    model = val[\"model\"]\n",
    "    model.eval() # ALWAYS DO THIS BEFORE YOU EVALUATE MODELS\n",
    "    \n",
    "    # Compute the model accuracy on the test set\n",
    "    correct = 0\n",
    "    total = 0\n",
    "    \n",
    "    # assuming 10 classes\n",
    "    # rows represent actual class, columns are predicted\n",
    "    confusion_matrix = torch.zeros(10,10, dtype=torch.int)\n",
    "    \n",
    "    TDL = biased_test_dataloader  # In test 2M - ALWAYS use biased dataset to measure/train stitch\n",
    "    for data in TDL:\n",
    "        inputs, labels = data\n",
    "        inputs = inputs.to(device)\n",
    "        labels = labels.to(device)\n",
    "        predictions = torch.argmax(model(inputs),1)\n",
    "        \n",
    "        matches = predictions == labels\n",
    "        correct += matches.sum().item()\n",
    "        total += len(labels)\n",
    "        for idx, l in enumerate(labels):\n",
    "            confusion_matrix[l, predictions[idx]] = 1 + confusion_matrix[l, predictions[idx]] \n",
    "    \n",
    "    logtofile(\"Test the Trained Resnet18 against BIASED TEST DATALOADER\")\n",
    "    acc = ((100.0 * correct) / total)\n",
    "    logtofile('Test Accuracy: %2.2f %%' % acc)\n",
    "    original_accuracy[key] = acc\n",
    "    logtofile('Confusion Matrix')\n",
    "    logtofile(confusion_matrix)\n",
    "    logtofile(confusion_matrix.sum())\n",
    "    # logtofile(process.memory_info().rss)  # in bytes \n",
    "\n",
    "\n",
    "logtofile(f\"{original_accuracy=}\")"
   ]
  },
  {
   "cell_type": "markdown",
   "id": "da373b34-fe35-4256-a9e0-1040f699d45d",
   "metadata": {},
   "source": [
    "## Measure Rank with __biased__ dataloader (test) before cutting and stitching"
   ]
  },
  {
   "cell_type": "code",
   "execution_count": 7,
   "id": "c4f74591-2a3f-4521-8aec-32c324125a5b",
   "metadata": {},
   "outputs": [
    {
     "name": "stdout",
     "output_type": "stream",
     "text": [
      "Entering whole model check\n",
      "about to measure rank for randinit\n",
      "Measure Rank for key='randinit'\n",
      "output to ./results_2m_rank/randinit-bias-10_2025-03-26_14-24-26_SEED10_EPOCHS4_BGN0.1_exp2e_ResNet18_randinit-test.csv\n"
     ]
    },
    {
     "data": {
      "application/vnd.jupyter.widget-view+json": {
       "model_id": "1d96b1948c9a4100b1027ad6f2ad6b78",
       "version_major": 2,
       "version_minor": 0
      },
      "text/plain": [
       "0/1(e):   0%|          | 0/79 [00:00<?, ?it/s]"
      ]
     },
     "metadata": {},
     "output_type": "display_data"
    },
    {
     "name": "stderr",
     "output_type": "stream",
     "text": [
      "100%|█████████████████████████████████████████████████████████████████████████████| 21/21 [00:34<00:00,  1.63s/it]\n"
     ]
    },
    {
     "name": "stdout",
     "output_type": "stream",
     "text": [
      "about to measure rank for unbias\n",
      "Already evaluated for ./results_2m_rank/unbias-bias-10_2024-08-02_11-10-38_SEED57_EPOCHS4_BGN0.1_exp2d_ResNet18_unbiased_colour_mnist-test.csv\n"
     ]
    }
   ],
   "source": [
    "logtofile(\"Entering whole model check\")\n",
    "# logtofile(process.memory_info().rss)  # in bytes \n",
    "\n",
    "# For the Whole Model - but we will pass it through the RcvResNet18 function to get matching feature names\n",
    "for key, val in process_structure.items():\n",
    "    \n",
    "    TDL = biased_test_dataloader  # ALWAYS use biased dataloader for this test\n",
    "    logtofile(f\"about to measure rank for {key}\")\n",
    "    if val[\"train\"]:\n",
    "        filename = val[\"saveas\"] \n",
    "    else:    \n",
    "        filename = val[\"loadfrom\"] \n",
    "    assert os.path.exists(filename)\n",
    "    mdl = torchvision.models.resnet18(num_classes=10) # Untrained model\n",
    "    state = torch.load(filename, map_location=torch.device(\"cpu\"))\n",
    "    mdl.load_state_dict(state, assign=True)\n",
    "    mdl=mdl.to(device)\n",
    "    mdl = RcvResNet18(mdl, -1, colour_mnist_shape, device).to(device)\n",
    "\n",
    "    out_filename = filename.split('/')[-1].replace('.weights', '-test.csv')\n",
    "    \n",
    "    outpath = f\"./{results_root}_rank/{key}-bias-{seed}_{out_filename}\"  # denote output name as <model_training_type>-dataset-<name>\n",
    "    \n",
    "    if os.path.exists(f\"{outpath}\"):\n",
    "        logtofile(f\"Already evaluated for {outpath}\")\n",
    "        continue\n",
    "    logtofile(f\"Measure Rank for {key=}\")\n",
    "    print(f\"output to {outpath}\")\n",
    "            \n",
    "    params = {}\n",
    "    params[\"model\"] = key\n",
    "    params[\"dataset\"] = \"bias\"\n",
    "    params[\"seed\"] = seed\n",
    "    if val[\"train\"]: # as only one network used, record its filename as both send and receive files\n",
    "        params[\"send_file\"] = val[\"saveas\"] \n",
    "        params[\"rcv_file\"] = val[\"saveas\"] \n",
    "    else:    \n",
    "        params[\"send_file\"] = val[\"loadfrom\"] \n",
    "        params[\"rcv_file\"] = val[\"loadfrom\"]     \n",
    "    \n",
    "    with torch.no_grad():\n",
    "        layers, features, handles = install_hooks(mdl)\n",
    "        \n",
    "        metrics = evaluate_model(mdl, TDL, 'acc', verbose=2)\n",
    "        params.update(metrics)\n",
    "        classes = None\n",
    "        df = perform_analysis(features, classes, layers, params, n=-1)\n",
    "        df.to_csv(f\"{outpath}\")\n",
    "    for h in handles:\n",
    "        h.remove()\n",
    "    del mdl, layers, features, metrics, params, df, handles\n",
    "    gc.collect()\n",
    "    # logtofile(process.memory_info().rss)  # in bytes \n",
    "\n"
   ]
  },
  {
   "cell_type": "markdown",
   "id": "de2928d3-9c5f-411f-a590-14fd04026ab6",
   "metadata": {},
   "source": [
    "# Stitch at a given layer\n"
   ]
  },
  {
   "cell_type": "markdown",
   "id": "3cbaf773-ed43-4d91-b0a0-a35fd468ac02",
   "metadata": {},
   "source": [
    "## Train the stitch layer and check rank"
   ]
  },
  {
   "cell_type": "code",
   "execution_count": 8,
   "id": "2c29d808-b86e-4a0c-a3c5-127c952f3ab9",
   "metadata": {},
   "outputs": [
    {
     "name": "stdout",
     "output_type": "stream",
     "text": [
      "Entering Stitch/Rank\n",
      "device='cuda:0'\n",
      "NOTE: Only running stitch with unbias receive model\n",
      "Evaluate ranks and output to ./results_2m_rank/randinit3unbias-bias-10_2024-08-02_11-10-38_SEED57_EPOCHS4_BGN0.1_exp2d_ResNet18_unbiased_colour_mnist-test.csv\n",
      "Train the stitch to a model stitched after layer 3 from randinit to unbias\n",
      "Use the biased data loader (train and test) regardless of what unbias was trained on\n",
      "get_layer_output_shape for type='ResNet18'\n",
      "The shape of the output from layer 3 of send_model is: torch.Size([1, 64, 7, 7])\n",
      "Epoch 0, loss 341.21\n",
      "Epoch 1, loss 62.31\n",
      "Epoch 2, loss 45.08\n",
      "Epoch 3, loss 34.28\n",
      "Epoch 4, loss 29.02\n",
      "Epoch 5, loss 24.80\n",
      "Epoch 6, loss 21.88\n",
      "Epoch 7, loss 19.52\n",
      "Epoch 8, loss 17.44\n",
      "Epoch 9, loss 16.26\n",
      "**** Finished Training ****\n",
      "Change in stitch weights: 1.2918787002563477\n",
      "Largest abs weight change: 0.11091408878564835\n",
      "Number of weights changing > 0.1 of that: 2036\n",
      "Number of weight / bias in stitch layer is 64\n",
      "Change in stitch bias: 0.02698933705687523\n",
      "Largest abs bias change: 0.005702026188373566\n",
      "Number of bias changing > 0.1 of that: 59\n",
      "Test the trained stitch against biased data\n",
      "Test Accuracy: 98.97 %\n",
      "Confusion Matrix\n",
      "tensor([[ 970,    1,    3,    0,    0,    0,    3,    1,    0,    2],\n",
      "        [   0, 1134,    0,    0,    0,    0,    0,    0,    1,    0],\n",
      "        [   0,    0, 1020,    8,    0,    0,    0,    0,    4,    0],\n",
      "        [   0,    1,    0, 1008,    0,    0,    0,    0,    1,    0],\n",
      "        [   0,    0,    0,    0,  978,    0,    0,    0,    2,    2],\n",
      "        [   0,    0,    0,    1,    0,  891,    0,    0,    0,    0],\n",
      "        [  10,    3,    1,    0,    1,    0,  940,    0,    3,    0],\n",
      "        [   2,    2,   13,    2,    4,    0,    0, 1001,    0,    4],\n",
      "        [   2,    0,    2,    4,    1,    2,    1,    0,  958,    4],\n",
      "        [   3,    1,    0,    1,    2,    1,    0,    0,    4,  997]],\n",
      "       dtype=torch.int32)\n",
      "===================================================================\n"
     ]
    },
    {
     "data": {
      "application/vnd.jupyter.widget-view+json": {
       "model_id": "69acff431f124dd88eb0874690b35ee8",
       "version_major": 2,
       "version_minor": 0
      },
      "text/plain": [
       "0/1(e):   0%|          | 0/79 [00:00<?, ?it/s]"
      ]
     },
     "metadata": {},
     "output_type": "display_data"
    },
    {
     "name": "stderr",
     "output_type": "stream",
     "text": [
      "100%|█████████████████████████████████████████████████████████████████████████████| 22/22 [00:39<00:00,  1.80s/it]\n"
     ]
    },
    {
     "name": "stdout",
     "output_type": "stream",
     "text": [
      "Evaluate ranks and output to ./results_2m_rank/randinit4unbias-bias-10_2024-08-02_11-10-38_SEED57_EPOCHS4_BGN0.1_exp2d_ResNet18_unbiased_colour_mnist-test.csv\n",
      "Train the stitch to a model stitched after layer 4 from randinit to unbias\n",
      "Use the biased data loader (train and test) regardless of what unbias was trained on\n",
      "get_layer_output_shape for type='ResNet18'\n",
      "The shape of the output from layer 4 of send_model is: torch.Size([1, 64, 7, 7])\n",
      "Epoch 0, loss 386.39\n",
      "Epoch 1, loss 66.42\n",
      "Epoch 2, loss 45.29\n",
      "Epoch 3, loss 35.00\n",
      "Epoch 4, loss 28.89\n",
      "Epoch 5, loss 24.70\n",
      "Epoch 6, loss 21.58\n",
      "Epoch 7, loss 19.56\n",
      "Epoch 8, loss 17.18\n",
      "Epoch 9, loss 15.85\n",
      "**** Finished Training ****\n",
      "Change in stitch weights: 1.436583399772644\n",
      "Largest abs weight change: 0.14218488335609436\n",
      "Number of weights changing > 0.1 of that: 1935\n",
      "Number of weight / bias in stitch layer is 64\n",
      "Change in stitch bias: 0.024001406505703926\n",
      "Largest abs bias change: 0.005690738558769226\n",
      "Number of bias changing > 0.1 of that: 60\n",
      "Test the trained stitch against biased data\n",
      "Test Accuracy: 99.23 %\n",
      "Confusion Matrix\n",
      "tensor([[ 973,    0,    0,    0,    1,    0,    6,    0,    0,    0],\n",
      "        [   0, 1135,    0,    0,    0,    0,    0,    0,    0,    0],\n",
      "        [   0,    0, 1027,    0,    0,    0,    0,    0,    5,    0],\n",
      "        [   0,    2,    0, 1004,    0,    0,    3,    0,    1,    0],\n",
      "        [   0,    0,    0,    0,  980,    0,    0,    2,    0,    0],\n",
      "        [   0,    0,    0,    0,    0,  892,    0,    0,    0,    0],\n",
      "        [   6,    0,    0,    2,    0,    2,  948,    0,    0,    0],\n",
      "        [   4,    0,    3,    0,    5,    0,    0, 1010,    4,    2],\n",
      "        [   0,    0,    0,    0,   16,    1,    0,    2,  953,    2],\n",
      "        [   0,    0,    0,    2,    5,    0,    0,    0,    1, 1001]],\n",
      "       dtype=torch.int32)\n",
      "===================================================================\n"
     ]
    },
    {
     "data": {
      "application/vnd.jupyter.widget-view+json": {
       "model_id": "e64a7f7cc65e4cdd8b145a2e49b8f609",
       "version_major": 2,
       "version_minor": 0
      },
      "text/plain": [
       "0/1(e):   0%|          | 0/79 [00:00<?, ?it/s]"
      ]
     },
     "metadata": {},
     "output_type": "display_data"
    },
    {
     "name": "stderr",
     "output_type": "stream",
     "text": [
      "100%|█████████████████████████████████████████████████████████████████████████████| 22/22 [00:37<00:00,  1.72s/it]\n"
     ]
    },
    {
     "name": "stdout",
     "output_type": "stream",
     "text": [
      "Evaluate ranks and output to ./results_2m_rank/randinit5unbias-bias-10_2024-08-02_11-10-38_SEED57_EPOCHS4_BGN0.1_exp2d_ResNet18_unbiased_colour_mnist-test.csv\n",
      "Train the stitch to a model stitched after layer 5 from randinit to unbias\n",
      "Use the biased data loader (train and test) regardless of what unbias was trained on\n",
      "get_layer_output_shape for type='ResNet18'\n",
      "The shape of the output from layer 5 of send_model is: torch.Size([1, 128, 4, 4])\n",
      "Epoch 0, loss 527.25\n",
      "Epoch 1, loss 58.13\n",
      "Epoch 2, loss 36.97\n",
      "Epoch 3, loss 28.82\n",
      "Epoch 4, loss 23.50\n",
      "Epoch 5, loss 19.36\n",
      "Epoch 6, loss 17.48\n",
      "Epoch 7, loss 15.32\n",
      "Epoch 8, loss 13.67\n",
      "Epoch 9, loss 12.83\n",
      "**** Finished Training ****\n",
      "Change in stitch weights: 1.5029387474060059\n",
      "Largest abs weight change: 0.06785206496715546\n",
      "Number of weights changing > 0.1 of that: 8920\n",
      "Number of weight / bias in stitch layer is 128\n",
      "Change in stitch bias: 0.024144934490323067\n",
      "Largest abs bias change: 0.003987401723861694\n",
      "Number of bias changing > 0.1 of that: 113\n",
      "Test the trained stitch against biased data\n",
      "Test Accuracy: 99.54 %\n",
      "Confusion Matrix\n",
      "tensor([[ 978,    0,    0,    0,    0,    0,    2,    0,    0,    0],\n",
      "        [   0, 1135,    0,    0,    0,    0,    0,    0,    0,    0],\n",
      "        [   0,    0, 1028,    0,    0,    0,    0,    0,    4,    0],\n",
      "        [   0,    0,    0, 1009,    0,    0,    1,    0,    0,    0],\n",
      "        [   0,    0,    0,    0,  974,    0,    0,    1,    7,    0],\n",
      "        [   0,    0,    0,    0,    0,  892,    0,    0,    0,    0],\n",
      "        [   3,    0,    1,    4,    0,    1,  949,    0,    0,    0],\n",
      "        [   1,    0,    0,    0,    8,    0,    0, 1018,    1,    0],\n",
      "        [   0,    0,    4,    0,    3,    0,    0,    0,  967,    0],\n",
      "        [   0,    0,    0,    0,    0,    1,    0,    2,    2, 1004]],\n",
      "       dtype=torch.int32)\n",
      "===================================================================\n"
     ]
    },
    {
     "data": {
      "application/vnd.jupyter.widget-view+json": {
       "model_id": "ab278404981a4832bb8e6d0a5e3a0098",
       "version_major": 2,
       "version_minor": 0
      },
      "text/plain": [
       "0/1(e):   0%|          | 0/79 [00:00<?, ?it/s]"
      ]
     },
     "metadata": {},
     "output_type": "display_data"
    },
    {
     "name": "stderr",
     "output_type": "stream",
     "text": [
      "100%|█████████████████████████████████████████████████████████████████████████████| 22/22 [00:36<00:00,  1.67s/it]\n"
     ]
    },
    {
     "name": "stdout",
     "output_type": "stream",
     "text": [
      "Evaluate ranks and output to ./results_2m_rank/randinit6unbias-bias-10_2024-08-02_11-10-38_SEED57_EPOCHS4_BGN0.1_exp2d_ResNet18_unbiased_colour_mnist-test.csv\n",
      "Train the stitch to a model stitched after layer 6 from randinit to unbias\n",
      "Use the biased data loader (train and test) regardless of what unbias was trained on\n",
      "get_layer_output_shape for type='ResNet18'\n",
      "The shape of the output from layer 6 of send_model is: torch.Size([1, 256, 2, 2])\n",
      "Epoch 0, loss 296.21\n",
      "Epoch 1, loss 55.22\n",
      "Epoch 2, loss 37.36\n",
      "Epoch 3, loss 28.99\n",
      "Epoch 4, loss 23.56\n",
      "Epoch 5, loss 20.43\n",
      "Epoch 6, loss 18.16\n",
      "Epoch 7, loss 16.70\n",
      "Epoch 8, loss 14.95\n",
      "Epoch 9, loss 14.03\n",
      "**** Finished Training ****\n",
      "Change in stitch weights: 1.465800166130066\n",
      "Largest abs weight change: 0.04203174635767937\n",
      "Number of weights changing > 0.1 of that: 26901\n",
      "Number of weight / bias in stitch layer is 256\n",
      "Change in stitch bias: 0.025760801509022713\n",
      "Largest abs bias change: 0.002852499485015869\n",
      "Number of bias changing > 0.1 of that: 233\n",
      "Test the trained stitch against biased data\n",
      "Test Accuracy: 99.41 %\n",
      "Confusion Matrix\n",
      "tensor([[ 975,    0,    0,    0,    0,    0,    4,    1,    0,    0],\n",
      "        [   0, 1135,    0,    0,    0,    0,    0,    0,    0,    0],\n",
      "        [   0,    0, 1027,    0,    0,    0,    0,    0,    5,    0],\n",
      "        [   0,    0,    0, 1008,    0,    1,    0,    0,    1,    0],\n",
      "        [   0,    0,    0,    0,  968,    0,    0,    5,    8,    1],\n",
      "        [   0,    1,    0,    0,    0,  890,    0,    0,    0,    1],\n",
      "        [   6,    0,    1,    3,    0,    0,  948,    0,    0,    0],\n",
      "        [   2,    0,    0,    0,    6,    0,    0, 1019,    1,    0],\n",
      "        [   0,    0,    2,    0,    6,    0,    0,    2,  964,    0],\n",
      "        [   0,    0,    0,    0,    0,    0,    0,    1,    1, 1007]],\n",
      "       dtype=torch.int32)\n",
      "===================================================================\n"
     ]
    },
    {
     "data": {
      "application/vnd.jupyter.widget-view+json": {
       "model_id": "aed419d0c3474869a39abc020c06300b",
       "version_major": 2,
       "version_minor": 0
      },
      "text/plain": [
       "0/1(e):   0%|          | 0/79 [00:00<?, ?it/s]"
      ]
     },
     "metadata": {},
     "output_type": "display_data"
    },
    {
     "name": "stderr",
     "output_type": "stream",
     "text": [
      "100%|█████████████████████████████████████████████████████████████████████████████| 22/22 [00:38<00:00,  1.76s/it]\n"
     ]
    },
    {
     "name": "stdout",
     "output_type": "stream",
     "text": [
      "Evaluate ranks and output to ./results_2m_rank/randinit7unbias-bias-10_2024-08-02_11-10-38_SEED57_EPOCHS4_BGN0.1_exp2d_ResNet18_unbiased_colour_mnist-test.csv\n",
      "Train the stitch to a model stitched after layer 7 from randinit to unbias\n",
      "Use the biased data loader (train and test) regardless of what unbias was trained on\n",
      "get_layer_output_shape for type='ResNet18'\n",
      "The shape of the output from layer 7 of send_model is: torch.Size([1, 512, 1, 1])\n",
      "Epoch 0, loss 262.68\n",
      "Epoch 1, loss 51.03\n",
      "Epoch 2, loss 36.29\n",
      "Epoch 3, loss 29.35\n",
      "Epoch 4, loss 25.41\n",
      "Epoch 5, loss 22.24\n",
      "Epoch 6, loss 20.43\n",
      "Epoch 7, loss 19.82\n",
      "Epoch 8, loss 17.96\n",
      "Epoch 9, loss 16.70\n",
      "**** Finished Training ****\n",
      "Change in stitch weights: 1.471322774887085\n",
      "Largest abs weight change: 0.018993109464645386\n",
      "Number of weights changing > 0.1 of that: 125123\n",
      "Number of weight / bias in stitch layer is 512\n",
      "Change in stitch bias: 0.02649996243417263\n",
      "Largest abs bias change: 0.0020172595977783203\n",
      "Number of bias changing > 0.1 of that: 456\n",
      "Test the trained stitch against biased data\n",
      "Test Accuracy: 99.21 %\n",
      "Confusion Matrix\n",
      "tensor([[ 971,    0,    1,    0,    0,    0,    8,    0,    0,    0],\n",
      "        [   0, 1135,    0,    0,    0,    0,    0,    0,    0,    0],\n",
      "        [   0,    0, 1026,    0,    0,    0,    0,    0,    6,    0],\n",
      "        [   0,    0,    0, 1005,    0,    1,    3,    1,    0,    0],\n",
      "        [   0,    0,    0,    0,  965,    0,    1,    7,    9,    0],\n",
      "        [   0,    0,    0,    0,    0,  892,    0,    0,    0,    0],\n",
      "        [   6,    0,    0,    6,    0,    0,  945,    1,    0,    0],\n",
      "        [   2,    0,    0,    0,   12,    0,    1, 1011,    0,    2],\n",
      "        [   0,    0,    0,    0,    8,    0,    0,    2,  964,    0],\n",
      "        [   0,    0,    0,    0,    2,    0,    0,    0,    0, 1007]],\n",
      "       dtype=torch.int32)\n",
      "===================================================================\n"
     ]
    },
    {
     "data": {
      "application/vnd.jupyter.widget-view+json": {
       "model_id": "1869124187844820988cd180cd5ac9f6",
       "version_major": 2,
       "version_minor": 0
      },
      "text/plain": [
       "0/1(e):   0%|          | 0/79 [00:00<?, ?it/s]"
      ]
     },
     "metadata": {},
     "output_type": "display_data"
    },
    {
     "name": "stderr",
     "output_type": "stream",
     "text": [
      "100%|█████████████████████████████████████████████████████████████████████████████| 22/22 [00:47<00:00,  2.15s/it]\n"
     ]
    },
    {
     "name": "stdout",
     "output_type": "stream",
     "text": [
      "Evaluate ranks and output to ./results_2m_rank/randinit8unbias-bias-10_2024-08-02_11-10-38_SEED57_EPOCHS4_BGN0.1_exp2d_ResNet18_unbiased_colour_mnist-test.csv\n",
      "Train the stitch to a model stitched after layer 8 from randinit to unbias\n",
      "Use the biased data loader (train and test) regardless of what unbias was trained on\n",
      "get_layer_output_shape for type='ResNet18'\n",
      "The shape of the output from layer 8 of send_model is: torch.Size([1, 512, 1, 1])\n",
      "Epoch 0, loss 279.23\n",
      "Epoch 1, loss 52.09\n",
      "Epoch 2, loss 36.84\n",
      "Epoch 3, loss 30.50\n",
      "Epoch 4, loss 25.81\n",
      "Epoch 5, loss 22.40\n",
      "Epoch 6, loss 20.47\n",
      "Epoch 7, loss 18.88\n",
      "Epoch 8, loss 18.39\n",
      "Epoch 9, loss 16.73\n",
      "**** Finished Training ****\n",
      "Change in stitch weights: 1.4870556592941284\n",
      "Largest abs weight change: 0.023864634335041046\n",
      "Number of weights changing > 0.1 of that: 98921\n",
      "Number of weight / bias in stitch layer is 512\n",
      "Change in stitch bias: 0.02722635120153427\n",
      "Largest abs bias change: 0.0020109154284000397\n",
      "Number of bias changing > 0.1 of that: 463\n",
      "Test the trained stitch against biased data\n",
      "Test Accuracy: 99.28 %\n",
      "Confusion Matrix\n",
      "tensor([[ 972,    0,    1,    1,    0,    0,    5,    1,    0,    0],\n",
      "        [   0, 1134,    0,    0,    0,    1,    0,    0,    0,    0],\n",
      "        [   0,    1, 1026,    0,    0,    0,    0,    0,    5,    0],\n",
      "        [   0,    0,    0, 1009,    0,    0,    0,    1,    0,    0],\n",
      "        [   0,    0,    0,    0,  965,    0,    1,    9,    7,    0],\n",
      "        [   0,    0,    1,    0,    0,  891,    0,    0,    0,    0],\n",
      "        [   3,    0,    0,    5,    0,    0,  949,    1,    0,    0],\n",
      "        [   1,    0,    0,    0,    7,    0,    0, 1019,    1,    0],\n",
      "        [   0,    0,    1,    0,   11,    0,    0,    1,  957,    4],\n",
      "        [   0,    0,    0,    0,    1,    0,    0,    2,    0, 1006]],\n",
      "       dtype=torch.int32)\n",
      "===================================================================\n"
     ]
    },
    {
     "data": {
      "application/vnd.jupyter.widget-view+json": {
       "model_id": "fd362e51822d473ba5d11ad505c8ddd3",
       "version_major": 2,
       "version_minor": 0
      },
      "text/plain": [
       "0/1(e):   0%|          | 0/79 [00:00<?, ?it/s]"
      ]
     },
     "metadata": {},
     "output_type": "display_data"
    },
    {
     "name": "stderr",
     "output_type": "stream",
     "text": [
      "100%|█████████████████████████████████████████████████████████████████████████████| 22/22 [00:33<00:00,  1.54s/it]\n"
     ]
    },
    {
     "name": "stdout",
     "output_type": "stream",
     "text": [
      "NOTE: Only running stitch with randinit send model\n"
     ]
    }
   ],
   "source": [
    "logtofile(\"Entering Stitch/Rank\")\n",
    "# logtofile(process.memory_info().rss)  # in bytes \n",
    "\n",
    "logtofile(f\"{device=}\")\n",
    "stitching_accuracies = dict()\n",
    "stitching_penalties = dict()\n",
    "# NOTE this is only valid as all models are the same architecture\n",
    "num_layers_in_model = len(list(process_structure[\"randinit\"][\"model\"].children()))  \n",
    "for send_key, send_val in process_structure.items():\n",
    "    if (send_key != \"randinit\"):\n",
    "        logtofile(f\"NOTE: Only running stitch with randinit send model\")\n",
    "        continue\n",
    "    stitching_accuracies[send_key] = dict()\n",
    "    stitching_penalties[send_key] = dict()\n",
    "    \n",
    "    for rcv_key, rcv_val in process_structure.items():        \n",
    "        if (rcv_key != \"unbias\"):\n",
    "            logtofile(f\"NOTE: Only running stitch with unbias receive model\")\n",
    "            continue       \n",
    "            \n",
    "        stitching_accuracies[send_key][rcv_key] = dict()\n",
    "        stitching_penalties[send_key][rcv_key] = dict()\n",
    "        for layer_to_cut_after in range(3,num_layers_in_model - 1):\n",
    "            # for consistency, use the rcv network for the filename stem.\n",
    "            if rcv_val[\"train\"]:\n",
    "                filename = rcv_val[\"saveas\"] \n",
    "            else:    \n",
    "                filename = rcv_val[\"loadfrom\"] \n",
    "            \n",
    "            rank_filename = filename.split('/')[-1].replace('.weights', '-test.csv')        \n",
    "            # denote output name as <model_training_type>-dataset-<name>\n",
    "            # where <model_training_type> is [sender_model or X][layer_to_cut_after][Receiver_model]\n",
    "            model_training_type = f\"{send_key}{layer_to_cut_after}{rcv_key}\"\n",
    "            dataset_type = \"bias\"  # ALWAYS use bias dataset in this test\n",
    "            outpath = f\"./{results_root}_rank/{model_training_type}-{dataset_type}-{seed}_{rank_filename}\"  \n",
    "                            \n",
    "            if os.path.exists(f\"{outpath}\"):\n",
    "                logtofile(f\"Already evaluated for {outpath}\")\n",
    "                continue\n",
    "            ####################################################################################\n",
    "            logtofile(f\"Evaluate ranks and output to {outpath}\")\n",
    "            # logtofile(process.memory_info().rss)  # in bytes \n",
    "\n",
    "            logtofile(f\"Train the stitch to a model stitched after layer {layer_to_cut_after} from {send_key} to {rcv_key}\")    \n",
    "            logtofile(f\"Use the biased data loader (train and test) regardless of what {rcv_key} was trained on\")\n",
    "\n",
    "            initial_send_state = send_val[\"model\"].state_dict().copy()\n",
    "            initial_rcv_state = rcv_val[\"model\"].state_dict().copy()\n",
    "            # train a stitch on the unbiased_colour dataset to compare receiver network performance with stitched\n",
    "            model_stitched = StitchedResNet18(send_model=send_val[\"model\"], \n",
    "                                              after_layer_index=layer_to_cut_after, \n",
    "                                              rcv_model=rcv_val[\"model\"],\n",
    "                                              input_image_shape=colour_mnist_shape, device=device  ).to(device)\n",
    "                        \n",
    "            #############################################################\n",
    "            # store the initial stitch state\n",
    "            initial_stitch_weight = model_stitched.stitch.s_conv1.weight.clone()\n",
    "            initial_stitch_bias   = model_stitched.stitch.s_conv1.bias.clone()\n",
    "            stitch_initial_weight_outpath    = f\"./{results_root}/STITCH_initial_weight_{model_training_type}-{dataset_type}-{seed}_{filename.split('/')[-1]}\"  \n",
    "            stitch_initial_bias_outpath      = f\"./{results_root}/STITCH_initial_bias_{model_training_type}-{dataset_type}-{seed}_{filename.split('/')[-1]}\"  \n",
    "            torch.save(initial_stitch_weight, stitch_initial_weight_outpath)\n",
    "            torch.save(initial_stitch_bias, stitch_initial_bias_outpath)\n",
    "            ############################################################\n",
    "                    \n",
    "            # define the loss function and the optimiser\n",
    "            loss_function = nn.CrossEntropyLoss()\n",
    "            # Hernandez said : momentum 0.9, batch size 256, weight decay 0.01, learning rate 0.01, and a post-warmup cosine learning rate scheduler.\n",
    "            # optimiser = optim.SGD(model.parameters(), lr=0.1, momentum=0.9, weight_decay=1e-4)\n",
    "            optimiser = optim.SGD(model_stitched.parameters(), lr=1e-4, momentum=0.9, weight_decay=0.01)\n",
    "            \n",
    "            # Put top model into train mode so that bn and dropout perform in training mode\n",
    "            model_stitched.train()\n",
    "            # Freeze the whole model\n",
    "            model_stitched.requires_grad_(False)\n",
    "            # Un-Freeze the stitch layer\n",
    "            for name, param in model_stitched.stitch.named_parameters():\n",
    "                param.requires_grad_(True)\n",
    "            # the epoch loop: note that we're training the whole network\n",
    "            for epoch in range(stitch_train_epochs):\n",
    "                running_loss = 0.0\n",
    "                for data in biased_train_dataloader:\n",
    "                    # data is (representations, labels) tuple\n",
    "                    # get the inputs and put them on the GPU\n",
    "                    inputs, labels = data\n",
    "                    inputs = inputs.to(device)\n",
    "                    labels = labels.to(device)\n",
    "            \n",
    "                    # zero the parameter gradients\n",
    "                    optimiser.zero_grad()\n",
    "            \n",
    "                    # forward + loss + backward + optimise (update weights)\n",
    "                    outputs = model_stitched(inputs)\n",
    "                    loss = loss_function(outputs, labels)\n",
    "                    loss.backward()\n",
    "                    optimiser.step()\n",
    "            \n",
    "                    # keep track of the loss this epoch\n",
    "                    running_loss += loss.item()\n",
    "                logtofile(\"Epoch %d, loss %4.2f\" % (epoch, running_loss))\n",
    "                # logtofile(process.memory_info().rss)  # in bytes \n",
    "\n",
    "            logtofile('**** Finished Training ****')\n",
    "            \n",
    "            model_stitched.eval() # ALWAYS DO THIS BEFORE YOU EVALUATE MODELS\n",
    "            final_send_state = send_val[\"model\"].state_dict().copy()\n",
    "            final_rcv_state = rcv_val[\"model\"].state_dict().copy()\n",
    "            \n",
    "            ############################################################\n",
    "            # store the trained stitch\n",
    "            trained_stitch_weight = model_stitched.stitch.s_conv1.weight.clone()\n",
    "            trained_stitch_bias   = model_stitched.stitch.s_conv1.bias.clone()\n",
    "            stitch_trained_weight_outpath    = f\"./{results_root}/STITCH_trained_weight_{model_training_type}-{dataset_type}-{seed}_{filename.split('/')[-1]}\"  \n",
    "            stitch_trained_bias_outpath      = f\"./{results_root}/STITCH_trained_bias_{model_training_type}-{dataset_type}-{seed}_{filename.split('/')[-1]}\"  \n",
    "            torch.save(trained_stitch_weight, stitch_trained_weight_outpath)\n",
    "            torch.save(trained_stitch_bias, stitch_trained_bias_outpath)\n",
    "                       \n",
    "            stitch_weight_diff = trained_stitch_weight - initial_stitch_weight\n",
    "            stitch_weight_delta = torch.linalg.norm(stitch_weight_diff).item()\n",
    "            logtofile(f\"Change in stitch weights: {stitch_weight_delta}\")\n",
    "            maxabsweight =  torch.max(stitch_weight_diff.abs()).item()\n",
    "            logtofile(f\"Largest abs weight change: {maxabsweight}\")\n",
    "            stitch_weight_number = torch.sum(torch.where(stitch_weight_diff.abs() > 0.1*maxabsweight, True, False)).item()\n",
    "            logtofile(f\"Number of weights changing > 0.1 of that: {stitch_weight_number}\")\n",
    "\n",
    "            \n",
    "            print(f\"Number of weight / bias in stitch layer is {len(initial_stitch_weight)}\")\n",
    "            stitch_bias_diff = trained_stitch_bias - initial_stitch_bias\n",
    "            stitch_bias_delta = torch.linalg.norm(stitch_bias_diff).item()\n",
    "            logtofile(f\"Change in stitch bias: {stitch_bias_delta}\")\n",
    "            maxabsbias =  torch.max(stitch_bias_diff.abs()).item()\n",
    "            logtofile(f\"Largest abs bias change: {maxabsbias}\")\n",
    "            stitch_bias_number = torch.sum(torch.where(stitch_bias_diff.abs() > 0.1*maxabsbias, True, False)).item()\n",
    "            logtofile(f\"Number of bias changing > 0.1 of that: {stitch_bias_number}\")\n",
    "            ##############################################################\n",
    "\n",
    "            \n",
    "            # Compute the model accuracy on the test set\n",
    "            correct = 0\n",
    "            total = 0\n",
    "            \n",
    "            # assuming 10 classes\n",
    "            # rows represent actual class, columns are predicted\n",
    "            confusion_matrix = torch.zeros(10,10, dtype=torch.int)\n",
    "            \n",
    "            for data in biased_test_dataloader:  # Only use biased test data\n",
    "                inputs, labels = data\n",
    "                inputs = inputs.to(device)\n",
    "                labels = labels.to(device)\n",
    "                \n",
    "                predictions = torch.argmax(model_stitched(inputs),1)\n",
    "                matches = predictions == labels.to(device)\n",
    "                correct += matches.sum().item()\n",
    "                total += len(labels)\n",
    "            \n",
    "                for idx, l in enumerate(labels):\n",
    "                    confusion_matrix[l, predictions[idx]] = 1 + confusion_matrix[l, predictions[idx]] \n",
    "            logtofile(\"Test the trained stitch against biased data\")    \n",
    "            acc =  ((100.0 * correct) / total)\n",
    "            logtofile('Test Accuracy: %2.2f %%' % acc)\n",
    "            logtofile('Confusion Matrix')\n",
    "            logtofile(confusion_matrix)\n",
    "            logtofile(\"===================================================================\")\n",
    "            # logtofile(process.memory_info().rss)  # in bytes \n",
    "\n",
    "            # Stitching penalty should be negative if there is an improvement, and is relative to the original receiver network\n",
    "            stitching_accuracies[send_key][rcv_key][layer_to_cut_after] = acc\n",
    "            stitching_penalties[send_key][rcv_key][layer_to_cut_after] = original_accuracy[rcv_key] - acc\n",
    "\n",
    "            TDL = biased_test_dataloader\n",
    "            params = {}\n",
    "            params[\"model\"] = model_training_type # a mnemonic\n",
    "            params[\"dataset\"] = dataset_type\n",
    "            params[\"seed\"] = seed\n",
    "            if send_val[\"train\"]:\n",
    "                params[\"send_file\"] = send_val[\"saveas\"] \n",
    "            else:    \n",
    "                params[\"send_file\"] = send_val[\"loadfrom\"] \n",
    "            if rcv_val[\"train\"]:\n",
    "                params[\"rcv_file\"] = rcv_val[\"saveas\"] \n",
    "            else:    \n",
    "                params[\"rcv_file\"] = rcv_val[\"loadfrom\"] \n",
    "            params[\"stitch_weight_delta\"] = stitch_weight_delta\n",
    "            params[\"stitch_bias_delta\"] = stitch_bias_delta        \n",
    "            params[\"stitch_weight_number\"] = stitch_weight_number\n",
    "            params[\"stitch_bias_number\"] = stitch_bias_number\n",
    "            # logtofile(process.memory_info().rss)  # in bytes \n",
    "            with torch.no_grad():\n",
    "                layers, features, handles = install_hooks(model_stitched)                \n",
    "                metrics = evaluate_model(model_stitched, TDL, 'acc', verbose=2)\n",
    "                params.update(metrics)\n",
    "                classes = None\n",
    "                df = perform_analysis(features, classes, layers, params, n=-1)\n",
    "                df.to_csv(f\"{outpath}\")\n",
    "                \n",
    "            for h in handles:\n",
    "                h.remove()\n",
    "            del model_stitched, layers, features, metrics, params, df, handles\n",
    "            gc.collect()\n",
    "            # logtofile(process.memory_info().rss)  # in bytes \n",
    "\n",
    "            "
   ]
  },
  {
   "cell_type": "code",
   "execution_count": 9,
   "id": "60d7ee7c-3777-4d3a-a572-0dd849542f74",
   "metadata": {
    "scrolled": true
   },
   "outputs": [],
   "source": [
    "#print(initial_rcv_state)\n"
   ]
  },
  {
   "cell_type": "code",
   "execution_count": 10,
   "id": "0afecf75-904d-419a-8fec-950ee3473760",
   "metadata": {},
   "outputs": [],
   "source": [
    "#print(final_rcv_state)"
   ]
  },
  {
   "cell_type": "code",
   "execution_count": 11,
   "id": "a3d3e48c-10ae-4a07-8b23-c16f605179ce",
   "metadata": {},
   "outputs": [],
   "source": [
    "#rcv_val[\"model\"].state_dict()"
   ]
  },
  {
   "cell_type": "code",
   "execution_count": 12,
   "id": "d2d76137-462b-4c29-b264-21140c9ea2cc",
   "metadata": {},
   "outputs": [],
   "source": [
    "#initial_send_state = send_val[\"model\"].state_dict().copy()\n",
    "#initial_send_state"
   ]
  },
  {
   "cell_type": "code",
   "execution_count": 13,
   "id": "2031652b-c1d6-4975-a473-e809044a5531",
   "metadata": {},
   "outputs": [],
   "source": [
    "#final_send_state"
   ]
  },
  {
   "cell_type": "code",
   "execution_count": 14,
   "id": "3db5808a-6351-4133-9e7c-85e8e9248cfb",
   "metadata": {},
   "outputs": [
    {
     "name": "stdout",
     "output_type": "stream",
     "text": [
      "stitching_accuracies={'randinit': {'unbias': {3: 98.97, 4: 99.23, 5: 99.54, 6: 99.41, 7: 99.21, 8: 99.28}}}\n",
      "stitching_penalties={'randinit': {'unbias': {3: -1.1700000000000017, 4: -1.4300000000000068, 5: -1.740000000000009, 6: -1.6099999999999994, 7: -1.4099999999999966, 8: -1.480000000000004}}}\n"
     ]
    }
   ],
   "source": [
    "logtofile(f\"{stitching_accuracies=}\")\n",
    "logtofile(f\"{stitching_penalties=}\")"
   ]
  },
  {
   "cell_type": "code",
   "execution_count": 15,
   "id": "cd669a19-7c42-4265-b8e8-57165995c097",
   "metadata": {},
   "outputs": [
    {
     "name": "stdout",
     "output_type": "stream",
     "text": [
      "randinit-unbias\n",
      "original_accuracy[r_key]=97.8\n",
      "Stitch Accuracy\n",
      "L3: 98.97\n",
      "L4: 99.23\n",
      "L5: 99.54\n",
      "L6: 99.41\n",
      "L7: 99.21\n",
      "L8: 99.28\n",
      "--------------------------\n"
     ]
    }
   ],
   "source": [
    "for s_key in stitching_accuracies:    \n",
    "    for r_key in stitching_accuracies[s_key]:\n",
    "        logtofile(f\"{s_key}-{r_key}\")\n",
    "        logtofile(f\"{original_accuracy[r_key]=}\")\n",
    "        logtofile(\"Stitch Accuracy\")\n",
    "        for layer in stitching_accuracies[s_key][r_key]:\n",
    "            logtofile(f\"L{layer}: {stitching_accuracies[s_key][r_key][layer]}\")\n",
    "        logtofile(\"--------------------------\")"
   ]
  }
 ],
 "metadata": {
  "kernelspec": {
   "display_name": "Python 3 (ipykernel)",
   "language": "python",
   "name": "python3"
  },
  "language_info": {
   "codemirror_mode": {
    "name": "ipython",
    "version": 3
   },
   "file_extension": ".py",
   "mimetype": "text/x-python",
   "name": "python",
   "nbconvert_exporter": "python",
   "pygments_lexer": "ipython3",
   "version": "3.10.14"
  }
 },
 "nbformat": 4,
 "nbformat_minor": 5
}
